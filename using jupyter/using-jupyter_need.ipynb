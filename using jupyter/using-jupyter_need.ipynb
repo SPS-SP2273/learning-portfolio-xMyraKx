{
 "cells": [
  {
   "cell_type": "markdown",
   "id": "571bb565-d517-4e88-ac12-0e5cc5298142",
   "metadata": {},
   "source": [
    "The ships *hung in the sky* in much the same way that **bricks don't.**<sup>1</sup><sub>QUOTE</sub>"
   ]
  },
  {
   "cell_type": "markdown",
   "id": "6cff0d18-2622-485b-8f45-03e2f131212d",
   "metadata": {},
   "source": [
    "`print('Hello World!')`"
   ]
  },
  {
   "cell_type": "markdown",
   "id": "eb13c6bb-50d5-4339-878d-fdb13316344d",
   "metadata": {},
   "source": [
    "```python\n",
    "print('Hello World!')\n",
    "```"
   ]
  },
  {
   "cell_type": "markdown",
   "id": "f5431dbf-f648-4180-b18c-4ef88567efb2",
   "metadata": {},
   "source": [
    "[SP2273 Website](https://sps.nus.edu.sg/sp2273/docs/python_basics/01_using_jupyter/1_using-jupyter_need.html)"
   ]
  },
  {
   "attachments": {},
   "cell_type": "markdown",
   "id": "062d3b73-0862-4878-87f6-8698462b4468",
   "metadata": {},
   "source": [
    "![](https://assets.wwf.org.au/image/upload/c_fill,g_auto,w_1400/f_auto/q_auto/v1/website-media/news-blogs/platypus_naturepicturelibrary?q=75)\n"
   ]
  },
  {
   "cell_type": "markdown",
   "id": "8cff0def-914a-4f4c-8fa4-2e0a652c4263",
   "metadata": {},
   "source": [
    "\\begin{table}[]\n",
    "\\begin{tabular}{lllll}\n",
    "1 & 2 & 3 & 3 &  \\\\\n",
    "5 & 6 & 2 & 8 &  \\\\\n",
    "  &   &   &   &  \\\\\n",
    "  &   &   &   & \n",
    "\\end{tabular}\n",
    "\\end{table}"
   ]
  },
  {
   "cell_type": "markdown",
   "id": "01b980d3-4bae-4c92-8712-b38482fd92ca",
   "metadata": {},
   "source": [
    "1. Spinner Dolphins\n",
    "1. Bottlenose Dolphins\n",
    "1. Pink Dolphins"
   ]
  },
  {
   "cell_type": "markdown",
   "id": "5c74eb4c-0fc8-4741-b26a-ddb54435b004",
   "metadata": {},
   "source": [
    "- Spinner Dolphins\n",
    "- Bottlenose Dolphins\n",
    "- Pink Dolphins"
   ]
  },
  {
   "cell_type": "markdown",
   "id": "bce70b9e-5d20-4987-a33d-d5f884a190fb",
   "metadata": {},
   "source": [
    "1. Spinner Dolphins\n",
    "   1. Spinny\n",
    "1. Bottlenose Dolphins\n",
    "   1. Not bottles\n",
    "1. Pink Dolphins\n",
    "   1. Beverage"
   ]
  },
  {
   "cell_type": "markdown",
   "id": "fe6dc7a9-02ed-4068-b789-b86503fd24cd",
   "metadata": {},
   "source": [
    "1. Spinner Dolphins\n",
    "   -  Spinny\n",
    "1. Bottlenose Dolphins\n",
    "   -  Not bottles\n",
    "1. Pink Dolphins\n",
    "   -  Beverage"
   ]
  },
  {
   "cell_type": "markdown",
   "id": "edc18cbb-e5c6-4f07-a5eb-363f11b9ae75",
   "metadata": {},
   "source": [
    "$\\sqrt{b^2-4ac}$"
   ]
  },
  {
   "cell_type": "markdown",
   "id": "81bd12d4-6415-4a47-814e-c2c3b0f6d784",
   "metadata": {},
   "source": [
    "$$\n",
    "x =\\dfrac{-b\\pm\\sqrt{b^2-4ac}}{2a}\n",
    "$$"
   ]
  },
  {
   "cell_type": "code",
   "execution_count": null,
   "id": "68c5ce73-3c7b-49e4-8c68-4e011156e3d3",
   "metadata": {},
   "outputs": [],
   "source": []
  }
 ],
 "metadata": {
  "kernelspec": {
   "display_name": "Python 3 (ipykernel)",
   "language": "python",
   "name": "python3"
  },
  "language_info": {
   "codemirror_mode": {
    "name": "ipython",
    "version": 3
   },
   "file_extension": ".py",
   "mimetype": "text/x-python",
   "name": "python",
   "nbconvert_exporter": "python",
   "pygments_lexer": "ipython3",
   "version": "3.11.7"
  }
 },
 "nbformat": 4,
 "nbformat_minor": 5
}

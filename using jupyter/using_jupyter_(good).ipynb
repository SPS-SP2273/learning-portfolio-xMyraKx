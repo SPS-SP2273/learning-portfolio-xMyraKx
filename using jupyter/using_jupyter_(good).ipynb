{
 "cells": [
  {
   "attachments": {},
   "cell_type": "markdown",
   "id": "123456",
   "metadata": {},
   "source": [
    "<div style=\"text-align:left;font-size:2em\"><span style=\"font-weight:bolder;font-size:1.25em\">SP2273 | Learning Portfolio</span><br><br><span style=\"font-weight:bold;color:darkred\">Using Jupyter (Good)</span></div>"
   ]
  },
  {
   "attachments": {},
   "cell_type": "markdown",
   "id": "2dd2c234",
   "metadata": {},
   "source": [
    "# What to expect in this chapter"
   ]
  },
  {
   "attachments": {},
   "cell_type": "markdown",
   "id": "4fd39855",
   "metadata": {},
   "source": [
    "# 1 Some tips and tricks"
   ]
  },
  {
   "attachments": {},
   "cell_type": "markdown",
   "id": "17fb7531",
   "metadata": {},
   "source": [
    "## 1.1 Keyboard Shortcuts"
   ]
  },
  {
   "cell_type": "markdown",
   "id": "65c97d27-a38b-4ce3-9ea7-9899c404d9c4",
   "metadata": {},
   "source": [
    "### Action\tShortcut\n",
    "- Run cell\tCTRL + ENTER or CMD + ENTER\n",
    "- Run cell and move to the next\tSHIFT + ENTER\n",
    "- Convert cell to code cell\tESC + Y\n",
    "- Convert cell to Markdown cell\tESC + M\n",
    "- Create new cell\tESC + A (above) OR ESC + B (below)\n",
    "- Copy cell(s)\tESC + C\n",
    "- Paste cell(s)\tESC + V\n",
    "- Merge cells\tSHIFT + M\n",
    "- Delete cell\tESC + D + D\n",
    "- Show shortcuts\tESC + H"
   ]
  },
  {
   "cell_type": "code",
   "execution_count": null,
   "id": "0f635c0f-efcb-4e4e-bebf-2933321bcfaa",
   "metadata": {},
   "outputs": [],
   "source": [
    "print('muahaha'*5)\n",
    "\n",
    "print('hahah'*5)"
   ]
  },
  {
   "cell_type": "markdown",
   "id": "befd073c-42f0-46e8-8dd0-b562fa36e3d8",
   "metadata": {},
   "source": [
    "yay merged"
   ]
  },
  {
   "attachments": {},
   "cell_type": "markdown",
   "id": "a3c6df0c",
   "metadata": {},
   "source": [
    "### Things to note"
   ]
  },
  {
   "cell_type": "markdown",
   "id": "0ee33de8-f891-4ac2-a837-9c076e7ced44",
   "metadata": {},
   "source": [
    "- You can select one or more cells using `SHIFT` and the up and down arrow keys.\n",
    "- Be careful with the delete shortcut; it can be ruthless.\n",
    "- You can view (and set) shortcuts for Jupyter Notebooks by typing `ESC + H`\n"
   ]
  },
  {
   "attachments": {},
   "cell_type": "markdown",
   "id": "20b43850",
   "metadata": {},
   "source": [
    "## 1.2 Shell commands"
   ]
  },
  {
   "cell_type": "code",
   "execution_count": 5,
   "id": "c55d452b-a129-4805-9646-2e18c4ece677",
   "metadata": {},
   "outputs": [
    {
     "name": "stdout",
     "output_type": "stream",
     "text": [
      "using-jupyter_good.ipynb   using_jupyter_(good).ipynb\n",
      "using-jupyter_need.ipynb   using_jupyter_(need).ipynb\n"
     ]
    }
   ],
   "source": [
    "!ls"
   ]
  },
  {
   "cell_type": "markdown",
   "id": "250a3d83-2986-429b-b333-32586bce23bf",
   "metadata": {},
   "source": [
    "Anything you can do in the terminal you can do it here!\n",
    "\n",
    "Google the right commands as needed\n",
    "\n",
    "If the responses gets crazy, go and \"clear all cells\" as needed from the control bar"
   ]
  },
  {
   "attachments": {},
   "cell_type": "markdown",
   "id": "6e073893",
   "metadata": {},
   "source": [
    "# 2 Jupyter Extensions"
   ]
  },
  {
   "cell_type": "markdown",
   "id": "9cd4ada3-48c2-45f7-b655-4de2361ff5da",
   "metadata": {},
   "source": [
    "The latest jupyter update has made many of the third party extensions unable to work so we'll skip this for now"
   ]
  },
  {
   "attachments": {},
   "cell_type": "markdown",
   "id": "1221667c",
   "metadata": {},
   "source": [
    "## 2.1 Installing the extensions"
   ]
  },
  {
   "attachments": {},
   "cell_type": "markdown",
   "id": "d95f654c",
   "metadata": {},
   "source": [
    "## 2.2 Enabling the extensions"
   ]
  },
  {
   "attachments": {},
   "cell_type": "markdown",
   "id": "c07238c8",
   "metadata": {},
   "source": [
    "# 3 Shell Magic"
   ]
  },
  {
   "cell_type": "markdown",
   "id": "742b5e9f-cbd1-4bf3-8ccd-6ba4d13fe2ac",
   "metadata": {},
   "source": [
    "Magic commands!"
   ]
  },
  {
   "cell_type": "markdown",
   "id": "c5190750-5916-40ba-9e99-2a375a2b00a3",
   "metadata": {},
   "source": [
    "To know how long something is taking to run (helpful to know what is more efficient):"
   ]
  },
  {
   "cell_type": "code",
   "execution_count": 6,
   "id": "fb40ebd9-07a7-433d-86f4-425db0967a4a",
   "metadata": {},
   "outputs": [
    {
     "name": "stdout",
     "output_type": "stream",
     "text": [
      "5.56 ns ± 0.0284 ns per loop (mean ± std. dev. of 7 runs, 100,000,000 loops each)\n"
     ]
    }
   ],
   "source": [
    "%timeit x=10"
   ]
  },
  {
   "cell_type": "code",
   "execution_count": 9,
   "id": "9d1c9507-e433-451e-8d2f-d9b476495bd1",
   "metadata": {},
   "outputs": [
    {
     "name": "stdout",
     "output_type": "stream",
     "text": [
      "14.3 ns ± 0.132 ns per loop (mean ± std. dev. of 7 runs, 100,000,000 loops each)\n"
     ]
    }
   ],
   "source": [
    "%%timeit\n",
    "x=10\n",
    "y=x^2"
   ]
  },
  {
   "cell_type": "markdown",
   "id": "33c17455-e9e6-460c-b919-5bfa97926b9e",
   "metadata": {},
   "source": [
    "To list all the magic commands..."
   ]
  },
  {
   "cell_type": "code",
   "execution_count": 10,
   "id": "a9cc871d-ebeb-4b44-8b8d-3f3c2c088ece",
   "metadata": {},
   "outputs": [
    {
     "data": {
      "application/json": {
       "cell": {
        "!": "OSMagics",
        "HTML": "Other",
        "SVG": "Other",
        "bash": "Other",
        "capture": "ExecutionMagics",
        "code_wrap": "ExecutionMagics",
        "debug": "ExecutionMagics",
        "file": "Other",
        "html": "DisplayMagics",
        "javascript": "DisplayMagics",
        "js": "DisplayMagics",
        "latex": "DisplayMagics",
        "markdown": "DisplayMagics",
        "perl": "Other",
        "prun": "ExecutionMagics",
        "pypy": "Other",
        "python": "Other",
        "python2": "Other",
        "python3": "Other",
        "ruby": "Other",
        "script": "ScriptMagics",
        "sh": "Other",
        "svg": "DisplayMagics",
        "sx": "OSMagics",
        "system": "OSMagics",
        "time": "ExecutionMagics",
        "timeit": "ExecutionMagics",
        "writefile": "OSMagics"
       },
       "line": {
        "alias": "OSMagics",
        "alias_magic": "BasicMagics",
        "autoawait": "AsyncMagics",
        "autocall": "AutoMagics",
        "automagic": "AutoMagics",
        "autosave": "KernelMagics",
        "bookmark": "OSMagics",
        "cat": "Other",
        "cd": "OSMagics",
        "clear": "KernelMagics",
        "code_wrap": "ExecutionMagics",
        "colors": "BasicMagics",
        "conda": "PackagingMagics",
        "config": "ConfigMagics",
        "connect_info": "KernelMagics",
        "cp": "Other",
        "debug": "ExecutionMagics",
        "dhist": "OSMagics",
        "dirs": "OSMagics",
        "doctest_mode": "BasicMagics",
        "ed": "Other",
        "edit": "KernelMagics",
        "env": "OSMagics",
        "gui": "BasicMagics",
        "hist": "Other",
        "history": "HistoryMagics",
        "killbgscripts": "ScriptMagics",
        "ldir": "Other",
        "less": "KernelMagics",
        "lf": "Other",
        "lk": "Other",
        "ll": "Other",
        "load": "CodeMagics",
        "load_ext": "ExtensionMagics",
        "loadpy": "CodeMagics",
        "logoff": "LoggingMagics",
        "logon": "LoggingMagics",
        "logstart": "LoggingMagics",
        "logstate": "LoggingMagics",
        "logstop": "LoggingMagics",
        "ls": "Other",
        "lsmagic": "BasicMagics",
        "lx": "Other",
        "macro": "ExecutionMagics",
        "magic": "BasicMagics",
        "mamba": "PackagingMagics",
        "man": "KernelMagics",
        "matplotlib": "PylabMagics",
        "micromamba": "PackagingMagics",
        "mkdir": "Other",
        "more": "KernelMagics",
        "mv": "Other",
        "notebook": "BasicMagics",
        "page": "BasicMagics",
        "pastebin": "CodeMagics",
        "pdb": "ExecutionMagics",
        "pdef": "NamespaceMagics",
        "pdoc": "NamespaceMagics",
        "pfile": "NamespaceMagics",
        "pinfo": "NamespaceMagics",
        "pinfo2": "NamespaceMagics",
        "pip": "PackagingMagics",
        "popd": "OSMagics",
        "pprint": "BasicMagics",
        "precision": "BasicMagics",
        "prun": "ExecutionMagics",
        "psearch": "NamespaceMagics",
        "psource": "NamespaceMagics",
        "pushd": "OSMagics",
        "pwd": "OSMagics",
        "pycat": "OSMagics",
        "pylab": "PylabMagics",
        "qtconsole": "KernelMagics",
        "quickref": "BasicMagics",
        "recall": "HistoryMagics",
        "rehashx": "OSMagics",
        "reload_ext": "ExtensionMagics",
        "rep": "Other",
        "rerun": "HistoryMagics",
        "reset": "NamespaceMagics",
        "reset_selective": "NamespaceMagics",
        "rm": "Other",
        "rmdir": "Other",
        "run": "ExecutionMagics",
        "save": "CodeMagics",
        "sc": "OSMagics",
        "set_env": "OSMagics",
        "store": "StoreMagics",
        "sx": "OSMagics",
        "system": "OSMagics",
        "tb": "ExecutionMagics",
        "time": "ExecutionMagics",
        "timeit": "ExecutionMagics",
        "unalias": "OSMagics",
        "unload_ext": "ExtensionMagics",
        "who": "NamespaceMagics",
        "who_ls": "NamespaceMagics",
        "whos": "NamespaceMagics",
        "xdel": "NamespaceMagics",
        "xmode": "BasicMagics"
       }
      },
      "text/plain": [
       "Available line magics:\n",
       "%alias  %alias_magic  %autoawait  %autocall  %automagic  %autosave  %bookmark  %cat  %cd  %clear  %code_wrap  %colors  %conda  %config  %connect_info  %cp  %debug  %dhist  %dirs  %doctest_mode  %ed  %edit  %env  %gui  %hist  %history  %killbgscripts  %ldir  %less  %lf  %lk  %ll  %load  %load_ext  %loadpy  %logoff  %logon  %logstart  %logstate  %logstop  %ls  %lsmagic  %lx  %macro  %magic  %mamba  %man  %matplotlib  %micromamba  %mkdir  %more  %mv  %notebook  %page  %pastebin  %pdb  %pdef  %pdoc  %pfile  %pinfo  %pinfo2  %pip  %popd  %pprint  %precision  %prun  %psearch  %psource  %pushd  %pwd  %pycat  %pylab  %qtconsole  %quickref  %recall  %rehashx  %reload_ext  %rep  %rerun  %reset  %reset_selective  %rm  %rmdir  %run  %save  %sc  %set_env  %store  %sx  %system  %tb  %time  %timeit  %unalias  %unload_ext  %who  %who_ls  %whos  %xdel  %xmode\n",
       "\n",
       "Available cell magics:\n",
       "%%!  %%HTML  %%SVG  %%bash  %%capture  %%code_wrap  %%debug  %%file  %%html  %%javascript  %%js  %%latex  %%markdown  %%perl  %%prun  %%pypy  %%python  %%python2  %%python3  %%ruby  %%script  %%sh  %%svg  %%sx  %%system  %%time  %%timeit  %%writefile\n",
       "\n",
       "Automagic is ON, % prefix IS NOT needed for line magics."
      ]
     },
     "execution_count": 10,
     "metadata": {},
     "output_type": "execute_result"
    }
   ],
   "source": [
    "%lsmagic\n"
   ]
  },
  {
   "cell_type": "code",
   "execution_count": null,
   "id": "b1c6a83c-eb9f-47f6-b2aa-c8eb2451eb1a",
   "metadata": {},
   "outputs": [],
   "source": []
  },
  {
   "attachments": {},
   "cell_type": "markdown",
   "id": "183281dc-012a-48e0-b605-0583e5c665e5",
   "metadata": {},
   "source": [
    "\n",
    "# 4 The Kernel\n",
    "\n"
   ]
  },
  {
   "cell_type": "code",
   "execution_count": 12,
   "id": "58d1b7aa-ad7c-4cf5-a7b2-db38d97f179b",
   "metadata": {},
   "outputs": [
    {
     "name": "stdout",
     "output_type": "stream",
     "text": [
      "x\n"
     ]
    }
   ],
   "source": [
    "print('x')"
   ]
  },
  {
   "cell_type": "markdown",
   "id": "7d0c8943-7f9c-4cb6-b8df-72555c7b86cd",
   "metadata": {},
   "source": [
    "BTS work of running Jupyter is done by a sub-routine called the kernel. Kill the Kernel in the control bar if stuff gets buggy."
   ]
  },
  {
   "cell_type": "code",
   "execution_count": null,
   "id": "9b2dddfb-d309-4ccf-8f15-de99bf3742b1",
   "metadata": {},
   "outputs": [],
   "source": []
  }
 ],
 "metadata": {
  "kernelspec": {
   "display_name": "Python 3 (ipykernel)",
   "language": "python",
   "name": "python3"
  },
  "language_info": {
   "codemirror_mode": {
    "name": "ipython",
    "version": 3
   },
   "file_extension": ".py",
   "mimetype": "text/x-python",
   "name": "python",
   "nbconvert_exporter": "python",
   "pygments_lexer": "ipython3",
   "version": "3.11.7"
  },
  "toc": {
   "base_numbering": 1,
   "nav_menu": {},
   "number_sections": true,
   "sideBar": true,
   "skip_h1_title": false,
   "title_cell": "Table of Contents",
   "title_sidebar": "Contents",
   "toc_cell": false,
   "toc_position": {},
   "toc_section_display": true,
   "toc_window_display": false
  },
  "vscode": {
   "interpreter": {
    "hash": "31f2aee4e71d21fbe5cf8b01ff0e069b9275f58929596ceb00d14d90e3e16cd6"
   }
  }
 },
 "nbformat": 4,
 "nbformat_minor": 5
}

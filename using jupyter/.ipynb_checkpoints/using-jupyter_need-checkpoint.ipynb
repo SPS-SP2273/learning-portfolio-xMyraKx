{
 "cells": [
  {
   "cell_type": "markdown",
   "id": "571bb565-d517-4e88-ac12-0e5cc5298142",
   "metadata": {},
   "source": [
    "The ships *hung in the sky* in much the same way that **bricks don't.**<sup>1</sup><sub>QUOTE</sub>"
   ]
  },
  {
   "cell_type": "markdown",
   "id": "d87d54c4-98e0-423f-8c02-d5b688bb98b1",
   "metadata": {},
   "source": [
    "Basic shortcuts for this session:\n",
    "- cmd + enter (Run)\n",
    "- Esc + a OR b (Insert new cell above or below)\n",
    "- Esc + m (Change from code to markdown cell) "
   ]
  },
  {
   "cell_type": "markdown",
   "id": "6cff0d18-2622-485b-8f45-03e2f131212d",
   "metadata": {},
   "source": [
    "`print('Hello World!')`"
   ]
  },
  {
   "cell_type": "markdown",
   "id": "eb13c6bb-50d5-4339-878d-fdb13316344d",
   "metadata": {},
   "source": [
    "```python\n",
    "print('Hello World!')\n",
    "```"
   ]
  },
  {
   "cell_type": "code",
   "execution_count": 1,
   "id": "dcca0f74-1908-4977-b2e9-6ac0f15d3808",
   "metadata": {},
   "outputs": [
    {
     "name": "stdout",
     "output_type": "stream",
     "text": [
      "Hello Myra!\n"
     ]
    }
   ],
   "source": [
    "print('Hello Myra!')"
   ]
  },
  {
   "cell_type": "markdown",
   "id": "f5431dbf-f648-4180-b18c-4ef88567efb2",
   "metadata": {},
   "source": [
    "[SP2273 Website](https://sps.nus.edu.sg/sp2273/docs/python_basics/01_using_jupyter/1_using-jupyter_need.html)"
   ]
  },
  {
   "attachments": {},
   "cell_type": "markdown",
   "id": "062d3b73-0862-4878-87f6-8698462b4468",
   "metadata": {},
   "source": [
    "![](https://assets.wwf.org.au/image/upload/c_fill,g_auto,w_1400/f_auto/q_auto/v1/website-media/news-blogs/platypus_naturepicturelibrary?q=75)\n"
   ]
  },
  {
   "cell_type": "markdown",
   "id": "8cff0def-914a-4f4c-8fa4-2e0a652c4263",
   "metadata": {},
   "source": [
    "\\begin{table}[]\n",
    "\\begin{tabular}{lllll}\n",
    "1 & 2 & 3 & 3 &  \\\\\n",
    "5 & 6 & 2 & 8 &  \\\\\n",
    "  &   &   &   &  \\\\\n",
    "  &   &   &   & \n",
    "\\end{tabular}\n",
    "\\end{table}"
   ]
  },
  {
   "cell_type": "markdown",
   "id": "e0f570a2-69e9-4ccb-8a7c-e67c77e22748",
   "metadata": {},
   "source": [
    "The above syntax doesn't work...why? Because we did not add flanking $$ ?"
   ]
  },
  {
   "cell_type": "markdown",
   "id": "98854d0f-d0aa-47ac-a97c-6aa8b3f25279",
   "metadata": {},
   "source": [
    "$$\n",
    "\\begin{table}[]\n",
    "\\begin{tabular}{lllll}\n",
    "1 & 2 & 3 & 3 &  \\\\\n",
    "5 & 6 & 2 & 8 &  \\\\\n",
    "  &   &   &   &  \\\\\n",
    "  &   &   &   & \n",
    "\\end{tabular}\n",
    "\\end{table} \n",
    "$$"
   ]
  },
  {
   "cell_type": "markdown",
   "id": "ce5f36cf-39f2-4d9f-9696-3c18a1af7d84",
   "metadata": {},
   "source": [
    "Nope, still doesn't work! Try this...array instead of tabular"
   ]
  },
  {
   "cell_type": "markdown",
   "id": "bc6bf37a-9c1d-40d5-95e7-ef87959662eb",
   "metadata": {},
   "source": [
    "$$\n",
    "\\begin{array}{lllll}\n",
    "1 & 2 & 3 & 3 &  \\\\\n",
    "\\hline\n",
    "5 & 6 & 2 & 8 &  \\\\\n",
    "  &   &   &   &  \\\\\n",
    "  &   &   &   & \n",
    "\\end{array}\n",
    "$$\n",
    "\n",
    "It works!"
   ]
  },
  {
   "cell_type": "markdown",
   "id": "2dbc1b06-3234-4392-8a37-b4dc28bab866",
   "metadata": {},
   "source": [
    "Why? tabular means the table's contents will be in text mode while what we needed here, as we we're keying in numbers, is array which sets up the environment in math mode"
   ]
  },
  {
   "cell_type": "markdown",
   "id": "01b980d3-4bae-4c92-8712-b38482fd92ca",
   "metadata": {},
   "source": [
    "1. Spinner Dolphins\n",
    "1. Bottlenose Dolphins\n",
    "1. Pink Dolphins"
   ]
  },
  {
   "cell_type": "markdown",
   "id": "5c74eb4c-0fc8-4741-b26a-ddb54435b004",
   "metadata": {},
   "source": [
    "- Spinner Dolphins\n",
    "- Bottlenose Dolphins\n",
    "- Pink Dolphins"
   ]
  },
  {
   "cell_type": "markdown",
   "id": "bce70b9e-5d20-4987-a33d-d5f884a190fb",
   "metadata": {},
   "source": [
    "1. Spinner Dolphins\n",
    "   1. Spinny\n",
    "1. Bottlenose Dolphins\n",
    "   1. Not bottles\n",
    "1. Pink Dolphins\n",
    "   1. Beverage"
   ]
  },
  {
   "cell_type": "markdown",
   "id": "fe6dc7a9-02ed-4068-b789-b86503fd24cd",
   "metadata": {},
   "source": [
    "1. Spinner Dolphins\n",
    "   -  Spinny\n",
    "1. Bottlenose Dolphins\n",
    "   -  Not bottles\n",
    "1. Pink Dolphins\n",
    "   -  Beverage"
   ]
  },
  {
   "cell_type": "markdown",
   "id": "edc18cbb-e5c6-4f07-a5eb-363f11b9ae75",
   "metadata": {},
   "source": [
    "$\\sqrt{b^2-4ac}$"
   ]
  },
  {
   "cell_type": "markdown",
   "id": "81bd12d4-6415-4a47-814e-c2c3b0f6d784",
   "metadata": {},
   "source": [
    "$$\n",
    "x =\\dfrac{-b\\pm\\sqrt{b^2-4ac}}{2a}\n",
    "$$\n",
    "\n",
    "It's just latex!\n"
   ]
  },
  {
   "cell_type": "markdown",
   "id": "19bd9f6d-1f4f-4c4d-9adc-e09d0a225530",
   "metadata": {},
   "source": []
  },
  {
   "cell_type": "markdown",
   "id": "3424ffb5-73d8-4fbf-83dc-659a6185f2d5",
   "metadata": {},
   "source": [
    "# Big\n",
    "## smaller\n",
    "### even smaller\n",
    "#### even even smaller\n",
    "##### even even even smaller\n",
    "###### smallest\n",
    "####### smallest\n",
    "\n",
    "Make the smallest text size with 6 #s"
   ]
  },
  {
   "cell_type": "markdown",
   "id": "4d480be5-6ede-4225-a88a-194571c3d89c",
   "metadata": {},
   "source": [
    "| A    |  B   |    C |\n",
    "| :--- | :--: | ---: |\n",
    "| a1   |  b1  |   c1 |\n",
    "| a2   |  b2  |   c2 |\n",
    "| a3   |  b3  |   c3 |\n",
    "\n",
    "\n",
    "Note the dash and colon arrangements...it is to make the text left right or centre justified\n",
    "\n",
    "Because this is rather arduos to type, you can make it in a spreadsheet software and copy and paste."
   ]
  },
  {
   "cell_type": "markdown",
   "id": "66f6b7dc-d4ed-40be-a111-5da3cf3a76f5",
   "metadata": {},
   "source": [
    "I'm trying to make a footnote^[footnote]"
   ]
  },
  {
   "cell_type": "code",
   "execution_count": null,
   "id": "574f7659-4201-4cbb-a801-81a3ff8a0d8a",
   "metadata": {},
   "outputs": [],
   "source": []
  }
 ],
 "metadata": {
  "kernelspec": {
   "display_name": "Python 3 (ipykernel)",
   "language": "python",
   "name": "python3"
  },
  "language_info": {
   "codemirror_mode": {
    "name": "ipython",
    "version": 3
   },
   "file_extension": ".py",
   "mimetype": "text/x-python",
   "name": "python",
   "nbconvert_exporter": "python",
   "pygments_lexer": "ipython3",
   "version": "3.11.7"
  }
 },
 "nbformat": 4,
 "nbformat_minor": 5
}

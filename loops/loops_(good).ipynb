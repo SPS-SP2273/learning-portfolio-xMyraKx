{
 "cells": [
  {
   "attachments": {},
   "cell_type": "markdown",
   "id": "123456",
   "metadata": {},
   "source": [
    "<div style=\"text-align:left;font-size:2em\"><span style=\"font-weight:bolder;font-size:1.25em\">SP2273 | Learning Portfolio</span><br><br><span style=\"font-weight:bold;color:darkred\">Loops (Good)</span></div>"
   ]
  },
  {
   "attachments": {},
   "cell_type": "markdown",
   "id": "071a1d01",
   "metadata": {},
   "source": [
    "# What to expect in this chapter\n",
    "\n",
    "In this chapter, I will show you how to exercise more control over what happens in loops by using the __continue__ and __break__ statements. I will also introduce you to list comprehension, a super-optimised variant of the `for` a loop. You can use this to create list from other lists."
   ]
  },
  {
   "attachments": {},
   "cell_type": "markdown",
   "id": "5211aa20",
   "metadata": {},
   "source": [
    "# 1 Interrupting the flow"
   ]
  },
  {
   "cell_type": "markdown",
   "id": "74772630-e9e4-4b50-8ce8-359839a50dea",
   "metadata": {},
   "source": [
    "There are many instances when you want to change the flow of a loop from within. \n",
    "\n",
    "The two commands, __break__ and __continue__, allow us to do just that. Let me show you some examples of how to use them.\n",
    "\n"
   ]
  },
  {
   "cell_type": "code",
   "execution_count": 1,
   "id": "ae1c5b28-40c4-4bb4-81c1-08fcd7ce4ef8",
   "metadata": {},
   "outputs": [
    {
     "name": "stdout",
     "output_type": "stream",
     "text": [
      "0 1\n",
      "1 10\n",
      "2 100\n",
      "3 1000\n"
     ]
    }
   ],
   "source": [
    "#Example 1: Break-ing\n",
    "for power in range(5):\n",
    "    number = 10**power\n",
    "    if number > 5000:\n",
    "        break\n",
    "    print(power, number)"
   ]
  },
  {
   "cell_type": "markdown",
   "id": "f1c7c868-4fa7-4746-b570-f72ed83c8a70",
   "metadata": {},
   "source": [
    "- We use __break__ to break-out of the loop and terminate it.\n",
    "- We typically use it with `if` so that we break out if a certain condition is met.\n",
    "- This will also work with a `while` loop."
   ]
  },
  {
   "cell_type": "code",
   "execution_count": 3,
   "id": "8cbec6ce-7142-4235-ba85-4ee715a327b1",
   "metadata": {},
   "outputs": [
    {
     "name": "stdout",
     "output_type": "stream",
     "text": [
      "0 1\n",
      "1 10\n",
      "2 100\n",
      "4 10000\n"
     ]
    }
   ],
   "source": [
    "#Example 2: Continue\n",
    "#Also rmbr that the argument in the range function is counting in a zero-index way\n",
    "for power in range(5):\n",
    "    if power == 3:\n",
    "        continue        # Don't proceed further\n",
    "                        # IN THE CURRENT LOOP\n",
    "                        # if i == 3\n",
    "    number = 10**power\n",
    "    print(power, number)"
   ]
  },
  {
   "cell_type": "markdown",
   "id": "5517368f-36b0-4d01-9ee4-4005c67d32d9",
   "metadata": {},
   "source": [
    "Sometimes we want to __skip an iteration__ and just move on to the next. \n",
    "continue allows us to do this by skipping the operation of any iteration that fulfills the specific `if` or `while` condition specified before it.\n",
    "\n",
    "Notice how there is no printout for power = 3.\n",
    "continue too is typically used with `if`.\n",
    "This will also work with a `while` loop."
   ]
  },
  {
   "cell_type": "code",
   "execution_count": 4,
   "id": "c1f3b6f2-5c7e-4c15-b634-3a74d8c47fca",
   "metadata": {},
   "outputs": [
    {
     "name": "stdout",
     "output_type": "stream",
     "text": [
      "1\n",
      "3\n",
      "5\n",
      "7\n",
      "9\n"
     ]
    }
   ],
   "source": [
    "#Example 3:\n",
    "for number in range(10):\n",
    "    # Don't proceed if the remainder is zero\n",
    "    # I.e. if the number is even\n",
    "    if number % 2 == 0:\n",
    "        continue\n",
    "    print(number)"
   ]
  },
  {
   "cell_type": "code",
   "execution_count": 5,
   "id": "28f33149-a799-47f3-bf1b-da464531414e",
   "metadata": {},
   "outputs": [
    {
     "name": "stdout",
     "output_type": "stream",
     "text": [
      "0\n",
      "1\n",
      "2\n",
      "3\n",
      "4\n"
     ]
    }
   ],
   "source": [
    "#Example 4: \n",
    "number=0\n",
    "\n",
    "while True:\n",
    "    print(number)\n",
    "    number += 1\n",
    "    if number > 4: break\n",
    "\n"
   ]
  },
  {
   "cell_type": "markdown",
   "id": "3502e122-2473-411d-ab46-d4f6290a1ece",
   "metadata": {},
   "source": [
    "Notice that I setup the loop to run forever and use __break__ to stop it."
   ]
  },
  {
   "cell_type": "markdown",
   "id": "2e87f1b4-d894-432f-8b36-62c6187082a6",
   "metadata": {},
   "source": [
    "__Remember:__ Remember you can use break and continue to interrupt the flow of loops."
   ]
  },
  {
   "attachments": {},
   "cell_type": "markdown",
   "id": "c72536ef",
   "metadata": {},
   "source": [
    "# 2 List comprehension!"
   ]
  },
  {
   "cell_type": "markdown",
   "id": "1918e087-5d7f-4261-8450-f92c2da053cf",
   "metadata": {},
   "source": [
    "The exercises of the previous chapter had you using loops to create lists. However, creating new lists from other lists is so common that Python has an optimised syntax called __list comprehension__ to do just that. Here is how it works."
   ]
  },
  {
   "attachments": {},
   "cell_type": "markdown",
   "id": "408f3d07",
   "metadata": {},
   "source": [
    "## 2.1 Basic syntax"
   ]
  },
  {
   "cell_type": "code",
   "execution_count": 7,
   "id": "f409fec2-338d-4c56-87e1-b3bc4f0c9be9",
   "metadata": {},
   "outputs": [
    {
     "data": {
      "text/plain": [
       "[0, 1, 2, 3, 4]"
      ]
     },
     "execution_count": 7,
     "metadata": {},
     "output_type": "execute_result"
    }
   ],
   "source": [
    "#Adjoining\n",
    "[number for number in range(5)]"
   ]
  },
  {
   "cell_type": "markdown",
   "id": "f40e5d89-e96c-4fc0-b680-759843b24175",
   "metadata": {},
   "source": [
    "The adjoining creates a simple list with numbers from 0 to 4.\n",
    "The syntax is very similar to that of a for loop. You just need to put the thing you want as an output at the front."
   ]
  },
  {
   "cell_type": "code",
   "execution_count": 8,
   "id": "4882376d-be44-4ca0-8a4b-48b06e2e92d3",
   "metadata": {},
   "outputs": [
    {
     "data": {
      "text/plain": [
       "[0, 1, 4, 9, 16]"
      ]
     },
     "execution_count": 8,
     "metadata": {},
     "output_type": "execute_result"
    }
   ],
   "source": [
    "#You can use operations in adjoining too\n",
    "[number**2 for number in range(5)]"
   ]
  },
  {
   "attachments": {},
   "cell_type": "markdown",
   "id": "d07980be",
   "metadata": {},
   "source": [
    "## 2.2 List comprehension with conditions"
   ]
  },
  {
   "cell_type": "code",
   "execution_count": 9,
   "id": "4e8a477b-8051-497f-bc36-7436739e4ac9",
   "metadata": {},
   "outputs": [
    {
     "data": {
      "text/plain": [
       "[0, 2, 4, 6, 8]"
      ]
     },
     "execution_count": 9,
     "metadata": {},
     "output_type": "execute_result"
    }
   ],
   "source": [
    "#List comprehension can accomodate specific conditions!\n",
    "[number for number in range(10) if number % 2 ==0]"
   ]
  },
  {
   "attachments": {},
   "cell_type": "markdown",
   "id": "f1ee39c4",
   "metadata": {},
   "source": [
    "# 3 Other useful stuff"
   ]
  },
  {
   "attachments": {},
   "cell_type": "markdown",
   "id": "e650305e",
   "metadata": {},
   "source": [
    "## 3.1 `for` with unpacking"
   ]
  },
  {
   "cell_type": "markdown",
   "id": "cfa32813-bc15-4795-aebb-9208f632ffbb",
   "metadata": {},
   "source": [
    "Python allows a neat trick called __unpacking__, which works like this:"
   ]
  },
  {
   "cell_type": "code",
   "execution_count": 11,
   "id": "ce0c4e24-6038-4eef-93e6-38814b4350f0",
   "metadata": {},
   "outputs": [
    {
     "name": "stdout",
     "output_type": "stream",
     "text": [
      "x = 1, y = 2, z = 3\n"
     ]
    }
   ],
   "source": [
    "x, y, z=[1, 2, 3]\n",
    "print(f'x = {x}, y = {y}, z = {z}')\n",
    "#We unpack the initial list by each element and print them according to their assigned data pair"
   ]
  },
  {
   "cell_type": "markdown",
   "id": "9e648b35-8013-4f54-9b4d-b1644a6196cc",
   "metadata": {},
   "source": [
    "Naturally, we can see that __unpacking__ can be put to good use (for example) when we are dealing with __2D list__. We can combine unpacking with a for loop to extract elements as follows:\n",
    "\n"
   ]
  },
  {
   "cell_type": "code",
   "execution_count": 12,
   "id": "fd1ff965-c306-44d1-849a-8b2c4ba4c9bb",
   "metadata": {},
   "outputs": [
    {
     "name": "stdout",
     "output_type": "stream",
     "text": [
      "Natasha Romanoff is Marvel's Black Widow!\n",
      "Tony Stark is Marvel's Iron Man!\n",
      "Stephen Strange is Marvel's Doctor Strange!\n"
     ]
    }
   ],
   "source": [
    "py_superhero_info = [['Natasha Romanoff', 'Black Widow'],\n",
    "                     ['Tony Stark', 'Iron Man'],\n",
    "                     ['Stephen Strange', 'Doctor Strange']]\n",
    "\n",
    "for real_name, super_name in py_superhero_info:\n",
    "    print(f\"{real_name} is Marvel's {super_name}!\")"
   ]
  },
  {
   "cell_type": "code",
   "execution_count": null,
   "id": "50abe939-6d0d-4fcc-9f54-99b9252cc7e9",
   "metadata": {},
   "outputs": [],
   "source": []
  },
  {
   "attachments": {},
   "cell_type": "markdown",
   "id": "2bcbcb76",
   "metadata": {},
   "source": [
    "## 3.2 `for` with `zip()`"
   ]
  },
  {
   "cell_type": "markdown",
   "id": "c1db67d2-d965-4489-9c97-186081720e9f",
   "metadata": {},
   "source": [
    "Let’s revisit the example from the previous chapter that had two lists of real and superhero names that we used to print. There is yet another way to solve this task using a function called `zip()`. \n",
    "\n",
    "`zip()` is a neat function that can do some cool things. For the moment let me show you how to use `zip()` to __combine two lists__."
   ]
  },
  {
   "cell_type": "code",
   "execution_count": 13,
   "id": "e3cf7bb7-ebd9-4b5d-a8c3-303394b9c5a6",
   "metadata": {},
   "outputs": [
    {
     "name": "stdout",
     "output_type": "stream",
     "text": [
      "Natasha Romanoff is Marvel's Black Widow!\n",
      "Tony Stark is Marvel's Iron Man!\n",
      "Stephen Strange is Marvel's Doctor Strange!\n"
     ]
    }
   ],
   "source": [
    "super_names = [\"Black Widow\", \"Iron Man\", \"Doctor Strange\"]\n",
    "real_names = [\"Natasha Romanoff\", \"Tony Stark\", \"Stephen Strange\"]\n",
    "\n",
    "for real_name, super_name in zip(real_names,super_names): #zip() combines the 2 independent lists to be able to be indexed from in the same line of code\n",
    "    print(f\"{real_name} is Marvel's {super_name}!\")"
   ]
  },
  {
   "cell_type": "markdown",
   "id": "9a027f63-f19f-45a2-8b4e-b4fe8a68452a",
   "metadata": {},
   "source": [
    "This is by far the most _elegant solution_ we have for using multiple lists with a for loop."
   ]
  },
  {
   "attachments": {},
   "cell_type": "markdown",
   "id": "c6521209",
   "metadata": {},
   "source": [
    "## 3.3 `for` with dictionaries"
   ]
  },
  {
   "cell_type": "markdown",
   "id": "47005683-eb55-4697-9bcb-d60e566ab73d",
   "metadata": {},
   "source": [
    "You will invariably need to __loop through dictionaries__ in your programming career. Here is how you can do it with a `for` loop."
   ]
  },
  {
   "cell_type": "code",
   "execution_count": 15,
   "id": "75dfa418-931f-4e67-bb31-76004cf7e01b",
   "metadata": {},
   "outputs": [
    {
     "name": "stdout",
     "output_type": "stream",
     "text": [
      "Natasha Romanoff is Marvel's Black Widow!\n",
      "Tony Stark is Marvel's Iron Man!\n",
      "Stephen Strange is Marvel's Doctor Strange!\n"
     ]
    }
   ],
   "source": [
    "superhero_info={\"Natasha Romanoff\": \"Black Widow\",\n",
    "                \"Tony Stark\": \"Iron Man\",\n",
    "                \"Stephen Strange\": \"Doctor Strange\"}\n",
    "\n",
    "for key, value in superhero_info.items(): #.items spits out both the key and its \n",
    "                                        #corresponding value\n",
    "\n",
    "    print(f\"{key} is Marvel's {value}!\") #And it's as easy as telling python which \n",
    "                                        #to print where with the specified terms\n",
    "                                        #which in this case is key and value"
   ]
  },
  {
   "cell_type": "code",
   "execution_count": 18,
   "id": "b4772256-ac57-4f2d-bb28-5e450dfa374a",
   "metadata": {},
   "outputs": [
    {
     "name": "stdout",
     "output_type": "stream",
     "text": [
      "Natasha Romanoff is Marvel's Black Widow!\n",
      "Tony Stark is Marvel's Iron Man!\n",
      "Stephen Strange is Marvel's Doctor Strange!\n"
     ]
    }
   ],
   "source": [
    "#If you like, you can directly access the keys as follows:\n",
    "for key in superhero_info.keys():\n",
    "    value=superhero_info[key] #Then you just go through an extra step of separately defining what 'value' is\n",
    "    print(f\"{key} is Marvel's {value}!\")\n",
    "#Final output will be the same"
   ]
  },
  {
   "cell_type": "markdown",
   "id": "937ae872-b439-4cae-b6a9-240f0e2875bd",
   "metadata": {},
   "source": [
    "__Note:__ By the way, I have used the variable names 'key' and 'value' to highlight their roles in the dictionary. But you can use whatever you like. In fact, using real_name and super_name is preferred."
   ]
  },
  {
   "attachments": {},
   "cell_type": "markdown",
   "id": "fd9b5240",
   "metadata": {},
   "source": [
    "## Footnotes"
   ]
  }
 ],
 "metadata": {
  "kernelspec": {
   "display_name": "Python 3 (ipykernel)",
   "language": "python",
   "name": "python3"
  },
  "language_info": {
   "codemirror_mode": {
    "name": "ipython",
    "version": 3
   },
   "file_extension": ".py",
   "mimetype": "text/x-python",
   "name": "python",
   "nbconvert_exporter": "python",
   "pygments_lexer": "ipython3",
   "version": "3.11.7"
  },
  "toc": {
   "base_numbering": 1,
   "nav_menu": {},
   "number_sections": true,
   "sideBar": true,
   "skip_h1_title": false,
   "title_cell": "Table of Contents",
   "title_sidebar": "Contents",
   "toc_cell": false,
   "toc_position": {},
   "toc_section_display": true,
   "toc_window_display": false
  },
  "vscode": {
   "interpreter": {
    "hash": "31f2aee4e71d21fbe5cf8b01ff0e069b9275f58929596ceb00d14d90e3e16cd6"
   }
  }
 },
 "nbformat": 4,
 "nbformat_minor": 5
}

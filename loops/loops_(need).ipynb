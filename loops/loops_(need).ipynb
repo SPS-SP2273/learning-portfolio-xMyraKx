{
 "cells": [
  {
   "attachments": {},
   "cell_type": "markdown",
   "id": "123456",
   "metadata": {},
   "source": [
    "<div style=\"text-align:left;font-size:2em\"><span style=\"font-weight:bolder;font-size:1.25em\">SP2273 | Learning Portfolio</span><br><br><span style=\"font-weight:bold;color:darkred\">Loops (Need)</span></div>"
   ]
  },
  {
   "attachments": {},
   "cell_type": "markdown",
   "id": "9a93c30d",
   "metadata": {},
   "source": [
    "# What to expect in this chapter"
   ]
  },
  {
   "cell_type": "markdown",
   "id": "f1606a86-fc9f-42cd-bddc-196ed6fac644",
   "metadata": {},
   "source": [
    "Computers excel at mindless repetitive tasks. This section will show you how to repeat things in Python. This topic is called _loops_ or _iterations_ and is one of the most valuable features of any programming language.\n",
    "\n"
   ]
  },
  {
   "cell_type": "markdown",
   "id": "30febabb-0906-4811-be65-1bdfb983ea23",
   "metadata": {},
   "source": [
    "Python offers two mechanisms for looping. One is the `for` statement, and the other is the `while` statement. We will spend more time on the former as it is the more used of the two.\n",
    "\n"
   ]
  },
  {
   "attachments": {},
   "cell_type": "markdown",
   "id": "6e406a81",
   "metadata": {},
   "source": [
    "# 1 The for iterator"
   ]
  },
  {
   "cell_type": "code",
   "execution_count": 1,
   "id": "e5b3b800-a55d-4839-9c0e-98e6cd3ec393",
   "metadata": {},
   "outputs": [
    {
     "name": "stdout",
     "output_type": "stream",
     "text": [
      "Natasha Romanoff is a Marvel superhero!\n",
      "Tony Stark is a Marvel superhero!\n",
      "Stephen Strange is a Marvel superhero!\n"
     ]
    }
   ],
   "source": [
    "#An example of a mundane repeptitive task\n",
    "real_names = [\"Natasha Romanoff\", \"Tony Stark\", \"Stephen Strange\"]\n",
    "\n",
    "name=real_names[0]\n",
    "print(f\"{name} is a Marvel superhero!\")\n",
    "\n",
    "name=real_names[1]\n",
    "print(f\"{name} is a Marvel superhero!\")\n",
    "\n",
    "name=real_names[2]\n",
    "print(f\"{name} is a Marvel superhero!\")"
   ]
  },
  {
   "cell_type": "markdown",
   "id": "3a2dd613-cdac-440d-8ac0-f760b897e032",
   "metadata": {},
   "source": [
    "The above way of programming is not very good because:\n",
    "\n",
    "-  it does not scale very well (imagine if you have a 100 names!),\n",
    "-  it is cumbersome to make changes, you have to do it three times.\n",
    "-  it is highly error prone, since you need to type something new (even if you are copying and pasting most of it).\n",
    "\n",
    "This is where a `for` loop can come in handy."
   ]
  },
  {
   "attachments": {},
   "cell_type": "markdown",
   "id": "c434574f",
   "metadata": {},
   "source": [
    "## 1.1 for with a list"
   ]
  },
  {
   "cell_type": "code",
   "execution_count": 2,
   "id": "966c9e4c-ffb2-46a4-9417-b43bf7457abe",
   "metadata": {},
   "outputs": [
    {
     "name": "stdout",
     "output_type": "stream",
     "text": [
      "Natasha Romanoff is a Marvel superhero!\n",
      "Tony Stark is a Marvel superhero!\n",
      "Stephen Strange is a Marvel superhero!\n"
     ]
    }
   ],
   "source": [
    "#I can achieve the same result using a for loop as follows:\n",
    "\n",
    "for name in real_names:\n",
    "    print(f\"{name} is a Marvel superhero!\")"
   ]
  },
  {
   "cell_type": "markdown",
   "id": "ed8908f3-fec5-49ce-ab61-6d1f49c04778",
   "metadata": {},
   "source": [
    "__Notice the structure of the `for` loop;__\n",
    "\n",
    "- it goes through the list and assigns `name` the value of _each element_ of the list.\n",
    "- it then _runs_ the code-block using this value of `name`.\n",
    "- the code block is designated by using `:` and tabs like with `if`."
   ]
  },
  {
   "cell_type": "markdown",
   "id": "6a4f0d5b-73fc-4c40-be7c-d4516cdf0967",
   "metadata": {},
   "source": [
    "__Remember:__\n",
    "Remember that `for` can be used to directly loop through a list"
   ]
  },
  {
   "cell_type": "markdown",
   "id": "d6c7b32d-ccb9-4df4-a76e-48327c0d76c1",
   "metadata": {},
   "source": [
    "By the way, there is nothing special about the names of the variables I have used. The following will work too. However, it will not be very readable because `x` is a bit cryptic in this context."
   ]
  },
  {
   "cell_type": "code",
   "execution_count": 4,
   "id": "264888ff-4c74-4e08-ab1f-b4a7055db32b",
   "metadata": {},
   "outputs": [
    {
     "name": "stdout",
     "output_type": "stream",
     "text": [
      "Natasha Romanoff is a Marvel superhero!\n",
      "Tony Stark is a Marvel superhero!\n",
      "Stephen Strange is a Marvel superhero!\n"
     ]
    }
   ],
   "source": [
    "#Notice that above, we hadn't assigned a variable called name to anything. \n",
    "#Name was just what we assigneed to be the first value of the for loop syntax for legibility.\n",
    "#Understanding this, the bottom works too, though more cryptic.\n",
    "\n",
    "for x in real_names:\n",
    "    print(f\"{x} is a Marvel superhero!\")"
   ]
  },
  {
   "attachments": {},
   "cell_type": "markdown",
   "id": "2975cda8",
   "metadata": {},
   "source": [
    "## 1.2 for with enumerate"
   ]
  },
  {
   "cell_type": "markdown",
   "id": "3b1c5bbf-5ada-4c56-9620-3b8dce978f5f",
   "metadata": {},
   "source": [
    "Let’s say we want to do a bit more, like using the information in both of the following lists."
   ]
  },
  {
   "cell_type": "code",
   "execution_count": 5,
   "id": "7962c322-d8ef-4851-8658-a90d3b7199ca",
   "metadata": {},
   "outputs": [],
   "source": [
    "super_names = [\"Black Widow\", \"Iron Man\", \"Doctor Strange\"]\n",
    "real_names = [\"Natasha Romanoff\", \"Tony Stark\", \"Stephen Strange\"]"
   ]
  },
  {
   "cell_type": "markdown",
   "id": "416f563a-22c4-4722-9042-6694227fc665",
   "metadata": {},
   "source": [
    "Since the `for` loop only accepts one list, we need to do something else to access the data in both lists. \n",
    "\n",
    "One option is to use `enumerate()`. Let me first show you how `enumerate()` works:\n",
    "\n"
   ]
  },
  {
   "cell_type": "code",
   "execution_count": 6,
   "id": "182760bd-d63e-44c4-933e-458f28f8ce8c",
   "metadata": {},
   "outputs": [
    {
     "name": "stdout",
     "output_type": "stream",
     "text": [
      "0: Natasha Romanoff is a Marvel superhero!\n",
      "1: Tony Stark is a Marvel superhero!\n",
      "2: Stephen Strange is a Marvel superhero!\n"
     ]
    }
   ],
   "source": [
    "for count, name in enumerate(real_names):\n",
    "    print(f'{count}: {name} is a Marvel superhero!')"
   ]
  },
  {
   "cell_type": "markdown",
   "id": "d51cc950-5b25-47cc-b631-3308e6f036cf",
   "metadata": {},
   "source": [
    "You can think of `enumerate()` as something that keeps count. In the above example, `enumerate()` not only __gives the elements of the list, it also gives you a number__ (that is stored in `count`).\n",
    "\n",
    "Other than counting, we can use the count given by `enumerate()` to __index the other list!__"
   ]
  },
  {
   "cell_type": "code",
   "execution_count": 8,
   "id": "44a029b1-ceb9-4bee-99f2-d95560d1b1dd",
   "metadata": {},
   "outputs": [
    {
     "name": "stdout",
     "output_type": "stream",
     "text": [
      "Natasha Romanoff is Black Widow!\n",
      "Tony Stark is Iron Man!\n",
      "Stephen Strange is Doctor Strange!\n"
     ]
    }
   ],
   "source": [
    "#Using enumerate to index the other list (the superhero names)\n",
    "for index, name in enumerate(real_names):\n",
    "    superhero_name = super_names[index]\n",
    "    print(f'{name} is {superhero_name}!')"
   ]
  },
  {
   "cell_type": "markdown",
   "id": "b26e73a7-2ffe-4746-896c-9f4e90b9f07f",
   "metadata": {},
   "source": [
    "Before we move on, I would like to highlight two things:\n",
    "\n",
    "1. Notice how I __changed the variable name used with `enumerate()` to `count` and `index` to match their logical use (`for count` vs `for index`)__. This makes it easy to iimediately see what you are doing (i.e., the intention) with the code. Python does not really care about this, but __remember that we write programmes for humans!__\n",
    "\n",
    "1. Although by default, enumerate() starts counting from 0, we can easily change it to __start counting at another value__, say 100. See below:\n",
    "\n"
   ]
  },
  {
   "cell_type": "code",
   "execution_count": 9,
   "id": "385c4885-bd84-49d8-9fb0-36008437a350",
   "metadata": {},
   "outputs": [
    {
     "name": "stdout",
     "output_type": "stream",
     "text": [
      "100: Natasha Romanoff is a Marvel superhero!\n",
      "101: Tony Stark is a Marvel superhero!\n",
      "102: Stephen Strange is a Marvel superhero!\n"
     ]
    }
   ],
   "source": [
    "for count, name in enumerate(real_names, 100):\n",
    "    print(f'{count}: {name} is a Marvel superhero!')"
   ]
  },
  {
   "cell_type": "markdown",
   "id": "7fa43d3b-daae-4eea-a6b6-b8b5dbf9ebb4",
   "metadata": {},
   "source": [
    "__Remember__ that for can be combined with enumerate() to count while looping through a list."
   ]
  },
  {
   "attachments": {},
   "cell_type": "markdown",
   "id": "11f17de3",
   "metadata": {},
   "source": [
    "## 1.3 for with range"
   ]
  },
  {
   "cell_type": "markdown",
   "id": "0f418fbe-651e-4ab5-be50-5b1a4a233d79",
   "metadata": {},
   "source": [
    "Yet, another way to achieve the result above is by using the function `range()`. But, first lets see what `range()` can do."
   ]
  },
  {
   "cell_type": "markdown",
   "id": "ff34002a-bd1c-4aec-9913-e5d554f34419",
   "metadata": {},
   "source": [
    "__Example 1:__ We can use `range()` to get the `for` loop to run a given number of loops (5 in this example)."
   ]
  },
  {
   "cell_type": "code",
   "execution_count": 10,
   "id": "c33a0bee-a69d-4452-a05a-9193f63f6169",
   "metadata": {},
   "outputs": [
    {
     "name": "stdout",
     "output_type": "stream",
     "text": [
      "0\n",
      "1\n",
      "2\n",
      "3\n",
      "4\n"
     ]
    }
   ],
   "source": [
    "for m in range (5):\n",
    "    print(m)"
   ]
  },
  {
   "cell_type": "markdown",
   "id": "1944ed0d-910f-47b3-ba86-103bc3a2d33c",
   "metadata": {},
   "source": [
    "__Example 2:__ We can also tailor the starting and ending values..."
   ]
  },
  {
   "cell_type": "code",
   "execution_count": 11,
   "id": "c328ea12-b840-43ef-836b-4c8f5d2e6639",
   "metadata": {},
   "outputs": [
    {
     "name": "stdout",
     "output_type": "stream",
     "text": [
      "5\n",
      "6\n",
      "7\n",
      "8\n",
      "9\n"
     ]
    }
   ],
   "source": [
    "for q in range(5,10):\n",
    "    print(q)"
   ]
  },
  {
   "cell_type": "markdown",
   "id": "20fad42a-bb58-4526-9562-54caba716a7b",
   "metadata": {},
   "source": [
    "__Example 3:__ We can also specify the step-size"
   ]
  },
  {
   "cell_type": "code",
   "execution_count": 13,
   "id": "207acff0-5648-4434-9b0c-4bf3606f8c33",
   "metadata": {},
   "outputs": [
    {
     "name": "stdout",
     "output_type": "stream",
     "text": [
      "1\n",
      "4\n",
      "7\n"
     ]
    }
   ],
   "source": [
    "#specifying a step size of 3\n",
    "for i in range (1, 10, 3):\n",
    "    print(i)"
   ]
  },
  {
   "cell_type": "markdown",
   "id": "be8ad243-478a-41fc-aa82-5a0450ac52e9",
   "metadata": {},
   "source": [
    "__Note:__\n",
    "\n",
    "- Functions like `range()` and `enumerate()` only work with looping structures.\n",
    "- `range()` always ends one short of the ending number.\n"
   ]
  },
  {
   "cell_type": "markdown",
   "id": "2e6e04e8-c98c-43dc-9ade-71d4f0e9070c",
   "metadata": {},
   "source": [
    "Now, let’s return to our initial problem of printing superhero names. We can use `range()` as follows:"
   ]
  },
  {
   "cell_type": "code",
   "execution_count": 15,
   "id": "aa620cfe-85e8-437a-adfe-28797f580389",
   "metadata": {},
   "outputs": [
    {
     "name": "stdout",
     "output_type": "stream",
     "text": [
      "Natasha Romanoff is Marvel's Black Widow!\n",
      "Tony Stark is Marvel's Iron Man!\n",
      "Stephen Strange is Marvel's Doctor Strange!\n"
     ]
    }
   ],
   "source": [
    "for i in range(len(real_names)):\n",
    "    real_name = real_names[i]\n",
    "    super_name = super_names[i]        \n",
    "    print(f\"{real_name} is Marvel's {super_name}!\")\n",
    "\n",
    "#Notice that I have used the len(real_names) to get how many times the loop should run.\n",
    "\n"
   ]
  },
  {
   "cell_type": "markdown",
   "id": "a5a33420-7ca8-4950-82ef-7236e2cb52a5",
   "metadata": {},
   "source": [
    "__Remember__ that `for` can be run a given number of times using `range()`."
   ]
  },
  {
   "cell_type": "code",
   "execution_count": null,
   "id": "932866e4-6321-4e25-882f-96fa49f77c32",
   "metadata": {},
   "outputs": [],
   "source": []
  },
  {
   "attachments": {},
   "cell_type": "markdown",
   "id": "8f766e97",
   "metadata": {},
   "source": [
    "# 2 while"
   ]
  },
  {
   "cell_type": "markdown",
   "id": "d86d5048-95f1-46b2-9584-a62d1d0e3817",
   "metadata": {},
   "source": [
    "Now let’s take a quick look at the `while` loop. A `while` loop is set up so that it keeps on running while a condition is `True`. So the `while` loop checks the condition at the start and begins another loop if it is `True`.\n",
    "\n",
    "In the adjoining example the loop keeps on going while the number is less than 5.\n",
    "\n",
    "A useful feature of the `while` loop is that you do not need to know beforehand how many iterations are needed."
   ]
  },
  {
   "cell_type": "code",
   "execution_count": 16,
   "id": "83cf464a-766f-4226-8403-67144f1c936a",
   "metadata": {},
   "outputs": [
    {
     "name": "stdout",
     "output_type": "stream",
     "text": [
      "0\n",
      "1\n",
      "2\n",
      "3\n",
      "4\n"
     ]
    }
   ],
   "source": [
    "number = 0\n",
    "\n",
    "while number < 5:\n",
    "    print(number)\n",
    "    number += 1"
   ]
  }
 ],
 "metadata": {
  "kernelspec": {
   "display_name": "Python 3 (ipykernel)",
   "language": "python",
   "name": "python3"
  },
  "language_info": {
   "codemirror_mode": {
    "name": "ipython",
    "version": 3
   },
   "file_extension": ".py",
   "mimetype": "text/x-python",
   "name": "python",
   "nbconvert_exporter": "python",
   "pygments_lexer": "ipython3",
   "version": "3.11.7"
  },
  "toc": {
   "base_numbering": 1,
   "nav_menu": {},
   "number_sections": true,
   "sideBar": true,
   "skip_h1_title": false,
   "title_cell": "Table of Contents",
   "title_sidebar": "Contents",
   "toc_cell": false,
   "toc_position": {},
   "toc_section_display": true,
   "toc_window_display": false
  },
  "vscode": {
   "interpreter": {
    "hash": "31f2aee4e71d21fbe5cf8b01ff0e069b9275f58929596ceb00d14d90e3e16cd6"
   }
  }
 },
 "nbformat": 4,
 "nbformat_minor": 5
}

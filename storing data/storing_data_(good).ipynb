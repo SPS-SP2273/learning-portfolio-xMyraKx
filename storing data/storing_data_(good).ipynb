{
 "cells": [
  {
   "attachments": {},
   "cell_type": "markdown",
   "id": "123456",
   "metadata": {},
   "source": [
    "<div style=\"text-align:left;font-size:2em\"><span style=\"font-weight:bolder;font-size:1.25em\">SP2273 | Learning Portfolio</span><br><br><span style=\"font-weight:bold;color:darkred\">Storing Data (Good)</span></div>"
   ]
  },
  {
   "attachments": {},
   "cell_type": "markdown",
   "id": "363440af",
   "metadata": {},
   "source": [
    "# What to expect in this chapter"
   ]
  },
  {
   "cell_type": "markdown",
   "id": "e1c8f0de-3cdb-4596-8c6e-a236738f0b42",
   "metadata": {},
   "source": [
    "You should now know how to store data using lists, arrays and dictionaries. I will now show you more details on accessing and modifying these structures. This is important because most of what you do with programming is related to accessing and changing data. You will also gain a better understanding of the differences and similarities between lists, NumPy arrays and dictionaries."
   ]
  },
  {
   "attachments": {},
   "cell_type": "markdown",
   "id": "98414d9e",
   "metadata": {},
   "source": [
    "# 1 Subsetting: Indexing and Slicing"
   ]
  },
  {
   "cell_type": "markdown",
   "id": "548bde26-233b-4bb1-aaa7-f6f36959a03d",
   "metadata": {},
   "source": [
    "You will often need to select a subset (subsetting) of the data in a list (or array). One form of this is picking a single element called indexing (see previous chapter). Another option is to select a range of elements in a process called slicing.\n",
    "\n",
    "So, in summary, what we mean when we say…\n",
    "\n",
    "- Subsetting means to ‘select’.\n",
    "- Indexing refers to selecting one element.\n",
    "- Slicing refers to selecting a range of elements."
   ]
  },
  {
   "attachments": {},
   "cell_type": "markdown",
   "id": "64a23579",
   "metadata": {},
   "source": [
    "## 1.1 Lists & Arrays in 1D | Subsetting & Indexing"
   ]
  },
  {
   "cell_type": "markdown",
   "id": "2bee8825-fb7b-4da6-8e95-73909aeed242",
   "metadata": {},
   "source": [
    "Since slicing gives us a range of elements, we must specify two indices to indicate where to start and end. The various syntaxes for these are shown in the table below.\n",
    "\n",
    "The following applies to both lists and arrays."
   ]
  },
  {
   "cell_type": "code",
   "execution_count": 2,
   "id": "5c6b9c0d-54f2-4ae2-8d4d-a405d67903d2",
   "metadata": {},
   "outputs": [],
   "source": [
    "import numpy as np"
   ]
  },
  {
   "cell_type": "code",
   "execution_count": 3,
   "id": "799740ff-c643-42f3-90ea-6eaefd7477a1",
   "metadata": {},
   "outputs": [],
   "source": [
    "py_list=[\"a1\", \"b2\", \"c3\", \"d4\", \"e5\",\n",
    "         \"f6\", \"g7\", \"h8\", \"i9\", \"j10\"]\n",
    "np_array=np.array(py_list)\n",
    "\n",
    "# Pick one\n",
    "x = py_list  # OR\n",
    "x = np_array"
   ]
  },
  {
   "cell_type": "markdown",
   "id": "fc384be0-c52a-425b-8898-9deb1a4c3c23",
   "metadata": {},
   "source": [
    "__There are various ways you can slice__. \n",
    "Below shows the various syntax you can use to slice and the related output you'll get"
   ]
  },
  {
   "cell_type": "markdown",
   "id": "88198dd1-f40f-4d76-8d11-6b4edeab9bbf",
   "metadata": {},
   "source": [
    "| Syntax    | Result                          |                                 | Note                                     |\n",
    "|-----------|---------------------------------|---------------------------------|------------------------------------------|\n",
    "| `x[0]`      | First element                   | `'a1'`                            |                                          |\n",
    "| `x[-1]`     | Last element                    | `'j10'`                           |                                          |\n",
    "| `x[0:3]`    | Index 0 to 2                    | `['a1','b2','c3']`                | Gives  `3 − 0 = 3` elements                |\n",
    "| `x[1:6]`    | Index 1 to 5                    | `['b2','c3','d4','e5','f6']`      | Gives  `6 − 1 = 5` elements                |\n",
    "| `x[1:6:2]`  | Index 1 to 5 in steps of 2      | `['b2','d4','f6']`                | Gives every other of  `6 − 1 = 5` elements |\n",
    "| `x[5:]`     | Index 5 to the end              | `['f6','g7','h8','i9','j10']`     | Gives `len(x) − 5 = 5` elements            |\n",
    "| `x[:5]`     | Index 0 to 5                    | `['a1','b2','c3','d4','e5']`      | Gives  `5 − 0 = 5` elements                |\n",
    "| `x[5:2:-1]` | Index 5 to 3 (i.e., in reverse) | `['f6','e5','d4']`                | Gives  `5 − 2 = 3` elements                |\n",
    "| `x[::-1]`   | Reverses the list               | `['j10','i9','h8',...,'b2','a1']` |                                          |"
   ]
  },
  {
   "attachments": {},
   "cell_type": "markdown",
   "id": "b8e176c0",
   "metadata": {},
   "source": [
    "## 1.2 Arrays only | Subsetting by masking"
   ]
  },
  {
   "cell_type": "markdown",
   "id": "15079c28-9437-4ba9-a031-086b449c4dc3",
   "metadata": {},
   "source": [
    "One of the most powerful things you can do with NumPy arrays is subsetting by __masking__. To make sense of this, consider the following."
   ]
  },
  {
   "cell_type": "code",
   "execution_count": 4,
   "id": "ee64142f-8028-4215-8d9c-44d79e860c92",
   "metadata": {},
   "outputs": [
    {
     "data": {
      "text/plain": [
       "array([False, False, False,  True,  True,  True,  True,  True,  True,\n",
       "        True])"
      ]
     },
     "execution_count": 4,
     "metadata": {},
     "output_type": "execute_result"
    }
   ],
   "source": [
    "np_array = np.array([1, 2, 3, 4, 5, 6, 7, 8, 9, 10])\n",
    "my_mask = np_array > 3\n",
    "my_mask"
   ]
  },
  {
   "cell_type": "code",
   "execution_count": 5,
   "id": "9fadf495-55ef-405f-9024-6e457531245c",
   "metadata": {},
   "outputs": [
    {
     "data": {
      "text/plain": [
       "array([ 4,  5,  6,  7,  8,  9, 10])"
      ]
     },
     "execution_count": 5,
     "metadata": {},
     "output_type": "execute_result"
    }
   ],
   "source": [
    "#Now I can I can use this True/False format to ask NumPy to \n",
    "#show me only those that are True by...\n",
    "np_array[my_mask]"
   ]
  },
  {
   "cell_type": "markdown",
   "id": "dd91fd79-7a05-484a-a83c-592286f46c93",
   "metadata": {},
   "source": [
    "This is why I used the term ‘masking’. The `True/False` answer acts like a mask allowing only the `True` subset to be seen. __Masking only works with Numpy Arrays.__"
   ]
  },
  {
   "cell_type": "code",
   "execution_count": 6,
   "id": "1b5fc80b-76d7-4288-8446-e5e986f89a3f",
   "metadata": {},
   "outputs": [
    {
     "data": {
      "text/plain": [
       "array([ 4,  5,  6,  7,  8,  9, 10])"
      ]
     },
     "execution_count": 6,
     "metadata": {},
     "output_type": "execute_result"
    }
   ],
   "source": [
    "#Also, instead of creating another variable, I can also do all of this succinctly as:\n",
    "np_array[np_array > 3]\n"
   ]
  },
  {
   "cell_type": "markdown",
   "id": "8294110b-5260-46a4-8957-3adf5ea3d612",
   "metadata": {},
   "source": [
    "__A few more examples!__"
   ]
  },
  {
   "cell_type": "markdown",
   "id": "b59aef3f-c360-4b3d-81ea-104e8b8bb67c",
   "metadata": {},
   "source": [
    "- We can __invert__ our mask by using the ~.\n",
    "~ is called the __Bitwise Not__ operator."
   ]
  },
  {
   "cell_type": "code",
   "execution_count": 7,
   "id": "efcd1e44-6619-4afc-97bb-939c4a616ac0",
   "metadata": {},
   "outputs": [
    {
     "data": {
      "text/plain": [
       "array([1, 2, 3])"
      ]
     },
     "execution_count": 7,
     "metadata": {},
     "output_type": "execute_result"
    }
   ],
   "source": [
    "np_array[~(np_array > 3)]                 # '~' means 'NOT'"
   ]
  },
  {
   "cell_type": "markdown",
   "id": "151ca81f-c46c-4778-b065-031a506bf2a1",
   "metadata": {},
   "source": [
    "- We can combine one mask __AND__ (`&`) another mask.\n",
    "(`AND` will show something only if both masks are true.)"
   ]
  },
  {
   "cell_type": "code",
   "execution_count": 8,
   "id": "8a0db0c9-2732-4cc9-936c-b8885a791376",
   "metadata": {},
   "outputs": [
    {
     "data": {
      "text/plain": [
       "array([4, 5, 6, 7])"
      ]
     },
     "execution_count": 8,
     "metadata": {},
     "output_type": "execute_result"
    }
   ],
   "source": [
    "np_array[(np_array > 3) & (np_array < 8)] # '&' means 'AND'"
   ]
  },
  {
   "cell_type": "markdown",
   "id": "1b924470-bcc1-478c-a451-fb7e228a4c46",
   "metadata": {},
   "source": [
    "- We can combine one mask __OR__ (`|`) another mask. (`OR` will show something if either mask is true.)"
   ]
  },
  {
   "cell_type": "code",
   "execution_count": 9,
   "id": "4eea555d-2689-438d-85a4-0acba9c64f7e",
   "metadata": {},
   "outputs": [
    {
     "data": {
      "text/plain": [
       "array([ 1,  2,  9, 10])"
      ]
     },
     "execution_count": 9,
     "metadata": {},
     "output_type": "execute_result"
    }
   ],
   "source": [
    "np_array[(np_array < 3) | (np_array > 8)] # '|' means 'OR'"
   ]
  },
  {
   "cell_type": "markdown",
   "id": "1a7dec89-32db-4f86-9eb3-ea810a9f8903",
   "metadata": {},
   "source": [
    "### Remember\n",
    "- Always use the Bitwise NOT(`~`), Bitwise OR(`|`) and Bitwise AND(`&`) when combining masks with NumPy.\n",
    "- Always use brackets to clarify what you are asking the mask to do.\n"
   ]
  },
  {
   "attachments": {},
   "cell_type": "markdown",
   "id": "791fd36b",
   "metadata": {},
   "source": [
    "## 1.3 Lists & Arrays in 2D | Indexing & Slicing"
   ]
  },
  {
   "cell_type": "markdown",
   "id": "a86caeca-b30d-4e3d-bd76-56352a32550b",
   "metadata": {},
   "source": [
    "The differences between lists and arrays become even more apparent with higher dimensional lists and arrays. Especially when you try _indexing and slicing in higher dimensions_."
   ]
  },
  {
   "cell_type": "code",
   "execution_count": 10,
   "id": "739ae4ee-d1f7-4ab1-8552-f9eb5539d3fa",
   "metadata": {},
   "outputs": [],
   "source": [
    "#Let’s consider the following 2D list\n",
    "py_list_2d = [[1, \"A\"], [2, \"B\"], [3, \"C\"], [4, \"D\"],\n",
    "              [5, \"E\"], [6, \"F\"], [7, \"G\"], [8, \"H\"],\n",
    "              [9, \"I\"], [10, \"J\"]]\n",
    "\n",
    "np_array_2d = np.array(py_list_2d)"
   ]
  },
  {
   "cell_type": "markdown",
   "id": "d084d5ba-691a-46f6-96c9-f920b0d992b6",
   "metadata": {},
   "source": [
    "__Example 1__: What is at index 3?"
   ]
  },
  {
   "cell_type": "code",
   "execution_count": 11,
   "id": "cfd2d591-8174-4bcf-9f56-cfcf82b47153",
   "metadata": {},
   "outputs": [
    {
     "data": {
      "text/plain": [
       "[4, 'D']"
      ]
     },
     "execution_count": 11,
     "metadata": {},
     "output_type": "execute_result"
    }
   ],
   "source": [
    "#For a list\n",
    "py_list_2d[3]"
   ]
  },
  {
   "cell_type": "code",
   "execution_count": 12,
   "id": "2959f140-ba9f-4568-a89a-c35a9a95ba96",
   "metadata": {},
   "outputs": [
    {
     "data": {
      "text/plain": [
       "array(['4', 'D'], dtype='<U21')"
      ]
     },
     "execution_count": 12,
     "metadata": {},
     "output_type": "execute_result"
    }
   ],
   "source": [
    "#Syntax for an array:\n",
    "np_array_2d[3]"
   ]
  },
  {
   "cell_type": "markdown",
   "id": "ba3fae0b-a0bb-40f0-ab59-ba5ef765fe51",
   "metadata": {},
   "source": [
    "__Example 2__: What is the FIRST element at index 3?"
   ]
  },
  {
   "cell_type": "code",
   "execution_count": 14,
   "id": "682940c9-6e16-467d-93dd-578395fede28",
   "metadata": {},
   "outputs": [
    {
     "data": {
      "text/plain": [
       "4"
      ]
     },
     "execution_count": 14,
     "metadata": {},
     "output_type": "execute_result"
    }
   ],
   "source": [
    "#For a list\n",
    "py_list_2d[3][0]\n"
   ]
  },
  {
   "cell_type": "code",
   "execution_count": 16,
   "id": "1b9c5025-4cef-4b78-a041-d2e07a581a25",
   "metadata": {},
   "outputs": [
    {
     "data": {
      "text/plain": [
       "'4'"
      ]
     },
     "execution_count": 16,
     "metadata": {},
     "output_type": "execute_result"
    }
   ],
   "source": [
    "#For an array\n",
    "np_array_2d[3, 0] # a single pair of square brackets [] "
   ]
  },
  {
   "cell_type": "markdown",
   "id": "4045e911-81e8-457c-a324-2d6eec1d496e",
   "metadata": {},
   "source": [
    "__Example 3__: What are the first 3 elements?"
   ]
  },
  {
   "cell_type": "code",
   "execution_count": 17,
   "id": "8688d466-1369-4ecc-ba8c-6e426820aff4",
   "metadata": {},
   "outputs": [
    {
     "data": {
      "text/plain": [
       "[[1, 'A'], [2, 'B'], [3, 'C']]"
      ]
     },
     "execution_count": 17,
     "metadata": {},
     "output_type": "execute_result"
    }
   ],
   "source": [
    "# For a list\n",
    "py_list_2d[:3]"
   ]
  },
  {
   "cell_type": "code",
   "execution_count": 18,
   "id": "e6b7efcd-405f-4f55-b074-2f9217cc7ef5",
   "metadata": {},
   "outputs": [
    {
     "data": {
      "text/plain": [
       "array([['1', 'A'],\n",
       "       ['2', 'B'],\n",
       "       ['3', 'C']], dtype='<U21')"
      ]
     },
     "execution_count": 18,
     "metadata": {},
     "output_type": "execute_result"
    }
   ],
   "source": [
    "#For an array\n",
    "np_array_2d[:3]\n"
   ]
  },
  {
   "cell_type": "markdown",
   "id": "01bb0d84-c0ae-4f42-9e5d-99ba1504746f",
   "metadata": {},
   "source": [
    "__Example 4__: Getting the FIRST of the first 3 element pairs"
   ]
  },
  {
   "cell_type": "code",
   "execution_count": 19,
   "id": "f08d0ea8-48af-4b55-916d-49313709e955",
   "metadata": {},
   "outputs": [
    {
     "data": {
      "text/plain": [
       "[1, 'A']"
      ]
     },
     "execution_count": 19,
     "metadata": {},
     "output_type": "execute_result"
    }
   ],
   "source": [
    "#For a list\n",
    "py_list_2d[:3][0]"
   ]
  },
  {
   "cell_type": "code",
   "execution_count": 21,
   "id": "b892d7e0-c3e9-40a0-b3ed-7a8833b152fa",
   "metadata": {},
   "outputs": [
    {
     "data": {
      "text/plain": [
       "array(['1', '2', '3'], dtype='<U21')"
      ]
     },
     "execution_count": 21,
     "metadata": {},
     "output_type": "execute_result"
    }
   ],
   "source": [
    "#For an array\n",
    "np_array_2d[:3, 0] #NOTICE! it's different!"
   ]
  },
  {
   "cell_type": "markdown",
   "id": "4ff06c44-c1ad-4a7e-85e7-5afbdf417ba9",
   "metadata": {},
   "source": [
    " __For an array, it returns the first value of the first 3 pairs__"
   ]
  },
  {
   "cell_type": "markdown",
   "id": "81f5758d-62ee-4f11-a461-d0e357028c2c",
   "metadata": {},
   "source": [
    "__Example 5__: Indexing the first of elements within a specified range.\n",
    "\n",
    "Here's the list again just for reference\n",
    "```python\n",
    "#Let’s consider the following 2D list\n",
    "py_list_2d = [[1, \"A\"], [2, \"B\"], [3, \"C\"], [4, \"D\"],\n",
    "              [5, \"E\"], [6, \"F\"], [7, \"G\"], [8, \"H\"],\n",
    "              [9, \"I\"], [10, \"J\"]]\n",
    "\n",
    "```"
   ]
  },
  {
   "cell_type": "code",
   "execution_count": 3,
   "id": "7fc324c4-158c-4884-ba95-4f2d1ca2e78c",
   "metadata": {},
   "outputs": [],
   "source": [
    "py_list_2d = [[1, \"A\"], [2, \"B\"], [3, \"C\"], [4, \"D\"],\n",
    "              [5, \"E\"], [6, \"F\"], [7, \"G\"], [8, \"H\"],\n",
    "              [9, \"I\"], [10, \"J\"]]\n"
   ]
  },
  {
   "cell_type": "code",
   "execution_count": 22,
   "id": "839137f3-1e8f-4f95-9cc6-337e57c8686b",
   "metadata": {},
   "outputs": [
    {
     "data": {
      "text/plain": [
       "[4, 'D']"
      ]
     },
     "execution_count": 22,
     "metadata": {},
     "output_type": "execute_result"
    }
   ],
   "source": [
    "#For a list\n",
    "#Indexing for the first element of the elements inbetween the 3rd to 5th index (inclusive)\n",
    "py_list_2d[3:6][0]"
   ]
  },
  {
   "cell_type": "code",
   "execution_count": 4,
   "id": "7b76739c-6235-4ef0-b881-c39238b4d22e",
   "metadata": {},
   "outputs": [
    {
     "name": "stdout",
     "output_type": "stream",
     "text": [
      "[[4, 'D'], [5, 'E'], [6, 'F']]\n"
     ]
    }
   ],
   "source": [
    "#YZ suggestion:\n",
    "#Notice how [3:6] indexes for the 3rd, 4th and 5th elements\n",
    "print(py_list_2d[3:6])"
   ]
  },
  {
   "cell_type": "code",
   "execution_count": 23,
   "id": "86fbfb4d-9f75-4f15-9dde-276963d64de4",
   "metadata": {},
   "outputs": [
    {
     "data": {
      "text/plain": [
       "array(['4', '5', '6'], dtype='<U21')"
      ]
     },
     "execution_count": 23,
     "metadata": {},
     "output_type": "execute_result"
    }
   ],
   "source": [
    "#For an array\n",
    "np_array_2d[3:6, 0]\n",
    "# This gives the first element in the paired data in between the 3rd and 6th index (inclusive)\n"
   ]
  },
  {
   "cell_type": "markdown",
   "id": "9753c29a-cc10-4a17-b1e0-0b1c3306ae52",
   "metadata": {},
   "source": [
    "__If you want ‘everything’ you just use `:` in an array__"
   ]
  },
  {
   "cell_type": "code",
   "execution_count": 24,
   "id": "cb96dedf-52b5-4104-9328-3d187b7b4675",
   "metadata": {},
   "outputs": [
    {
     "data": {
      "text/plain": [
       "array(['1', '2', '3', '4', '5', '6', '7', '8', '9', '10'], dtype='<U21')"
      ]
     },
     "execution_count": 24,
     "metadata": {},
     "output_type": "execute_result"
    }
   ],
   "source": [
    "np_array_2d[:, 0]"
   ]
  },
  {
   "attachments": {},
   "cell_type": "markdown",
   "id": "80cb7cc8",
   "metadata": {},
   "source": [
    "## 1.4 Growing lists"
   ]
  },
  {
   "cell_type": "markdown",
   "id": "195c97e7-90c5-40c6-a92a-3a8cbceb4389",
   "metadata": {},
   "source": [
    "NumPy arrays are invaluable, and their slicing syntax (e.g. `[:3,0]`) is more intuitive than lists. \n",
    "\n",
    "So, why do we even bother with lists? __One advantage of lists is their ease and efficiency in growing.__ NumPy arrays are fantastic for fast math operations, provided you do not change their size. We'll not discuss how to change the size of a NumPy array here in this course. \n",
    "\n",
    "__Instead, let me show you how to grow a list.__ This will be _useful_ later; for instance when you try to solve _differential equations_ numerically."
   ]
  },
  {
   "cell_type": "markdown",
   "id": "0ab1e166-7067-4df5-94e1-def43d7eb1bb",
   "metadata": {},
   "source": [
    "__Example 1:__ creating a larger list from a smaller one with `*`\n"
   ]
  },
  {
   "cell_type": "code",
   "execution_count": 25,
   "id": "3baaad9f-5ad8-40aa-a39f-1834de4c47fa",
   "metadata": {},
   "outputs": [
    {
     "data": {
      "text/plain": [
       "[1, 2, 1, 2, 1, 2, 1, 2, 1, 2]"
      ]
     },
     "execution_count": 25,
     "metadata": {},
     "output_type": "execute_result"
    }
   ],
   "source": [
    "x=[1, 2]*5\n",
    "x"
   ]
  },
  {
   "cell_type": "markdown",
   "id": "41846852-f6fb-41dd-95f0-0f48d8d8d8c5",
   "metadata": {},
   "source": [
    "__Example 2:__ three ways to grow a list by appending one element at a time"
   ]
  },
  {
   "cell_type": "code",
   "execution_count": 27,
   "id": "b7baf8cd-4ba3-4dc5-9312-e1447f5b2f10",
   "metadata": {},
   "outputs": [
    {
     "data": {
      "text/plain": [
       "[1, 2, 3, 4]"
      ]
     },
     "execution_count": 27,
     "metadata": {},
     "output_type": "execute_result"
    }
   ],
   "source": [
    "#Syntax type 1\n",
    "\n",
    "#We just start with x=1\n",
    "x=[1]\n",
    "\n",
    "#Then we grow it with + one at a time\n",
    "x= x + [2]\n",
    "x= x + [3]\n",
    "x= x + [4]\n",
    "x\n"
   ]
  },
  {
   "cell_type": "code",
   "execution_count": 30,
   "id": "d936c16c-1a9c-4d4f-9772-5d9e7ba5fe0a",
   "metadata": {},
   "outputs": [
    {
     "data": {
      "text/plain": [
       "[1, 2, 3, 4]"
      ]
     },
     "execution_count": 30,
     "metadata": {},
     "output_type": "execute_result"
    }
   ],
   "source": [
    "#Syntax type 2\n",
    "\n",
    "#Start with x=1\n",
    "x=[1]\n",
    "\n",
    "#Then we grow it with += one at a time\n",
    "x+= [2]\n",
    "x+= [3]\n",
    "x+= [4]\n",
    "x"
   ]
  },
  {
   "cell_type": "code",
   "execution_count": 29,
   "id": "9a68b94c-e3f5-4772-b3e4-d1fbdcfc429a",
   "metadata": {},
   "outputs": [
    {
     "data": {
      "text/plain": [
       "[1, 2, 3, 4]"
      ]
     },
     "execution_count": 29,
     "metadata": {},
     "output_type": "execute_result"
    }
   ],
   "source": [
    "#Syntax type 3\n",
    "\n",
    "#Start with x=1\n",
    "x=[1]\n",
    "\n",
    "#Then we grow it with .append one at a time\n",
    "x.append(2)\n",
    "x.append(3)\n",
    "x.append(4)\n",
    "x"
   ]
  },
  {
   "cell_type": "markdown",
   "id": "dae2c60e-add8-4786-a321-503abc94f3a8",
   "metadata": {},
   "source": [
    "Only difference between them? Their execution speeds are different; the version with append() runs about 1.5 times faster than the rest!"
   ]
  },
  {
   "cell_type": "markdown",
   "id": "e1e32873-2910-4b73-8071-54672481c443",
   "metadata": {},
   "source": [
    "__Example 3:__ three ways of incorporating multiple elements.\n",
    "\n",
    "Notice the difference between the effects of `extend()` and `append()`."
   ]
  },
  {
   "cell_type": "code",
   "execution_count": 38,
   "id": "20ea699a-941f-4afa-8b09-3b95df08a5ee",
   "metadata": {},
   "outputs": [
    {
     "name": "stdout",
     "output_type": "stream",
     "text": [
      "[1, 2, 3, 4, 5, 6]\n"
     ]
    }
   ],
   "source": [
    "#Syntax 1 +=\n",
    "x = [1, 2, 3]\n",
    "x += [4, 5, 6]\n",
    "x\n",
    "#Note that the last line here is the same as print(x), which you could use all the same.\n",
    "#It's a quirk of jupyter notebook that it'll always output the last line when you run.\n",
    "#Note not all python based softwares will do this. All python softwares will definitely give an output with print(x)."
   ]
  },
  {
   "cell_type": "markdown",
   "id": "5eeedb7e-31d9-4cfc-a6ef-3fe725143ba3",
   "metadata": {},
   "source": [
    "Ending "
   ]
  },
  {
   "cell_type": "code",
   "execution_count": 36,
   "id": "1201a753-aef7-4134-899a-158a10b2465a",
   "metadata": {},
   "outputs": [
    {
     "data": {
      "text/plain": [
       "[1, 2, 3, 4, 5, 6]"
      ]
     },
     "execution_count": 36,
     "metadata": {},
     "output_type": "execute_result"
    }
   ],
   "source": [
    "#Syntax 2 .extend\n",
    "x=[1, 2, 3]\n",
    "x.extend([4, 5, 6])\n",
    "x\n",
    "#Makes a 1d list"
   ]
  },
  {
   "cell_type": "code",
   "execution_count": 37,
   "id": "9aec0b38-910d-4240-bb7d-4b1b55bc7d3d",
   "metadata": {},
   "outputs": [
    {
     "data": {
      "text/plain": [
       "[1, 2, 3, [4, 5, 6]]"
      ]
     },
     "execution_count": 37,
     "metadata": {},
     "output_type": "execute_result"
    }
   ],
   "source": [
    "#Syntax 3 .append\n",
    "x=[1, 2, 3]\n",
    "x.append([4, 5, 6])\n",
    "x\n",
    "#Makes a 2d list, a list in a list (2 pairs of [])"
   ]
  },
  {
   "attachments": {},
   "cell_type": "markdown",
   "id": "3ce44793",
   "metadata": {},
   "source": [
    "# Some loose ends"
   ]
  },
  {
   "attachments": {},
   "cell_type": "markdown",
   "id": "9cc1d0fe",
   "metadata": {},
   "source": [
    "## 1.5 Tuples"
   ]
  },
  {
   "cell_type": "markdown",
   "id": "410aa954-f389-42ca-bdb8-7f4c7584bfcd",
   "metadata": {},
   "source": [
    "Before we end this section, I must introduce you to another data storage structure called a __tuple.__\n",
    "\n",
    "Tuples are __similar to lists, except they use ( ) and cannot be changed after creation__ (i.e., they are ___immutable___).\n",
    "\n",
    "Let me first create a simple tuple."
   ]
  },
  {
   "cell_type": "code",
   "execution_count": 39,
   "id": "afea33b1-26c6-48ae-be0c-78a33e6fe45d",
   "metadata": {},
   "outputs": [],
   "source": [
    "a=(1, 2, 3)     # Define tuple"
   ]
  },
  {
   "cell_type": "code",
   "execution_count": 40,
   "id": "421b5d1c-26f6-443f-8ed4-cfda76c802bf",
   "metadata": {},
   "outputs": [
    {
     "name": "stdout",
     "output_type": "stream",
     "text": [
      "1\n"
     ]
    }
   ],
   "source": [
    "# Access its data...\n",
    "print(a[0])    # Access the first element in it\n"
   ]
  },
  {
   "cell_type": "code",
   "execution_count": 42,
   "id": "84f212b9-1d8b-4077-863c-5b858a779e81",
   "metadata": {},
   "outputs": [
    {
     "ename": "TypeError",
     "evalue": "'tuple' object does not support item assignment",
     "output_type": "error",
     "traceback": [
      "\u001b[0;31m---------------------------------------------------------------------------\u001b[0m",
      "\u001b[0;31mTypeError\u001b[0m                                 Traceback (most recent call last)",
      "Cell \u001b[0;32mIn[42], line 3\u001b[0m\n\u001b[1;32m      1\u001b[0m \u001b[38;5;66;03m# But, we can't change the data.\u001b[39;00m\n\u001b[1;32m      2\u001b[0m \u001b[38;5;66;03m# The following will NOT work\u001b[39;00m\n\u001b[0;32m----> 3\u001b[0m \u001b[43ma\u001b[49m\u001b[43m[\u001b[49m\u001b[38;5;241;43m0\u001b[39;49m\u001b[43m]\u001b[49m\u001b[38;5;241m=\u001b[39m\u001b[38;5;241m-\u001b[39m\u001b[38;5;241m1\u001b[39m\n\u001b[1;32m      4\u001b[0m a[\u001b[38;5;241m0\u001b[39m]\u001b[38;5;241m+\u001b[39m\u001b[38;5;241m=\u001b[39m [\u001b[38;5;241m10\u001b[39m]\n",
      "\u001b[0;31mTypeError\u001b[0m: 'tuple' object does not support item assignment"
     ]
    }
   ],
   "source": [
    "# But, we can't change the data.\n",
    "a[0]=-1"
   ]
  },
  {
   "cell_type": "code",
   "execution_count": 43,
   "id": "ef1cbbc2-aed7-45d0-8f2b-86a3d33f8bc2",
   "metadata": {},
   "outputs": [
    {
     "ename": "TypeError",
     "evalue": "unsupported operand type(s) for +=: 'int' and 'list'",
     "output_type": "error",
     "traceback": [
      "\u001b[0;31m---------------------------------------------------------------------------\u001b[0m",
      "\u001b[0;31mTypeError\u001b[0m                                 Traceback (most recent call last)",
      "Cell \u001b[0;32mIn[43], line 1\u001b[0m\n\u001b[0;32m----> 1\u001b[0m \u001b[43ma\u001b[49m\u001b[43m[\u001b[49m\u001b[38;5;241;43m0\u001b[39;49m\u001b[43m]\u001b[49m\u001b[38;5;241;43m+\u001b[39;49m\u001b[38;5;241;43m=\u001b[39;49m\u001b[43m \u001b[49m\u001b[43m[\u001b[49m\u001b[38;5;241;43m10\u001b[39;49m\u001b[43m]\u001b[49m\n",
      "\u001b[0;31mTypeError\u001b[0m: unsupported operand type(s) for +=: 'int' and 'list'"
     ]
    }
   ],
   "source": [
    "a[0]+= [10]"
   ]
  },
  {
   "attachments": {},
   "cell_type": "markdown",
   "id": "32e44fcc",
   "metadata": {},
   "source": [
    "## 1.6 Be VERY careful when copying"
   ]
  },
  {
   "cell_type": "markdown",
   "id": "64cd799f-4fd2-4f23-b60f-1aae7b4ac8e9",
   "metadata": {},
   "source": [
    "Variables in Python have subtle features that might make your life miserable if you are not careful. You should be particularly mindful when making copies of lists and arrays.\n",
    "\n",
    "\n",
    "For example, if you want to copy a list, you might be tempted to do the following; PLEASE DON’T!\n",
    "\n"
   ]
  },
  {
   "cell_type": "code",
   "execution_count": 45,
   "id": "9a0358ea-0663-4c78-bee0-f5e15c66c634",
   "metadata": {},
   "outputs": [
    {
     "data": {
      "text/plain": [
       "[1, 2, 3]"
      ]
     },
     "execution_count": 45,
     "metadata": {},
     "output_type": "execute_result"
    }
   ],
   "source": [
    "x=[1, 2, 3]\n",
    "y=x           # DON'T do this!\n",
    "z=x           # DON'T do this!\n",
    "z"
   ]
  },
  {
   "cell_type": "markdown",
   "id": "b32d14a6-4faf-4de9-b2f9-7fd0bf395c7f",
   "metadata": {},
   "source": [
    "__Why? what's happening:__\n",
    "\n",
    "![](https://miro.medium.com/v2/resize:fit:1400/format:webp/1*1i1NuGvSvgsgcwxshyFGOw.png)\n",
    "\n",
    "- So, in case of mutable objects (like a list) the assigning method (using “=”) will just name the object a different \"name\" but it carries the exact same ID. so in our example above, `x`, `y`, and `z` all tag to the same ID. This can cause issues when you do more things with the list and or x,y or z downstream since to python wht are all actually the same object. (e.g. if you were to .append y to grow it, you would also be growing x and z unintentionally.)\n",
    "\n",
    "- `.copy` will assign a entirely new and unique ID to the list that you've assigned to a new name to. This will avoid downstream list appending mishaps since now each list x,y, and z is its own unique list with its own unique ID.\n"
   ]
  },
  {
   "cell_type": "code",
   "execution_count": 47,
   "id": "46f2727f-28f8-48ed-bc52-95c9ada44520",
   "metadata": {},
   "outputs": [
    {
     "data": {
      "text/plain": [
       "[1, 2, 3]"
      ]
     },
     "execution_count": 47,
     "metadata": {},
     "output_type": "execute_result"
    }
   ],
   "source": [
    "# The CORRECT way to do this is as follows\n",
    "\n",
    "x=[1, 2, 3]\n",
    "y=x.copy()\n",
    "z=x.copy()\n",
    "z"
   ]
  },
  {
   "cell_type": "markdown",
   "id": "2dfdc2ed-081b-4e60-ac5b-713e8c1434c2",
   "metadata": {},
   "source": [
    "\n"
   ]
  },
  {
   "attachments": {},
   "cell_type": "markdown",
   "id": "a16553d4",
   "metadata": {},
   "source": [
    "# Exercises & Self-Assessment"
   ]
  },
  {
   "cell_type": "code",
   "execution_count": null,
   "id": "0f315c1b",
   "metadata": {},
   "outputs": [],
   "source": [
    "\n",
    "\n",
    "\n",
    "# In the Storing data good exercise file\n",
    "\n",
    "\n"
   ]
  },
  {
   "attachments": {},
   "cell_type": "markdown",
   "id": "3b356445",
   "metadata": {},
   "source": [
    "## Footnotes"
   ]
  }
 ],
 "metadata": {
  "kernelspec": {
   "display_name": "Python 3 (ipykernel)",
   "language": "python",
   "name": "python3"
  },
  "language_info": {
   "codemirror_mode": {
    "name": "ipython",
    "version": 3
   },
   "file_extension": ".py",
   "mimetype": "text/x-python",
   "name": "python",
   "nbconvert_exporter": "python",
   "pygments_lexer": "ipython3",
   "version": "3.11.7"
  },
  "toc": {
   "base_numbering": 1,
   "nav_menu": {},
   "number_sections": true,
   "sideBar": true,
   "skip_h1_title": false,
   "title_cell": "Table of Contents",
   "title_sidebar": "Contents",
   "toc_cell": false,
   "toc_position": {},
   "toc_section_display": true,
   "toc_window_display": false
  },
  "vscode": {
   "interpreter": {
    "hash": "31f2aee4e71d21fbe5cf8b01ff0e069b9275f58929596ceb00d14d90e3e16cd6"
   }
  }
 },
 "nbformat": 4,
 "nbformat_minor": 5
}

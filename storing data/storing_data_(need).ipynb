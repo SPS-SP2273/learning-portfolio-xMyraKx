{
 "cells": [
  {
   "attachments": {},
   "cell_type": "markdown",
   "id": "123456",
   "metadata": {},
   "source": [
    "<div style=\"text-align:left;font-size:2em\"><span style=\"font-weight:bolder;font-size:1.25em\">SP2273 | Learning Portfolio</span><br><br><span style=\"font-weight:bold;color:darkred\">Storing Data (Need)</span></div>"
   ]
  },
  {
   "attachments": {},
   "cell_type": "markdown",
   "id": "ec2ab81a",
   "metadata": {},
   "source": [
    "# What to expect in this chapter"
   ]
  },
  {
   "cell_type": "markdown",
   "id": "175c9e6a-f94a-4a43-8269-7152828b67c5",
   "metadata": {},
   "source": [
    "We are learning Python as a tool to help us understand science and solve problems related to science. To do this, we must interact with information/data and transform them to yield a solution. For this, it is essential to have ways to store and manipulate data easily and efficiently beyond the simple variables we have encountered so far. Python offers a variety of ways to store and manipulate data. You have already met the list and dictionary in a previous chapter. However, there are several more; here is a (non-comprehensive) list.\n",
    "\n",
    "- Lists\n",
    "- Numpy arrays\n",
    "- Dictionaries\n",
    "- Tuples\n",
    "- Dataframes\n",
    "- Classes\n",
    "  \n",
    "In these chapters on basics, I will only discuss Python lists, Numpy arrays, dictionaries and tuples. If you want to learn about dataframes please look at the Data Processing basket in the Applications part. "
   ]
  },
  {
   "attachments": {},
   "cell_type": "markdown",
   "id": "f0688b5e",
   "metadata": {},
   "source": [
    "# 1 Lists, Arrays & Dictionaries"
   ]
  },
  {
   "attachments": {},
   "cell_type": "markdown",
   "id": "38d00fb3",
   "metadata": {},
   "source": [
    "## 1.1 Let’s compare"
   ]
  },
  {
   "cell_type": "markdown",
   "id": "eb37385a-6dac-414a-b316-152960937b1b",
   "metadata": {},
   "source": [
    "Same information different ways to store"
   ]
  },
  {
   "cell_type": "markdown",
   "id": "b5d8e08a-1388-495a-957a-5a78a3c839cc",
   "metadata": {},
   "source": [
    "__Python lists__"
   ]
  },
  {
   "cell_type": "code",
   "execution_count": 2,
   "id": "5c1e2a24-8781-45ed-a765-32b807143bd5",
   "metadata": {},
   "outputs": [],
   "source": [
    "py_super_names = [\"Black Widow\", \"Iron Man\", \"Doctor Strange\"]\n",
    "py_real_names = [\"Natasha Romanoff\", \"Tony Stark\", \"Stephen Strange\"]"
   ]
  },
  {
   "cell_type": "markdown",
   "id": "75a646ae-16bc-4e71-b357-d0c0b157498e",
   "metadata": {},
   "source": [
    "__Numpy arrays/lists__"
   ]
  },
  {
   "cell_type": "code",
   "execution_count": 1,
   "id": "c9917c97-6da7-4d47-ad5d-c3ed481cdfa0",
   "metadata": {},
   "outputs": [],
   "source": [
    "import numpy"
   ]
  },
  {
   "cell_type": "code",
   "execution_count": 7,
   "id": "3165f3b6-611e-4508-901a-2825b36c9132",
   "metadata": {},
   "outputs": [],
   "source": [
    "np_super_names = numpy.array([\"Black Widow\", \"Iron Man\", \"Doctor Strange\"])\n",
    "np_real_names = numpy.array([\"Natasha Romanoff\", \"Tony Stark\", \"Stephen Strange\"])"
   ]
  },
  {
   "cell_type": "markdown",
   "id": "63404759-af5b-4a5f-9ad5-325fc8bf8259",
   "metadata": {},
   "source": [
    "__Dictionary__"
   ]
  },
  {
   "cell_type": "code",
   "execution_count": 6,
   "id": "14566001-bf35-4d7f-82ea-8996d970349b",
   "metadata": {},
   "outputs": [],
   "source": [
    "superhero_info = {\n",
    "    \"Natasha Romanoff\": \"Black Widow\",\n",
    "    \"Tony Stark\": \"Iron Man\",\n",
    "    \"Stephen Strange\": \"Doctor Strange\"\n",
    "}\n"
   ]
  },
  {
   "cell_type": "code",
   "execution_count": null,
   "id": "2e67ab3a-eac2-4705-938a-9e69b43dc0d4",
   "metadata": {},
   "outputs": [],
   "source": []
  },
  {
   "attachments": {},
   "cell_type": "markdown",
   "id": "6ad61f9b",
   "metadata": {},
   "source": [
    "## 1.2 Accessing data from a list (or array)"
   ]
  },
  {
   "cell_type": "markdown",
   "id": "e73aa3ec-2dd3-40ad-abd6-40685d6ce001",
   "metadata": {},
   "source": [
    "Note that python is a zero-based index language meaning the first position is \"0\" and not \"1\""
   ]
  },
  {
   "cell_type": "code",
   "execution_count": 9,
   "id": "6c6f5b6b-2c3a-4cd3-982b-f6c09cab36eb",
   "metadata": {},
   "outputs": [
    {
     "data": {
      "text/plain": [
       "'Natasha Romanoff'"
      ]
     },
     "execution_count": 9,
     "metadata": {},
     "output_type": "execute_result"
    }
   ],
   "source": [
    "py_real_names[0] #to recall the first real name in the python list"
   ]
  },
  {
   "cell_type": "code",
   "execution_count": 10,
   "id": "ff77517a-8c53-47e1-9247-789613a45c11",
   "metadata": {},
   "outputs": [
    {
     "data": {
      "text/plain": [
       "'Black Widow'"
      ]
     },
     "execution_count": 10,
     "metadata": {},
     "output_type": "execute_result"
    }
   ],
   "source": [
    "py_super_names[0] #to recall the first super name in the python list"
   ]
  },
  {
   "cell_type": "markdown",
   "id": "057bfca5-f79e-416f-9664-38b767ba7ffc",
   "metadata": {},
   "source": [
    "- __reverse indexing__\n",
    "- Using a negative index allows us to count from the back of the list. For instance, using the index -1 will give the last element. This is super useful because we can easily access the last element without knowing the list size.\n",
    "\n"
   ]
  },
  {
   "cell_type": "code",
   "execution_count": 11,
   "id": "f6d070e2-6275-49b9-be75-060cbc9a09b2",
   "metadata": {},
   "outputs": [
    {
     "data": {
      "text/plain": [
       "'Doctor Strange'"
      ]
     },
     "execution_count": 11,
     "metadata": {},
     "output_type": "execute_result"
    }
   ],
   "source": [
    "py_super_names[2]    # This is Forward indexing (like the first example)\n",
    "                     # We need to know the size \n",
    "                     # beforehand for this to work."
   ]
  },
  {
   "cell_type": "code",
   "execution_count": 14,
   "id": "d8072d33-c381-47c5-972d-35837fb2668f",
   "metadata": {},
   "outputs": [
    {
     "data": {
      "text/plain": [
       "'Doctor Strange'"
      ]
     },
     "execution_count": 14,
     "metadata": {},
     "output_type": "execute_result"
    }
   ],
   "source": [
    "py_super_names[-1]   # This is Reverse indexing\n",
    "                     # I.e. accessing from the back of the list\n",
    "                     # -1 would be Dr Strange, -2 would be Iron man, and so on"
   ]
  },
  {
   "cell_type": "code",
   "execution_count": null,
   "id": "838a657e-3a13-4cea-b705-34d8e423660e",
   "metadata": {},
   "outputs": [],
   "source": []
  },
  {
   "attachments": {},
   "cell_type": "markdown",
   "id": "d1bf1c1c",
   "metadata": {},
   "source": [
    "## 1.3 Accessing data from a dictionary"
   ]
  },
  {
   "cell_type": "markdown",
   "id": "580c963d-be7d-4627-a929-55970fe3bf73",
   "metadata": {},
   "source": [
    "Dictionaries hold data (values) paired with a key. i.e. you can access the value (in this case, the superhero name) using the real name as a key. Here is how it works:\n",
    "\n"
   ]
  },
  {
   "cell_type": "code",
   "execution_count": 15,
   "id": "42e43115-a4d4-4c22-929f-3686c4bc0f6e",
   "metadata": {},
   "outputs": [],
   "source": [
    "superhero_info = {\n",
    "    \"Natasha Romanoff\": \"Black Widow\",\n",
    "    \"Tony Stark\": \"Iron Man\",\n",
    "    \"Stephen Strange\": \"Doctor Strange\"\n",
    "}                \n",
    "\n",
    "# so you have the \"paired key\" : \"data\""
   ]
  },
  {
   "cell_type": "code",
   "execution_count": 16,
   "id": "2b5699e0-ee45-49ba-a0b6-fab79cfc2b00",
   "metadata": {},
   "outputs": [
    {
     "data": {
      "text/plain": [
       "'Black Widow'"
      ]
     },
     "execution_count": 16,
     "metadata": {},
     "output_type": "execute_result"
    }
   ],
   "source": [
    "superhero_info[\"Natasha Romanoff\"]"
   ]
  },
  {
   "cell_type": "code",
   "execution_count": 17,
   "id": "5ddccb79-dc1f-4387-b21e-ea27ea44481c",
   "metadata": {},
   "outputs": [
    {
     "data": {
      "text/plain": [
       "'Doctor Strange'"
      ]
     },
     "execution_count": 17,
     "metadata": {},
     "output_type": "execute_result"
    }
   ],
   "source": [
    "superhero_info[\"Stephen Strange\"]"
   ]
  },
  {
   "cell_type": "code",
   "execution_count": 18,
   "id": "819666ee-2c91-4219-b1b9-44e6a560ab91",
   "metadata": {},
   "outputs": [
    {
     "ename": "KeyError",
     "evalue": "'Iron Man'",
     "output_type": "error",
     "traceback": [
      "\u001b[0;31m---------------------------------------------------------------------------\u001b[0m",
      "\u001b[0;31mKeyError\u001b[0m                                  Traceback (most recent call last)",
      "Cell \u001b[0;32mIn[18], line 1\u001b[0m\n\u001b[0;32m----> 1\u001b[0m \u001b[43msuperhero_info\u001b[49m\u001b[43m[\u001b[49m\u001b[38;5;124;43m\"\u001b[39;49m\u001b[38;5;124;43mIron Man\u001b[39;49m\u001b[38;5;124;43m\"\u001b[39;49m\u001b[43m]\u001b[49m\n",
      "\u001b[0;31mKeyError\u001b[0m: 'Iron Man'"
     ]
    }
   ],
   "source": [
    "superhero_info[\"Iron Man\"]"
   ]
  },
  {
   "cell_type": "markdown",
   "id": "aecac6af-2a5d-472e-aec8-081b1b4ad383",
   "metadata": {},
   "source": [
    "So in the above you get an error because you're trying to call form the data instead of the paired key."
   ]
  },
  {
   "cell_type": "code",
   "execution_count": 19,
   "id": "32ce8332-29ed-4e44-a832-cec9fa4b111c",
   "metadata": {},
   "outputs": [
    {
     "data": {
      "text/plain": [
       "dict_keys(['Natasha Romanoff', 'Tony Stark', 'Stephen Strange'])"
      ]
     },
     "execution_count": 19,
     "metadata": {},
     "output_type": "execute_result"
    }
   ],
   "source": [
    "#Access all the keys \n",
    "superhero_info.keys()"
   ]
  },
  {
   "cell_type": "code",
   "execution_count": 21,
   "id": "3b15874b-803b-49fd-a99f-2583deb83c08",
   "metadata": {},
   "outputs": [
    {
     "data": {
      "text/plain": [
       "dict_values(['Black Widow', 'Iron Man', 'Doctor Strange'])"
      ]
     },
     "execution_count": 21,
     "metadata": {},
     "output_type": "execute_result"
    }
   ],
   "source": [
    "#Access all the values\n",
    "superhero_info.values()"
   ]
  },
  {
   "cell_type": "markdown",
   "id": "7f673b10-5a6a-482e-b562-c5c9ace35645",
   "metadata": {},
   "source": [
    "__Remember that dictionaries have a key-value structure.__"
   ]
  },
  {
   "attachments": {},
   "cell_type": "markdown",
   "id": "ff62f1fa",
   "metadata": {},
   "source": [
    "## 1.4 Higher dimensional lists"
   ]
  },
  {
   "cell_type": "markdown",
   "id": "1e9792da-c9a3-4406-ad49-c91c21013e77",
   "metadata": {},
   "source": [
    "Before, in a dictionary, we can store everything in one {}. But if we want to pair up the data within, we can make a 2D list...a list within a list."
   ]
  },
  {
   "cell_type": "code",
   "execution_count": 22,
   "id": "01d8edb5-5d50-4da6-8c11-daf45c63976c",
   "metadata": {},
   "outputs": [],
   "source": [
    "#A 2D list that pairs the data together\n",
    "py_superhero_info = [['Natasha Romanoff', 'Black Widow'],\n",
    "                     ['Tony Stark', 'Iron Man'],\n",
    "                     ['Stephen Strange', 'Doctor Strange']]\n"
   ]
  },
  {
   "attachments": {},
   "cell_type": "markdown",
   "id": "07ca5420",
   "metadata": {},
   "source": [
    "# 2 Lists vs. Arrays"
   ]
  },
  {
   "cell_type": "markdown",
   "id": "3b530911-136c-434d-95c8-848b6bca77d6",
   "metadata": {},
   "source": [
    "Lists and arrays have some similarities but more differences. Leanring about both will allow you to appreciate the versatility that each offers."
   ]
  },
  {
   "attachments": {},
   "cell_type": "markdown",
   "id": "192b5f2c",
   "metadata": {},
   "source": [
    "## 2.1 Size"
   ]
  },
  {
   "cell_type": "markdown",
   "id": "4ae3b385-8f1f-4c46-940c-dfc931290713",
   "metadata": {},
   "source": [
    "__Knowing the size of lists and arrays with len ()__\n"
   ]
  },
  {
   "cell_type": "code",
   "execution_count": 30,
   "id": "ba76ce2e-b679-4cff-891e-1933070fb022",
   "metadata": {},
   "outputs": [],
   "source": [
    "#making a python list\n",
    "py_list_2d = [[1, \"A\"], [2, \"B\"], [3, \"C\"], [4, \"D\"],\n",
    "              [5, \"E\"], [6, \"F\"], [7, \"G\"], [8, \"H\"],\n",
    "              [9, \"I\"], [10, \"J\"]]\n",
    "\n",
    "#Making the python list an array\n",
    "np_array_2d = numpy.array(py_list_2d)   # Reusing the Python list \n",
    "                                        # to create a NEW\n",
    "                                        # NumPy array"
   ]
  },
  {
   "cell_type": "code",
   "execution_count": 27,
   "id": "e7e4f7dd-e296-4aac-b94f-4182f7280be2",
   "metadata": {},
   "outputs": [
    {
     "data": {
      "text/plain": [
       "10"
      ]
     },
     "execution_count": 27,
     "metadata": {},
     "output_type": "execute_result"
    }
   ],
   "source": [
    "len(py_list_2d) #Counts the 10 pairs of data and tells you the number"
   ]
  },
  {
   "cell_type": "code",
   "execution_count": 28,
   "id": "eaea5ce1-87a5-4d64-8b4a-d6aabf85d67b",
   "metadata": {},
   "outputs": [
    {
     "data": {
      "text/plain": [
       "10"
      ]
     },
     "execution_count": 28,
     "metadata": {},
     "output_type": "execute_result"
    }
   ],
   "source": [
    "len(np_array_2d) #Counts the 10 pairs of data and tells you the number"
   ]
  },
  {
   "cell_type": "code",
   "execution_count": 31,
   "id": "b137173d-9260-4096-8d68-dcd6a09a5905",
   "metadata": {},
   "outputs": [
    {
     "data": {
      "text/plain": [
       "(10, 2)"
      ]
     },
     "execution_count": 31,
     "metadata": {},
     "output_type": "execute_result"
    }
   ],
   "source": [
    "np_array_2d.shape #Counts the 10 pairs of data and tells you that they are grouped in 2s."
   ]
  },
  {
   "cell_type": "markdown",
   "id": "2b78433b-e7f9-429f-9799-a1a7ff124b1b",
   "metadata": {},
   "source": [
    "Notice the absence of brackets ( ) in shape above. This is because shape is not a function. Instead, it is a property or attribute of the Numpy array."
   ]
  },
  {
   "attachments": {},
   "cell_type": "markdown",
   "id": "a233ab9f",
   "metadata": {},
   "source": [
    "## 2.2 Arrays are fussy about type"
   ]
  },
  {
   "cell_type": "markdown",
   "id": "0f572d92-477c-4b35-adfc-89dd045b972c",
   "metadata": {},
   "source": [
    "Arrays insist on having only a single data type. Lists are more accomodating. \n",
    "Consider the following example and notice how the numbers are converted to English (' ') when we create the NumPy array."
   ]
  },
  {
   "cell_type": "code",
   "execution_count": 3,
   "id": "889310d7-bb57-4bdd-80ae-651cfdff75a5",
   "metadata": {},
   "outputs": [],
   "source": [
    "import numpy as np"
   ]
  },
  {
   "cell_type": "code",
   "execution_count": 6,
   "id": "62f6223d-33b9-4ac6-8e99-272b89bf43fa",
   "metadata": {},
   "outputs": [],
   "source": [
    "py_list = [1, 1.5, 'A']\n",
    "np_array = np.array(py_list)"
   ]
  },
  {
   "cell_type": "code",
   "execution_count": 7,
   "id": "d1dc64d9-7fe6-40f9-8ea3-a6d04c418b01",
   "metadata": {},
   "outputs": [
    {
     "data": {
      "text/plain": [
       "[1, 1.5, 'A']"
      ]
     },
     "execution_count": 7,
     "metadata": {},
     "output_type": "execute_result"
    }
   ],
   "source": [
    "#Lists\n",
    "py_list"
   ]
  },
  {
   "cell_type": "code",
   "execution_count": 9,
   "id": "abfb346f-1254-4f8f-9751-e479ac729375",
   "metadata": {},
   "outputs": [
    {
     "data": {
      "text/plain": [
       "array(['1', '1.5', 'A'], dtype='<U32')"
      ]
     },
     "execution_count": 9,
     "metadata": {},
     "output_type": "execute_result"
    }
   ],
   "source": [
    "#Vs the array which on't jove well with the 'A'\n",
    "np_array"
   ]
  },
  {
   "cell_type": "markdown",
   "id": "996db486-bc97-42ba-8755-122369cfba4f",
   "metadata": {},
   "source": [
    "This is not a super big deal an is easily amendable with `astypes()` to tycast (i.e change the type). More on that later."
   ]
  },
  {
   "attachments": {},
   "cell_type": "markdown",
   "id": "c9ef13f9",
   "metadata": {},
   "source": [
    "## 2.3 Adding a number"
   ]
  },
  {
   "cell_type": "code",
   "execution_count": 10,
   "id": "30fe8254-3c03-4e0c-857b-c450943db9de",
   "metadata": {},
   "outputs": [],
   "source": [
    "py_list = [1, 2, 3, 4, 5]\n",
    "np_array = np.array(py_list)         # Reusing the Python list\n",
    "                                     # to create a NEW\n",
    "                                     # NumPy array"
   ]
  },
  {
   "cell_type": "code",
   "execution_count": 12,
   "id": "135d7905-3688-47c6-bbaf-a1fa6022b094",
   "metadata": {},
   "outputs": [
    {
     "ename": "TypeError",
     "evalue": "can only concatenate list (not \"int\") to list",
     "output_type": "error",
     "traceback": [
      "\u001b[0;31m---------------------------------------------------------------------------\u001b[0m",
      "\u001b[0;31mTypeError\u001b[0m                                 Traceback (most recent call last)",
      "Cell \u001b[0;32mIn[12], line 2\u001b[0m\n\u001b[1;32m      1\u001b[0m \u001b[38;5;66;03m#Lists\u001b[39;00m\n\u001b[0;32m----> 2\u001b[0m \u001b[43mpy_list\u001b[49m\u001b[43m \u001b[49m\u001b[38;5;241;43m+\u001b[39;49m\u001b[43m \u001b[49m\u001b[38;5;241;43m10\u001b[39;49m\n\u001b[1;32m      3\u001b[0m \u001b[38;5;66;03m# This won;t work as the error message says below, in the list format it can only concatenate list into list and not integer into list\u001b[39;00m\n",
      "\u001b[0;31mTypeError\u001b[0m: can only concatenate list (not \"int\") to list"
     ]
    }
   ],
   "source": [
    "#Lists\n",
    "py_list + 10\n",
    "# This won;t work as the error message says below, in the list format it can only concatenate list into list and not integer into list"
   ]
  },
  {
   "cell_type": "code",
   "execution_count": 15,
   "id": "005380a7-d71e-4964-a621-7873a834af08",
   "metadata": {},
   "outputs": [
    {
     "data": {
      "text/plain": [
       "array([11, 12, 13, 14, 15])"
      ]
     },
     "execution_count": 15,
     "metadata": {},
     "output_type": "execute_result"
    }
   ],
   "source": [
    "# But with an Array we can arithmetically add 10\n",
    "np_array + 10"
   ]
  },
  {
   "attachments": {},
   "cell_type": "markdown",
   "id": "fbcd2509",
   "metadata": {},
   "source": [
    "## 2.4 Adding another list"
   ]
  },
  {
   "cell_type": "code",
   "execution_count": 18,
   "id": "c1304228-feef-4cd8-b2ba-58f05eafd719",
   "metadata": {},
   "outputs": [],
   "source": [
    "# Let's start by making 2 lists/arrays\n",
    "py_list_1 = [1, 2, 3, 4, 5]\n",
    "py_list_2 = [10, 20, 30, 40, 50]\n",
    "\n",
    "np_array_1 = np.array(py_list_1)\n",
    "np_array_2 = np.array(py_list_2)"
   ]
  },
  {
   "cell_type": "code",
   "execution_count": 19,
   "id": "d30bf4e3-090a-4998-8ef8-5211aa2f2e2b",
   "metadata": {},
   "outputs": [
    {
     "data": {
      "text/plain": [
       "[1, 2, 3, 4, 5, 10, 20, 30, 40, 50]"
      ]
     },
     "execution_count": 19,
     "metadata": {},
     "output_type": "execute_result"
    }
   ],
   "source": [
    "#Lists can be added together to form a larger list by the + sign\n",
    "py_list_1 + py_list_2"
   ]
  },
  {
   "cell_type": "code",
   "execution_count": 21,
   "id": "874bca83-d8b0-4bd7-83ab-fc58234ee920",
   "metadata": {},
   "outputs": [
    {
     "data": {
      "text/plain": [
       "array([11, 22, 33, 44, 55])"
      ]
     },
     "execution_count": 21,
     "metadata": {},
     "output_type": "execute_result"
    }
   ],
   "source": [
    "#Arrays are arithmetically added together with the + sign\n",
    "np_array_1 + np_array_2"
   ]
  },
  {
   "attachments": {},
   "cell_type": "markdown",
   "id": "177d997b",
   "metadata": {},
   "source": [
    "## 2.5 Multiplying by a Number"
   ]
  },
  {
   "cell_type": "code",
   "execution_count": null,
   "id": "d06d312e-014d-4790-883f-d333b608d9fd",
   "metadata": {},
   "outputs": [],
   "source": [
    "py_list = [1, 2, 3, 4, 5]\n",
    "np_array = np.array(py_list)         "
   ]
  },
  {
   "cell_type": "code",
   "execution_count": 22,
   "id": "fdb36a7e-ec1b-4108-941a-c868985f7de2",
   "metadata": {},
   "outputs": [
    {
     "data": {
      "text/plain": [
       "[1, 2, 3, 4, 5, 1, 2, 3, 4, 5, 1, 2, 3, 4, 5]"
      ]
     },
     "execution_count": 22,
     "metadata": {},
     "output_type": "execute_result"
    }
   ],
   "source": [
    "#Lists can be multiplies to increase the number the number of elements in it by x number of times leading to a larger list\n",
    "py_list*3"
   ]
  },
  {
   "cell_type": "code",
   "execution_count": 26,
   "id": "567a0278-b4f6-453a-8e4b-8da392469fa4",
   "metadata": {},
   "outputs": [
    {
     "data": {
      "text/plain": [
       "array([ 3,  6,  9, 12, 15])"
      ]
     },
     "execution_count": 26,
     "metadata": {},
     "output_type": "execute_result"
    }
   ],
   "source": [
    "#Arrays are arithmetically multiplied by the factor\n",
    "np_array*3"
   ]
  },
  {
   "attachments": {},
   "cell_type": "markdown",
   "id": "27247a1c",
   "metadata": {},
   "source": [
    "## 2.6 Squaring"
   ]
  },
  {
   "cell_type": "code",
   "execution_count": null,
   "id": "ac5dc011-aa03-4268-ada7-f7db5cd335f7",
   "metadata": {},
   "outputs": [],
   "source": [
    "py_list = [1, 2, 3, 4, 5]\n",
    "np_array = np.array(py_list)"
   ]
  },
  {
   "cell_type": "code",
   "execution_count": 28,
   "id": "2bcb15a8-45e3-449f-baaa-8d55df65cb28",
   "metadata": {},
   "outputs": [
    {
     "ename": "TypeError",
     "evalue": "unsupported operand type(s) for ** or pow(): 'list' and 'int'",
     "output_type": "error",
     "traceback": [
      "\u001b[0;31m---------------------------------------------------------------------------\u001b[0m",
      "\u001b[0;31mTypeError\u001b[0m                                 Traceback (most recent call last)",
      "Cell \u001b[0;32mIn[28], line 2\u001b[0m\n\u001b[1;32m      1\u001b[0m \u001b[38;5;66;03m#You can't square the elements stored in a list\u001b[39;00m\n\u001b[0;32m----> 2\u001b[0m \u001b[43mpy_list\u001b[49m\u001b[38;5;241;43m*\u001b[39;49m\u001b[38;5;241;43m*\u001b[39;49m\u001b[38;5;241;43m2\u001b[39;49m\n",
      "\u001b[0;31mTypeError\u001b[0m: unsupported operand type(s) for ** or pow(): 'list' and 'int'"
     ]
    }
   ],
   "source": [
    "#You can't square the elements stored in a list\n",
    "py_list**2"
   ]
  },
  {
   "cell_type": "code",
   "execution_count": 29,
   "id": "032538dd-36fd-4f2f-b217-0a9c88c7664d",
   "metadata": {},
   "outputs": [
    {
     "data": {
      "text/plain": [
       "array([ 1,  4,  9, 16, 25])"
      ]
     },
     "execution_count": 29,
     "metadata": {},
     "output_type": "execute_result"
    }
   ],
   "source": [
    "#You can square the elements stored in an array arithmetically\n",
    "np_array**2"
   ]
  },
  {
   "attachments": {},
   "cell_type": "markdown",
   "id": "386ce4c6",
   "metadata": {},
   "source": [
    "## 2.7 Asking questions"
   ]
  },
  {
   "cell_type": "code",
   "execution_count": null,
   "id": "f42c7e91-4ac1-448f-9d16-76f6c3cafab8",
   "metadata": {},
   "outputs": [],
   "source": [
    "py_list = [1, 2, 3, 4, 5]\n",
    "np_array = np.array(py_list)         \n"
   ]
  },
  {
   "cell_type": "code",
   "execution_count": 30,
   "id": "2e5f749a-341a-4fa3-a949-3b6b739aea5b",
   "metadata": {},
   "outputs": [
    {
     "data": {
      "text/plain": [
       "False"
      ]
     },
     "execution_count": 30,
     "metadata": {},
     "output_type": "execute_result"
    }
   ],
   "source": [
    "#List Example 1\n",
    "py_list == 3\n",
    "#Asks: is py_list only consisting of 3?"
   ]
  },
  {
   "cell_type": "code",
   "execution_count": 34,
   "id": "6934bc65-7255-4d82-87f2-2efeb6671609",
   "metadata": {},
   "outputs": [
    {
     "data": {
      "text/plain": [
       "True"
      ]
     },
     "execution_count": 34,
     "metadata": {},
     "output_type": "execute_result"
    }
   ],
   "source": [
    "#List Example 1 cont\n",
    "py_list == [1, 2, 3, 4, 5]\n",
    "#This then is..."
   ]
  },
  {
   "cell_type": "code",
   "execution_count": 35,
   "id": "9e55e042-b726-4f67-99fc-a29b5941d33f",
   "metadata": {},
   "outputs": [
    {
     "ename": "TypeError",
     "evalue": "'>' not supported between instances of 'list' and 'int'",
     "output_type": "error",
     "traceback": [
      "\u001b[0;31m---------------------------------------------------------------------------\u001b[0m",
      "\u001b[0;31mTypeError\u001b[0m                                 Traceback (most recent call last)",
      "Cell \u001b[0;32mIn[35], line 2\u001b[0m\n\u001b[1;32m      1\u001b[0m \u001b[38;5;66;03m#List Example 2\u001b[39;00m\n\u001b[0;32m----> 2\u001b[0m \u001b[43mpy_list\u001b[49m\u001b[43m \u001b[49m\u001b[38;5;241;43m>\u001b[39;49m\u001b[43m \u001b[49m\u001b[38;5;241;43m3\u001b[39;49m      \u001b[38;5;66;03m# Won't work!\u001b[39;00m\n",
      "\u001b[0;31mTypeError\u001b[0m: '>' not supported between instances of 'list' and 'int'"
     ]
    }
   ],
   "source": [
    "#List Example 2\n",
    "py_list > 3      # Won't work! '>' not supported between instances of list and integers"
   ]
  },
  {
   "cell_type": "code",
   "execution_count": 37,
   "id": "b2c0273b-0c77-4733-bbab-d7a56cb6eb37",
   "metadata": {},
   "outputs": [
    {
     "data": {
      "text/plain": [
       "array([False, False,  True, False, False])"
      ]
     },
     "execution_count": 37,
     "metadata": {},
     "output_type": "execute_result"
    }
   ],
   "source": [
    "#Array Example 1\n",
    "np_array == 3\n",
    "#In an array format, == will cycle through each element to check if it is true for each one individually and return..."
   ]
  },
  {
   "cell_type": "code",
   "execution_count": 38,
   "id": "40b03180-ab48-473b-a86e-1d746e070f14",
   "metadata": {},
   "outputs": [
    {
     "data": {
      "text/plain": [
       "array([False, False, False,  True,  True])"
      ]
     },
     "execution_count": 38,
     "metadata": {},
     "output_type": "execute_result"
    }
   ],
   "source": [
    "#Array Example 2\n",
    "#It follows in the same way for inequality signs\n",
    "np_array > 3"
   ]
  },
  {
   "attachments": {},
   "cell_type": "markdown",
   "id": "c19a7ea1",
   "metadata": {},
   "source": [
    "## 2.8 Mathematics"
   ]
  },
  {
   "cell_type": "code",
   "execution_count": 39,
   "id": "dd68cfac-278d-4593-9396-a1b7586ce23e",
   "metadata": {},
   "outputs": [],
   "source": [
    "py_list = [1, 2, 3, 4, 5]\n",
    "np_array = np.array(py_list)         \n"
   ]
  },
  {
   "cell_type": "markdown",
   "id": "49de86b6-ce26-4df9-b339-81e04cc7fa62",
   "metadata": {},
   "source": [
    "__Summation (Lists)__"
   ]
  },
  {
   "cell_type": "code",
   "execution_count": 40,
   "id": "38bb6c07-8e3b-478d-9d03-7d839c3394f1",
   "metadata": {},
   "outputs": [
    {
     "data": {
      "text/plain": [
       "15"
      ]
     },
     "execution_count": 40,
     "metadata": {},
     "output_type": "execute_result"
    }
   ],
   "source": [
    "#Lists Example 1\n",
    "sum(py_list)     # sum() is a base Python function"
   ]
  },
  {
   "cell_type": "markdown",
   "id": "a3f0f1d6-e5a7-4005-9244-a53de6911b9f",
   "metadata": {},
   "source": [
    "__Maximum (Lists)__"
   ]
  },
  {
   "cell_type": "code",
   "execution_count": 42,
   "id": "6df1d46d-0cdb-4e63-924c-d7e671adbb1b",
   "metadata": {},
   "outputs": [
    {
     "data": {
      "text/plain": [
       "5"
      ]
     },
     "execution_count": 42,
     "metadata": {},
     "output_type": "execute_result"
    }
   ],
   "source": [
    "#Lists Example 2\n",
    "max(py_list)     # max() is a base Python function"
   ]
  },
  {
   "cell_type": "code",
   "execution_count": 45,
   "id": "c8fdd7a1-fdba-4917-af69-17c5dab702e0",
   "metadata": {},
   "outputs": [
    {
     "ename": "SyntaxError",
     "evalue": "invalid syntax (3923588591.py, line 1)",
     "output_type": "error",
     "traceback": [
      "\u001b[0;36m  Cell \u001b[0;32mIn[45], line 1\u001b[0;36m\u001b[0m\n\u001b[0;31m    __Minimum (Lists)__\u001b[0m\n\u001b[0m                     ^\u001b[0m\n\u001b[0;31mSyntaxError\u001b[0m\u001b[0;31m:\u001b[0m invalid syntax\n"
     ]
    }
   ],
   "source": [
    "__Minimum (Lists)__"
   ]
  },
  {
   "cell_type": "code",
   "execution_count": 43,
   "id": "ad20ed05-0685-4ebd-9c86-8593a388b8d1",
   "metadata": {},
   "outputs": [
    {
     "data": {
      "text/plain": [
       "1"
      ]
     },
     "execution_count": 43,
     "metadata": {},
     "output_type": "execute_result"
    }
   ],
   "source": [
    "min(py_list)     # min() is a base Python function"
   ]
  },
  {
   "cell_type": "markdown",
   "id": "a3f4587a-d316-4055-9983-ba0b0dedac0d",
   "metadata": {},
   "source": [
    "__Careful with syntax for lists__"
   ]
  },
  {
   "cell_type": "code",
   "execution_count": 44,
   "id": "420d260a-531b-44b9-a893-c5f4d5c20e71",
   "metadata": {},
   "outputs": [
    {
     "ename": "AttributeError",
     "evalue": "'list' object has no attribute 'sum'",
     "output_type": "error",
     "traceback": [
      "\u001b[0;31m---------------------------------------------------------------------------\u001b[0m",
      "\u001b[0;31mAttributeError\u001b[0m                            Traceback (most recent call last)",
      "Cell \u001b[0;32mIn[44], line 1\u001b[0m\n\u001b[0;32m----> 1\u001b[0m \u001b[43mpy_list\u001b[49m\u001b[38;5;241;43m.\u001b[39;49m\u001b[43msum\u001b[49m()   \u001b[38;5;66;03m# Won't work!\u001b[39;00m\n",
      "\u001b[0;31mAttributeError\u001b[0m: 'list' object has no attribute 'sum'"
     ]
    }
   ],
   "source": [
    "py_list.sum()   # Won't work!"
   ]
  },
  {
   "cell_type": "markdown",
   "id": "a28eb101-b72a-424e-b842-b140c79cb1a8",
   "metadata": {},
   "source": [
    "__Summation (Arrays)__"
   ]
  },
  {
   "cell_type": "code",
   "execution_count": 47,
   "id": "6be48fc7-30cc-41a2-bc80-32858b4c3833",
   "metadata": {},
   "outputs": [
    {
     "data": {
      "text/plain": [
       "15"
      ]
     },
     "execution_count": 47,
     "metadata": {},
     "output_type": "execute_result"
    }
   ],
   "source": [
    "np_array.sum()"
   ]
  },
  {
   "cell_type": "markdown",
   "id": "aac85010-072a-4b63-abb9-3845c1e19513",
   "metadata": {},
   "source": [
    "__Maximum (Arrays)__"
   ]
  },
  {
   "cell_type": "code",
   "execution_count": 48,
   "id": "1d005bf7-3d67-4c5a-8c69-d3fa2476ce22",
   "metadata": {},
   "outputs": [
    {
     "data": {
      "text/plain": [
       "5"
      ]
     },
     "execution_count": 48,
     "metadata": {},
     "output_type": "execute_result"
    }
   ],
   "source": [
    "np_array.max()"
   ]
  },
  {
   "cell_type": "markdown",
   "id": "a0c28007-aa12-449b-a6ce-9917b5dbd68b",
   "metadata": {},
   "source": [
    "__Minimum (Arrays)__"
   ]
  },
  {
   "cell_type": "code",
   "execution_count": 49,
   "id": "ff9a9fa8-32dc-4f5c-9703-25daae4eb93d",
   "metadata": {},
   "outputs": [
    {
     "data": {
      "text/plain": [
       "1"
      ]
     },
     "execution_count": 49,
     "metadata": {},
     "output_type": "execute_result"
    }
   ],
   "source": [
    "np_array.min()"
   ]
  },
  {
   "cell_type": "markdown",
   "id": "f6b8e57b-014e-4d48-b79a-85086573de75",
   "metadata": {},
   "source": [
    "__Mean (Arrays)__"
   ]
  },
  {
   "cell_type": "code",
   "execution_count": 50,
   "id": "cb0e84cc-ce90-4256-ba2e-be5d76ccc3e7",
   "metadata": {},
   "outputs": [
    {
     "data": {
      "text/plain": [
       "3.0"
      ]
     },
     "execution_count": 50,
     "metadata": {},
     "output_type": "execute_result"
    }
   ],
   "source": [
    "np_array.mean()"
   ]
  },
  {
   "cell_type": "markdown",
   "id": "9e070038-6c09-4331-b957-6db78a5d8054",
   "metadata": {},
   "source": [
    "__Standard Deviation (Arrays)__"
   ]
  },
  {
   "cell_type": "code",
   "execution_count": 51,
   "id": "d3132197-5587-482d-9a97-a6112f41a9aa",
   "metadata": {},
   "outputs": [
    {
     "data": {
      "text/plain": [
       "1.4142135623730951"
      ]
     },
     "execution_count": 51,
     "metadata": {},
     "output_type": "execute_result"
    }
   ],
   "source": [
    "np_array.std()"
   ]
  },
  {
   "cell_type": "markdown",
   "id": "b32f06e5-6609-4834-890c-68e6ee9dbd94",
   "metadata": {},
   "source": [
    "__TLDR: an operation on a list works on the whole list. In contrast, an operation on an array works on the individual elements of the array.__"
   ]
  },
  {
   "attachments": {},
   "cell_type": "markdown",
   "id": "dad05263",
   "metadata": {},
   "source": [
    "# Exercises & Self-Assessment"
   ]
  },
  {
   "cell_type": "markdown",
   "id": "322711d0-fe91-4705-9415-e05eff3c34e4",
   "metadata": {},
   "source": [
    "Yuan Zhe, do I do the Storing Data Need exercises here or in the separate Storing Data Need exercises file? "
   ]
  },
  {
   "cell_type": "code",
   "execution_count": null,
   "id": "74fa1ec4",
   "metadata": {},
   "outputs": [],
   "source": [
    "\n",
    "\n",
    "\n",
    "# Your solution here\n",
    "\n",
    "\n"
   ]
  },
  {
   "attachments": {},
   "cell_type": "markdown",
   "id": "0c0ad353",
   "metadata": {},
   "source": [
    "## Footnotes"
   ]
  }
 ],
 "metadata": {
  "kernelspec": {
   "display_name": "Python 3 (ipykernel)",
   "language": "python",
   "name": "python3"
  },
  "language_info": {
   "codemirror_mode": {
    "name": "ipython",
    "version": 3
   },
   "file_extension": ".py",
   "mimetype": "text/x-python",
   "name": "python",
   "nbconvert_exporter": "python",
   "pygments_lexer": "ipython3",
   "version": "3.11.7"
  },
  "toc": {
   "base_numbering": 1,
   "nav_menu": {},
   "number_sections": true,
   "sideBar": true,
   "skip_h1_title": false,
   "title_cell": "Table of Contents",
   "title_sidebar": "Contents",
   "toc_cell": false,
   "toc_position": {},
   "toc_section_display": true,
   "toc_window_display": false
  },
  "vscode": {
   "interpreter": {
    "hash": "31f2aee4e71d21fbe5cf8b01ff0e069b9275f58929596ceb00d14d90e3e16cd6"
   }
  }
 },
 "nbformat": 4,
 "nbformat_minor": 5
}

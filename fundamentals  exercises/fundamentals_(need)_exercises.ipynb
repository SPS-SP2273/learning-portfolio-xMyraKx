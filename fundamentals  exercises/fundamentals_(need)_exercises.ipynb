{
 "cells": [
  {
   "attachments": {},
   "cell_type": "markdown",
   "id": "123456",
   "metadata": {},
   "source": [
    "<div style=\"text-align:left;font-size:2em\"><span style=\"font-weight:bolder;font-size:1.25em\">SP2273 | Learning Portfolio</span><br><br><span style=\"font-weight:bold;color:darkred\">Fundamentals (Need) Exercises</span></div>"
   ]
  },
  {
   "cell_type": "markdown",
   "id": "728ae221-8912-4d08-8c71-13bcaf576057",
   "metadata": {},
   "source": [
    "# Exercise 1 (listing as many python features as we can remember)"
   ]
  },
  {
   "cell_type": "markdown",
   "id": "8887e83d-1302-4425-b619-900646ecfb07",
   "metadata": {},
   "source": [
    "1. print(' ')\n",
    "2. print( )\n",
    "3. _print(variable_name['category'])_\n",
    "4. 'string words'.split()\n",
    "5. sqrt ( )\n",
    "6. _import package_\n",
    "7. _import package as desire_name_\n",
    "8. a_package.a_command () like math.sqrt()\n",
    "9. _[ ] for lists of data like py_list = [1,2,3,4,5,6,7,8]_\n",
    "10.  _{ } to store data in a 'dictionary'_\n",
    "11. Basic arithmetic like (2+3)*4\n",
    "12. if\n",
    "13. else\n",
    "14. x = 9 to assign a value to a variable\n",
    "15. x == 9\n",
    "16. '# for comments'\n"
   ]
  },
  {
   "cell_type": "markdown",
   "id": "47492f85-dafa-4242-9b57-06d3bc9709fd",
   "metadata": {},
   "source": [
    "Markdown things (for formatting and latex etc.) not listed."
   ]
  },
  {
   "cell_type": "markdown",
   "id": "9cef8e99-6a29-412a-a131-e0f3a3f490a3",
   "metadata": {},
   "source": [
    "# Exercise 2 (Debug me)"
   ]
  },
  {
   "cell_type": "code",
   "execution_count": 2,
   "id": "adeaa0b6-e551-457f-9037-c18d4fa9fad9",
   "metadata": {},
   "outputs": [
    {
     "ename": "IndentationError",
     "evalue": "unindent does not match any outer indentation level (<tokenize>, line 3)",
     "output_type": "error",
     "traceback": [
      "\u001b[0;36m  File \u001b[0;32m<tokenize>:3\u001b[0;36m\u001b[0m\n\u001b[0;31m    Print(x, y, z)\u001b[0m\n\u001b[0m    ^\u001b[0m\n\u001b[0;31mIndentationError\u001b[0m\u001b[0;31m:\u001b[0m unindent does not match any outer indentation level\n"
     ]
    }
   ],
   "source": [
    "# erroneous code\n",
    "x, y = 3, 4\n",
    "        z = sqrt(x*2 + y**2)\n",
    "    Print(x, y, z)"
   ]
  },
  {
   "cell_type": "code",
   "execution_count": 13,
   "id": "383ed357-8101-4240-881c-8c06053eb6b7",
   "metadata": {},
   "outputs": [
    {
     "name": "stdout",
     "output_type": "stream",
     "text": [
      "3 4 5.0\n"
     ]
    }
   ],
   "source": [
    "# Debugged code\n",
    "import numpy as npy\n",
    "\n",
    "x, y = 3, 4\n",
    "z = npy.sqrt(x**2 + y**2)\n",
    "print(x, y, z)\n",
    "\n"
   ]
  },
  {
   "cell_type": "markdown",
   "id": "01751f75-e40e-470a-b478-10394f691cfd",
   "metadata": {},
   "source": [
    "# Exercise 3 (In your own words)"
   ]
  },
  {
   "cell_type": "markdown",
   "id": "9bc6d3d7-d54e-4bff-a7a0-971afdc76833",
   "metadata": {},
   "source": [
    "#### Note about tables:\n",
    "- In the table generator website [linked here](https://www.tablesgenerator.com/markdown_tables) you can change and select the type of code you want to generate the table with in the above tabs.\n",
    "- If you want a table filled with maths and equations, formulas etc. it's best to use LaTex code (like in ths first table here).\n",
    "- If it is purely a table filled with text, Markdown code will suffice and be suited (like in the second table)."
   ]
  },
  {
   "cell_type": "markdown",
   "id": "80008501-3cd5-4956-8c45-ea4baa64a927",
   "metadata": {},
   "source": [
    "$$\n",
    "\\begin{array}{ccl}\n",
    "No & Term & Description \\\\\n",
    "1          & Function      &                                          \\\\\n",
    "2          & Arguments     &                                          \\\\\n",
    "3          & Comments      &                                          \\\\\n",
    "4          & Indentations  &                                          \\\\\n",
    "5          & Packages      &                                          \\\\\n",
    "6          & .             &                                          \\\\\n",
    "7          & :             &                                          \\\\\n",
    "8          & [ ]           &                                          \\\\\n",
    "9          & [ [ [ ] ] ]   &                                          \\\\\n",
    "10         & { }           &                                         \n",
    "\\end{array}\n",
    "$$"
   ]
  },
  {
   "cell_type": "markdown",
   "id": "8072bf9c-8bfe-4871-8eb2-0b47ab98939d",
   "metadata": {},
   "source": [
    "|  # |     Term     | Description |\n",
    "|:--:|:------------:|:-----------:|\n",
    "|  1 |   Function   | A command which takes and processes an input to give an output            |\n",
    "|  2 |   Arguments  |The contents of the brackets in a function             |\n",
    "|  3 |   Comments   |Notes in the code about the code that follow a #             |\n",
    "|  4 | Indentations |What's used for python to identify 'blocks' in the code             |\n",
    "|  5 |   Packages   |Extra functionalities you can import             |\n",
    "|  6 |       .      |To assign ownership             |\n",
    "|  7 |       :      |To end the line of code             |\n",
    "|  8 |      [ ]     |To define the content of lists             |\n",
    "|  9 |  [ [ [ ] ] ] |To make a list within a list within a list (a 3D array)             |\n",
    "| 10 |      { }     |To store data in the 'dictionary'             |"
   ]
  },
  {
   "cell_type": "markdown",
   "id": "28a93fc9-5cd6-4c75-98d7-5170e66956a0",
   "metadata": {},
   "source": [
    "Yuan Zhe, what are [ [ [ ] ] ] or 3D arrays used for? I dont think the notes mentioned them.\n"
   ]
  },
  {
   "cell_type": "markdown",
   "id": "ef69d4b3-d4bc-4a7d-9671-19395908ac4a",
   "metadata": {},
   "source": [
    "# Exercise 4 (more than one way to divide)"
   ]
  },
  {
   "cell_type": "markdown",
   "id": "91f3558c-dc6e-4edb-8f8c-e0fcdaed59e3",
   "metadata": {},
   "source": [
    "Programming languages usually offer multiple options for dividing one number by another. Shown below are three such options. Either by observation (i.e., trial and error), Googling or discussing with a friend, figure out what each one does.\n",
    "I recommended the trial and error approach first so that you get a feel for how to use Python.\n",
    "Indicate your answer by writing a comment."
   ]
  },
  {
   "cell_type": "code",
   "execution_count": 19,
   "id": "8c6aa495-1a7c-4a10-aba2-e2441d4e4b96",
   "metadata": {},
   "outputs": [
    {
     "data": {
      "text/plain": [
       "2.5"
      ]
     },
     "execution_count": 19,
     "metadata": {},
     "output_type": "execute_result"
    }
   ],
   "source": [
    "5/2 # This executes simple division"
   ]
  },
  {
   "cell_type": "code",
   "execution_count": 27,
   "id": "d798206d-8ed9-4fb5-827f-a3488a4e1ef2",
   "metadata": {},
   "outputs": [
    {
     "data": {
      "text/plain": [
       "2"
      ]
     },
     "execution_count": 27,
     "metadata": {},
     "output_type": "execute_result"
    }
   ],
   "source": [
    "5//2 # This divides the first number by the second number then rounds the answer down \n",
    "    # i.e. returns the integer value of the quotient"
   ]
  },
  {
   "cell_type": "code",
   "execution_count": 24,
   "id": "3d2ca6a1-1887-4529-a045-88459bcc9966",
   "metadata": {},
   "outputs": [
    {
     "data": {
      "text/plain": [
       "5"
      ]
     },
     "execution_count": 24,
     "metadata": {},
     "output_type": "execute_result"
    }
   ],
   "source": [
    "20//4\n"
   ]
  },
  {
   "cell_type": "code",
   "execution_count": 21,
   "id": "ac8b2c30-5cd9-4002-8a0d-9f23001049c3",
   "metadata": {},
   "outputs": [
    {
     "data": {
      "text/plain": [
       "1"
      ]
     },
     "execution_count": 21,
     "metadata": {},
     "output_type": "execute_result"
    }
   ],
   "source": [
    "5%2 #This gives the modulus remainder "
   ]
  }
 ],
 "metadata": {
  "kernelspec": {
   "display_name": "Python 3 (ipykernel)",
   "language": "python",
   "name": "python3"
  },
  "language_info": {
   "codemirror_mode": {
    "name": "ipython",
    "version": 3
   },
   "file_extension": ".py",
   "mimetype": "text/x-python",
   "name": "python",
   "nbconvert_exporter": "python",
   "pygments_lexer": "ipython3",
   "version": "3.11.7"
  },
  "toc": {
   "base_numbering": 1,
   "nav_menu": {},
   "number_sections": true,
   "sideBar": true,
   "skip_h1_title": false,
   "title_cell": "Table of Contents",
   "title_sidebar": "Contents",
   "toc_cell": false,
   "toc_position": {},
   "toc_section_display": true,
   "toc_window_display": false
  },
  "vscode": {
   "interpreter": {
    "hash": "31f2aee4e71d21fbe5cf8b01ff0e069b9275f58929596ceb00d14d90e3e16cd6"
   }
  }
 },
 "nbformat": 4,
 "nbformat_minor": 5
}

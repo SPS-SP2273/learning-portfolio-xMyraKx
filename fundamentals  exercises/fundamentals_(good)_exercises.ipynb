{
 "cells": [
  {
   "attachments": {},
   "cell_type": "markdown",
   "id": "123456",
   "metadata": {},
   "source": [
    "<div style=\"text-align:left;font-size:2em\"><span style=\"font-weight:bolder;font-size:1.25em\">SP2273 | Learning Portfolio</span><br><br><span style=\"font-weight:bold;color:darkred\">Fundamentals (Good) Exercises</span></div>"
   ]
  },
  {
   "cell_type": "markdown",
   "id": "bc426721-f91f-43bf-a92b-dcacc13bdaa5",
   "metadata": {},
   "source": [
    "__What is your grade?__"
   ]
  },
  {
   "cell_type": "markdown",
   "id": "6db52652-bb3f-4c7b-9177-1122bfea39ad",
   "metadata": {},
   "source": [
    "To solicit information form the user use `input()`"
   ]
  },
  {
   "cell_type": "code",
   "execution_count": 1,
   "id": "408e1462-ba5c-4183-9200-d3fa3c4db4fb",
   "metadata": {},
   "outputs": [
    {
     "name": "stdin",
     "output_type": "stream",
     "text": [
      "Give me a number? 8\n"
     ]
    },
    {
     "name": "stdout",
     "output_type": "stream",
     "text": [
      "You entered 8\n"
     ]
    }
   ],
   "source": [
    "user_input = input('Give me a number?')\n",
    "print('You entered', user_input)"
   ]
  },
  {
   "cell_type": "code",
   "execution_count": 2,
   "id": "0f82ab48-db1b-4224-9e75-eeab099a9161",
   "metadata": {},
   "outputs": [
    {
     "name": "stdin",
     "output_type": "stream",
     "text": [
      "Give me a number? 23832\n"
     ]
    },
    {
     "name": "stdout",
     "output_type": "stream",
     "text": [
      "You entered 23832\n"
     ]
    }
   ],
   "source": [
    "user_input = input('Give me a number?')\n",
    "print('You entered', user_input)\n"
   ]
  },
  {
   "cell_type": "markdown",
   "id": "691def49-e225-418a-94de-250d99d3d024",
   "metadata": {},
   "source": [
    "__Instructions__\n",
    "\n",
    "Write a Python program that takes a numerical grade (0-100) as input and outputs the corresponding letter grade based on the following criteria:\n",
    "\n",
    "| Grade | Score Range |\n",
    "|-------|-------------|\n",
    "| A     | 70 - 100    |\n",
    "| B     | 50 - 69     |\n",
    "| C     | 35 - 49     |\n",
    "| Fail  | 0 - 34      |\n",
    "\n",
    "__Note__\n",
    "- Here is an example of the type of exchange expected.\n",
    "```python\n",
    "'Enter the student's score:' 85\n",
    "'The student's letter grade is:' A\n",
    "```\n",
    "- Ensure your program handles unexpected inputs gracefully and displays a relevant error message.\n"
   ]
  },
  {
   "cell_type": "code",
   "execution_count": 6,
   "id": "3bd06264-73c9-4bbb-a113-6ab9b3cfdf94",
   "metadata": {},
   "outputs": [
    {
     "name": "stdin",
     "output_type": "stream",
     "text": [
      "What's your test score? 71\n"
     ]
    },
    {
     "ename": "TypeError",
     "evalue": "'<=' not supported between instances of 'int' and 'str'",
     "output_type": "error",
     "traceback": [
      "\u001b[0;31m---------------------------------------------------------------------------\u001b[0m",
      "\u001b[0;31mTypeError\u001b[0m                                 Traceback (most recent call last)",
      "Cell \u001b[0;32mIn[6], line 2\u001b[0m\n\u001b[1;32m      1\u001b[0m user_input \u001b[38;5;241m=\u001b[39m \u001b[38;5;28minput\u001b[39m (\u001b[38;5;124m\"\u001b[39m\u001b[38;5;124mWhat\u001b[39m\u001b[38;5;124m'\u001b[39m\u001b[38;5;124ms your test score?\u001b[39m\u001b[38;5;124m\"\u001b[39m)\n\u001b[0;32m----> 2\u001b[0m \u001b[38;5;28;01mif\u001b[39;00m \u001b[38;5;241;43m70\u001b[39;49m\u001b[43m \u001b[49m\u001b[38;5;241;43m<\u001b[39;49m\u001b[38;5;241;43m=\u001b[39;49m\u001b[43m \u001b[49m\u001b[43muser_input\u001b[49m\u001b[43m \u001b[49m\u001b[38;5;241;43m<\u001b[39;49m\u001b[38;5;241;43m=\u001b[39;49m\u001b[43m \u001b[49m\u001b[38;5;241;43m100\u001b[39;49m:\n\u001b[1;32m      3\u001b[0m     \u001b[38;5;28mprint\u001b[39m (\u001b[38;5;124m\"\u001b[39m\u001b[38;5;124mYour letter grade is: A\u001b[39m\u001b[38;5;124m\"\u001b[39m)\n",
      "\u001b[0;31mTypeError\u001b[0m: '<=' not supported between instances of 'int' and 'str'"
     ]
    }
   ],
   "source": [
    "user_input = input (\"What's your test score?\")\n",
    "if 70 <= user_input <= 100:\n",
    "    print (\"Your letter grade is: A\")"
   ]
  },
  {
   "cell_type": "code",
   "execution_count": null,
   "id": "5290057c-8a07-4511-b420-5560aa5abda7",
   "metadata": {},
   "outputs": [],
   "source": [
    "# hmm ok so the above isn't working because the input is expecting a string input and not a numerical one..."
   ]
  },
  {
   "cell_type": "code",
   "execution_count": 8,
   "id": "107027bd-5f3d-4b1f-8417-4489a153f628",
   "metadata": {},
   "outputs": [
    {
     "name": "stdin",
     "output_type": "stream",
     "text": [
      "What's your test score? 71\n"
     ]
    },
    {
     "name": "stdout",
     "output_type": "stream",
     "text": [
      "Your letter grade is: A\n"
     ]
    }
   ],
   "source": [
    "#Trying to make the input() work with numerical inputs\n",
    "user_input = int(input (\"What's your test score?\"))\n",
    "if 70 <= user_input <= 100:\n",
    "    print (\"Your letter grade is: A\")\n"
   ]
  },
  {
   "cell_type": "code",
   "execution_count": 9,
   "id": "2bff45e6-4f26-4a6f-8d4f-7ae1ccad2643",
   "metadata": {},
   "outputs": [],
   "source": [
    "#Yay! Now lets continue adding the other conditions "
   ]
  },
  {
   "cell_type": "code",
   "execution_count": 15,
   "id": "d2218288-679a-495b-a897-4ea57baa4a30",
   "metadata": {},
   "outputs": [
    {
     "name": "stdin",
     "output_type": "stream",
     "text": [
      "What's your test score? 78\n"
     ]
    },
    {
     "name": "stdout",
     "output_type": "stream",
     "text": [
      "Your letter grade is: A\n"
     ]
    }
   ],
   "source": [
    "user_input = int(input (\"What's your test score?\"))\n",
    "if 70 <= user_input <= 100:\n",
    "    print (\"Your letter grade is: A\")\n",
    "elif 50 <= user_input <= 69:\n",
    "    print (\"Your letter grade is: B\")\n",
    "elif 35 <= user_input <= 49:\n",
    "    print (\"Your letter grade is: C\")\n",
    "elif 0 <= user_input <= 34:\n",
    "    print (\"You have failed the test\")\n",
    "else:\n",
    "    print(\"Please key in an integer number from 0 to 100\")"
   ]
  },
  {
   "cell_type": "markdown",
   "id": "8b26d98a-ffb1-4ee9-83d5-7ffdd321e940",
   "metadata": {},
   "source": [
    "Now to stress test it..."
   ]
  },
  {
   "cell_type": "code",
   "execution_count": 16,
   "id": "ebde88a3-8d86-4524-a507-9084b65eeb58",
   "metadata": {},
   "outputs": [
    {
     "name": "stdin",
     "output_type": "stream",
     "text": [
      "What's your test score? 60\n"
     ]
    },
    {
     "name": "stdout",
     "output_type": "stream",
     "text": [
      "Your letter grade is: B\n"
     ]
    }
   ],
   "source": [
    "user_input = int(input (\"What's your test score?\"))\n",
    "if 70 <= user_input <= 100:\n",
    "    print (\"Your letter grade is: A\")\n",
    "elif 50 <= user_input <= 69:\n",
    "    print (\"Your letter grade is: B\")\n",
    "elif 35 <= user_input <= 49:\n",
    "    print (\"Your letter grade is: C\")\n",
    "elif 0 <= user_input <= 34:\n",
    "    print (\"You have failed the test\")\n",
    "else:\n",
    "    print(\"Please key in an integer number from 0 to 100\")"
   ]
  },
  {
   "cell_type": "code",
   "execution_count": 17,
   "id": "96fcfbfd-548f-4eaf-8d18-7155dddd00f9",
   "metadata": {},
   "outputs": [
    {
     "name": "stdin",
     "output_type": "stream",
     "text": [
      "What's your test score? 40\n"
     ]
    },
    {
     "name": "stdout",
     "output_type": "stream",
     "text": [
      "Your letter grade is: C\n"
     ]
    }
   ],
   "source": [
    "user_input = int(input (\"What's your test score?\"))\n",
    "if 70 <= user_input <= 100:\n",
    "    print (\"Your letter grade is: A\")\n",
    "elif 50 <= user_input <= 69:\n",
    "    print (\"Your letter grade is: B\")\n",
    "elif 35 <= user_input <= 49:\n",
    "    print (\"Your letter grade is: C\")\n",
    "elif 0 <= user_input <= 34:\n",
    "    print (\"You have failed the test\")\n",
    "else:\n",
    "    print(\"Please key in an integer number from 0 to 100\")"
   ]
  },
  {
   "cell_type": "code",
   "execution_count": 19,
   "id": "7db57bc1-e08c-463c-82db-eec3f2997e23",
   "metadata": {},
   "outputs": [
    {
     "name": "stdin",
     "output_type": "stream",
     "text": [
      "What's your test score? 15\n"
     ]
    },
    {
     "name": "stdout",
     "output_type": "stream",
     "text": [
      "You have failed the test\n"
     ]
    }
   ],
   "source": [
    "user_input = int(input (\"What's your test score?\"))\n",
    "if 70 <= user_input <= 100:\n",
    "    print (\"Your letter grade is: A\")\n",
    "elif 50 <= user_input <= 69:\n",
    "    print (\"Your letter grade is: B\")\n",
    "elif 35 <= user_input <= 49:\n",
    "    print (\"Your letter grade is: C\")\n",
    "elif 0 <= user_input <= 34:\n",
    "    print (\"You have failed the test\")\n",
    "else:\n",
    "    print(\"Please key in an integer number from 0 to 100\")"
   ]
  },
  {
   "cell_type": "markdown",
   "id": "876067e8-3326-4543-8691-98a16737a55c",
   "metadata": {},
   "source": [
    "Unexpected inputs"
   ]
  },
  {
   "cell_type": "code",
   "execution_count": 20,
   "id": "dc143c4f-a31a-4bc4-a846-4bae277bac65",
   "metadata": {},
   "outputs": [
    {
     "name": "stdin",
     "output_type": "stream",
     "text": [
      "What's your test score? 456789\n"
     ]
    },
    {
     "name": "stdout",
     "output_type": "stream",
     "text": [
      "Please key in an integer number from 0 to 100\n"
     ]
    }
   ],
   "source": [
    "user_input = int(input (\"What's your test score?\"))\n",
    "if 70 <= user_input <= 100:\n",
    "    print (\"Your letter grade is: A\")\n",
    "elif 50 <= user_input <= 69:\n",
    "    print (\"Your letter grade is: B\")\n",
    "elif 35 <= user_input <= 49:\n",
    "    print (\"Your letter grade is: C\")\n",
    "elif 0 <= user_input <= 34:\n",
    "    print (\"You have failed this test\")\n",
    "else:\n",
    "    print(\"Please key in an integer number from 0 to 100\")"
   ]
  },
  {
   "cell_type": "code",
   "execution_count": 60,
   "id": "267c60d6-53e3-4d12-a720-9bf5e3c27a4b",
   "metadata": {},
   "outputs": [
    {
     "name": "stdin",
     "output_type": "stream",
     "text": [
      "What's your test score? no telling\n"
     ]
    },
    {
     "ename": "ValueError",
     "evalue": "invalid literal for int() with base 10: 'no telling'",
     "output_type": "error",
     "traceback": [
      "\u001b[0;31m---------------------------------------------------------------------------\u001b[0m",
      "\u001b[0;31mValueError\u001b[0m                                Traceback (most recent call last)",
      "Cell \u001b[0;32mIn[60], line 1\u001b[0m\n\u001b[0;32m----> 1\u001b[0m user_input \u001b[38;5;241m=\u001b[39m \u001b[38;5;28;43mint\u001b[39;49m\u001b[43m(\u001b[49m\u001b[38;5;28;43minput\u001b[39;49m\u001b[43m \u001b[49m\u001b[43m(\u001b[49m\u001b[38;5;124;43m\"\u001b[39;49m\u001b[38;5;124;43mWhat\u001b[39;49m\u001b[38;5;124;43m'\u001b[39;49m\u001b[38;5;124;43ms your test score?\u001b[39;49m\u001b[38;5;124;43m\"\u001b[39;49m\u001b[43m)\u001b[49m\u001b[43m)\u001b[49m \n\u001b[1;32m      2\u001b[0m \u001b[38;5;28;01mif\u001b[39;00m \u001b[38;5;241m70\u001b[39m \u001b[38;5;241m<\u001b[39m\u001b[38;5;241m=\u001b[39m user_input \u001b[38;5;241m<\u001b[39m\u001b[38;5;241m=\u001b[39m \u001b[38;5;241m100\u001b[39m:\n\u001b[1;32m      3\u001b[0m     \u001b[38;5;28mprint\u001b[39m (\u001b[38;5;124m\"\u001b[39m\u001b[38;5;124mYour letter grade is: A\u001b[39m\u001b[38;5;124m\"\u001b[39m)\n",
      "\u001b[0;31mValueError\u001b[0m: invalid literal for int() with base 10: 'no telling'"
     ]
    }
   ],
   "source": [
    "\n",
    "user_input = int(input (\"What's your test score?\")) \n",
    "if 70 <= user_input <= 100:\n",
    "    print (\"Your letter grade is: A\")\n",
    "elif 50 <= user_input <= 69:\n",
    "    print (\"Your letter grade is: B\")\n",
    "elif 35 <= user_input <= 49:\n",
    "    print (\"Your letter grade is: C\")\n",
    "elif 0 <= user_input <= 34:\n",
    "    print (\"You have failed this test\")\n",
    "else:\n",
    "    print(\"Please key in an integer number from 0 to 100\")"
   ]
  },
  {
   "cell_type": "code",
   "execution_count": 29,
   "id": "79325804-5fde-4ebd-99e7-ffb3a035d603",
   "metadata": {},
   "outputs": [],
   "source": [
    "#Hmm so now it breaks down if someone enters words (string) as a response..."
   ]
  },
  {
   "cell_type": "code",
   "execution_count": 61,
   "id": "f38afd1a-53c3-4ffe-a586-9be0d67ff16b",
   "metadata": {},
   "outputs": [
    {
     "name": "stdin",
     "output_type": "stream",
     "text": [
      "What's your test score? no telling\n"
     ]
    },
    {
     "ename": "ValueError",
     "evalue": "invalid literal for int() with base 10: 'no telling'",
     "output_type": "error",
     "traceback": [
      "\u001b[0;31m---------------------------------------------------------------------------\u001b[0m",
      "\u001b[0;31mValueError\u001b[0m                                Traceback (most recent call last)",
      "Cell \u001b[0;32mIn[61], line 1\u001b[0m\n\u001b[0;32m----> 1\u001b[0m user_input \u001b[38;5;241m=\u001b[39m \u001b[38;5;28;43mint\u001b[39;49m\u001b[43m(\u001b[49m\u001b[38;5;28;43minput\u001b[39;49m\u001b[43m \u001b[49m\u001b[43m(\u001b[49m\u001b[38;5;124;43m\"\u001b[39;49m\u001b[38;5;124;43mWhat\u001b[39;49m\u001b[38;5;124;43m'\u001b[39;49m\u001b[38;5;124;43ms your test score?\u001b[39;49m\u001b[38;5;124;43m\"\u001b[39;49m\u001b[43m)\u001b[49m\u001b[43m)\u001b[49m \u001b[38;5;129;01mor\u001b[39;00m \u001b[38;5;28mstr\u001b[39m(\u001b[38;5;28minput\u001b[39m (\u001b[38;5;124m\"\u001b[39m\u001b[38;5;124mWhat\u001b[39m\u001b[38;5;124m'\u001b[39m\u001b[38;5;124ms your test score?\u001b[39m\u001b[38;5;124m\"\u001b[39m))\n\u001b[1;32m      2\u001b[0m \u001b[38;5;28;01mif\u001b[39;00m \u001b[38;5;241m70\u001b[39m \u001b[38;5;241m<\u001b[39m\u001b[38;5;241m=\u001b[39m user_input \u001b[38;5;241m<\u001b[39m\u001b[38;5;241m=\u001b[39m \u001b[38;5;241m100\u001b[39m:\n\u001b[1;32m      3\u001b[0m     \u001b[38;5;28mprint\u001b[39m (\u001b[38;5;124m\"\u001b[39m\u001b[38;5;124mYour letter grade is: A\u001b[39m\u001b[38;5;124m\"\u001b[39m)\n",
      "\u001b[0;31mValueError\u001b[0m: invalid literal for int() with base 10: 'no telling'"
     ]
    }
   ],
   "source": [
    "user_input = int(input (\"What's your test score?\")) or str(input (\"What's your test score?\"))\n",
    "if 70 <= user_input <= 100:\n",
    "    print (\"Your letter grade is: A\")\n",
    "elif 50 <= user_input <= 69:\n",
    "    print (\"Your letter grade is: B\")\n",
    "elif 35 <= user_input <= 49:\n",
    "    print (\"Your letter grade is: C\")\n",
    "elif 0 <= user_input <= 34:\n",
    "    print (\"You have failed this test\")\n",
    "else:\n",
    "    print(\"Please key in an integer number from 0 to 100\")\n",
    "# Nope this doesn't work"
   ]
  },
  {
   "cell_type": "code",
   "execution_count": 50,
   "id": "d05a26f5-1972-45ac-b8e2-d46ba3650b95",
   "metadata": {},
   "outputs": [
    {
     "name": "stdin",
     "output_type": "stream",
     "text": [
      "What's your test score? no telling\n"
     ]
    },
    {
     "name": "stdout",
     "output_type": "stream",
     "text": [
      "Please key in an integer number from 0 to 100\n"
     ]
    }
   ],
   "source": [
    "#let's try to make python 'try' the input to see if it is an integer value, else print intructions to key in an integer value\n",
    "user_input = input (\"What's your test score?\")\n",
    "\n",
    "try: # Keep an eye on the indents to define the code blocks correctly\n",
    "    user_input_int = int(user_input)\n",
    "    if 70 <= user_input_int <= 100:\n",
    "        print (\"Your letter grade is: A\")\n",
    "    elif 50 <= user_input_int <= 69:\n",
    "        print (\"Your letter grade is: B\")\n",
    "    elif 35 <= user_input_int <= 49:\n",
    "        print (\"Your letter grade is: C\")\n",
    "    elif 0 <= user_input_int <= 34:\n",
    "        print (\"You have failed this test\")\n",
    "    #So if pythin tries to convert the user's input into an integer nd succeeds it runs the if else statements above\n",
    "    #Otherwise, it'll fail, get a value error and treat it as a string and print the following\n",
    "except ValueError:\n",
    "    print(\"Please key in an integer number from 0 to 100\")\n"
   ]
  },
  {
   "cell_type": "markdown",
   "id": "636d2147-e096-4516-836e-27d568a7c87a",
   "metadata": {},
   "source": [
    "Stress test again..."
   ]
  },
  {
   "cell_type": "code",
   "execution_count": 52,
   "id": "76d33860-7669-4fd4-9598-4f27efe714bc",
   "metadata": {},
   "outputs": [
    {
     "name": "stdin",
     "output_type": "stream",
     "text": [
      "What's your test score? 90\n"
     ]
    },
    {
     "name": "stdout",
     "output_type": "stream",
     "text": [
      "Your letter grade is: A\n"
     ]
    }
   ],
   "source": [
    "user_input = input (\"What's your test score?\")\n",
    "\n",
    "try:\n",
    "    user_input_int = int(user_input)\n",
    "    if 70 <= user_input_int <= 100:\n",
    "        print (\"Your letter grade is: A\")\n",
    "    elif 50 <= user_input_int <= 69:\n",
    "        print (\"Your letter grade is: B\")\n",
    "    elif 35 <= user_input_int <= 49:\n",
    "        print (\"Your letter grade is: C\")\n",
    "    elif 0 <= user_input_int <= 34:\n",
    "        print (\"You have failed this test\")\n",
    "except ValueError:\n",
    "    print(\"Please key in an integer number from 0 to 100\")"
   ]
  },
  {
   "cell_type": "code",
   "execution_count": 53,
   "id": "9f02b188-6500-4d94-aebf-1febd8860d15",
   "metadata": {},
   "outputs": [
    {
     "name": "stdin",
     "output_type": "stream",
     "text": [
      "What's your test score? 65\n"
     ]
    },
    {
     "name": "stdout",
     "output_type": "stream",
     "text": [
      "Your letter grade is: B\n"
     ]
    }
   ],
   "source": [
    "user_input = input (\"What's your test score?\")\n",
    "\n",
    "try:\n",
    "    user_input_int = int(user_input)\n",
    "    if 70 <= user_input_int <= 100:\n",
    "        print (\"Your letter grade is: A\")\n",
    "    elif 50 <= user_input_int <= 69:\n",
    "        print (\"Your letter grade is: B\")\n",
    "    elif 35 <= user_input_int <= 49:\n",
    "        print (\"Your letter grade is: C\")\n",
    "    elif 0 <= user_input_int <= 34:\n",
    "        print (\"You have failed this test\")\n",
    "except ValueError:\n",
    "    print(\"Please key in an integer number from 0 to 100\")"
   ]
  },
  {
   "cell_type": "code",
   "execution_count": 54,
   "id": "e43ccda0-9950-4c11-a5cd-0c79d24d140e",
   "metadata": {},
   "outputs": [
    {
     "name": "stdin",
     "output_type": "stream",
     "text": [
      "What's your test score? 40\n"
     ]
    },
    {
     "name": "stdout",
     "output_type": "stream",
     "text": [
      "Your letter grade is: C\n"
     ]
    }
   ],
   "source": [
    "user_input = input (\"What's your test score?\")\n",
    "\n",
    "try:\n",
    "    user_input_int = int(user_input)\n",
    "    if 70 <= user_input_int <= 100:\n",
    "        print (\"Your letter grade is: A\")\n",
    "    elif 50 <= user_input_int <= 69:\n",
    "        print (\"Your letter grade is: B\")\n",
    "    elif 35 <= user_input_int <= 49:\n",
    "        print (\"Your letter grade is: C\")\n",
    "    elif 0 <= user_input_int <= 34:\n",
    "        print (\"You have failed this test\")\n",
    "except ValueError:\n",
    "    print(\"Please key in an integer number from 0 to 100\")"
   ]
  },
  {
   "cell_type": "code",
   "execution_count": 55,
   "id": "b424b11d-2638-49fb-b4b8-7b357cb0c179",
   "metadata": {},
   "outputs": [
    {
     "name": "stdin",
     "output_type": "stream",
     "text": [
      "What's your test score? 30\n"
     ]
    },
    {
     "name": "stdout",
     "output_type": "stream",
     "text": [
      "You have failed this test\n"
     ]
    }
   ],
   "source": [
    "user_input = input (\"What's your test score?\")\n",
    "\n",
    "try:\n",
    "    user_input_int = int(user_input)\n",
    "    if 70 <= user_input_int <= 100:\n",
    "        print (\"Your letter grade is: A\")\n",
    "    elif 50 <= user_input_int <= 69:\n",
    "        print (\"Your letter grade is: B\")\n",
    "    elif 35 <= user_input_int <= 49:\n",
    "        print (\"Your letter grade is: C\")\n",
    "    elif 0 <= user_input_int <= 34:\n",
    "        print (\"You have failed this test\")\n",
    "except ValueError:\n",
    "    print(\"Please key in an integer number from 0 to 100\")"
   ]
  },
  {
   "cell_type": "code",
   "execution_count": 57,
   "id": "692ece5a-219a-4e29-9755-da5cabe7c66a",
   "metadata": {},
   "outputs": [
    {
     "name": "stdin",
     "output_type": "stream",
     "text": [
      "What's your test score? don't want to tell\n"
     ]
    },
    {
     "name": "stdout",
     "output_type": "stream",
     "text": [
      "Please key in an integer number from 0 to 100\n"
     ]
    }
   ],
   "source": [
    "user_input = input (\"What's your test score?\")\n",
    "\n",
    "try:\n",
    "    user_input_int = int(user_input)\n",
    "    if 70 <= user_input_int <= 100:\n",
    "        print (\"Your letter grade is: A\")\n",
    "    elif 50 <= user_input_int <= 69:\n",
    "        print (\"Your letter grade is: B\")\n",
    "    elif 35 <= user_input_int <= 49:\n",
    "        print (\"Your letter grade is: C\")\n",
    "    elif 0 <= user_input_int <= 34:\n",
    "        print (\"You have failed this test\")\n",
    "except ValueError:\n",
    "    print(\"Please key in an integer number from 0 to 100\")"
   ]
  },
  {
   "cell_type": "code",
   "execution_count": 58,
   "id": "646faf73-3943-4c79-95d6-61a9e27e3769",
   "metadata": {},
   "outputs": [
    {
     "name": "stdin",
     "output_type": "stream",
     "text": [
      "What's your test score? 58.5\n"
     ]
    },
    {
     "name": "stdout",
     "output_type": "stream",
     "text": [
      "Please key in an integer number from 0 to 100\n"
     ]
    }
   ],
   "source": [
    "user_input = input (\"What's your test score?\")\n",
    "\n",
    "try:\n",
    "    user_input_int = int(user_input)\n",
    "    if 70 <= user_input_int <= 100:\n",
    "        print (\"Your letter grade is: A\")\n",
    "    elif 50 <= user_input_int <= 69:\n",
    "        print (\"Your letter grade is: B\")\n",
    "    elif 35 <= user_input_int <= 49:\n",
    "        print (\"Your letter grade is: C\")\n",
    "    elif 0 <= user_input_int <= 34:\n",
    "        print (\"You have failed this test\")\n",
    "except ValueError:\n",
    "    print(\"Please key in an integer number from 0 to 100\")"
   ]
  },
  {
   "cell_type": "code",
   "execution_count": 9,
   "id": "43d3a998-9eff-4f9a-9054-24576613d40b",
   "metadata": {},
   "outputs": [
    {
     "name": "stdin",
     "output_type": "stream",
     "text": [
      "What's your test score? -5\n"
     ]
    },
    {
     "name": "stdout",
     "output_type": "stream",
     "text": [
      "Please key in an integer number from 0 to 100\n"
     ]
    }
   ],
   "source": [
    "#Oops, it does not work for number beyond the range of 0 to 100.\n",
    "#Let's add an else function within the try clause to account for that.\n",
    "\n",
    "user_input = input (\"What's your test score?\")\n",
    "\n",
    "try:\n",
    "    user_input_int = int(user_input)\n",
    "    if 70 <= user_input_int <= 100:\n",
    "        print (\"Your letter grade is: A\")\n",
    "    elif 50 <= user_input_int <= 69:\n",
    "        print (\"Your letter grade is: B\")\n",
    "    elif 35 <= user_input_int <= 49:\n",
    "        print (\"Your letter grade is: C\")\n",
    "    elif 0 <= user_input_int <= 34:\n",
    "        print (\"You have failed this test\")\n",
    "    else:\n",
    "        print(\"Please key in an integer number from 0 to 100\")\n",
    "except ValueError:\n",
    "    print(\"Please key in an integer number from 0 to 100\")"
   ]
  },
  {
   "cell_type": "code",
   "execution_count": 10,
   "id": "888e0fa2-4b70-4955-945f-4e004d24843c",
   "metadata": {},
   "outputs": [
    {
     "name": "stdin",
     "output_type": "stream",
     "text": [
      "What's your test score? 345678\n"
     ]
    },
    {
     "name": "stdout",
     "output_type": "stream",
     "text": [
      "Please key in an integer number from 0 to 100\n"
     ]
    }
   ],
   "source": [
    "user_input = input (\"What's your test score?\")\n",
    "\n",
    "try:\n",
    "    user_input_int = int(user_input)\n",
    "    if 70 <= user_input_int <= 100:\n",
    "        print (\"Your letter grade is: A\")\n",
    "    elif 50 <= user_input_int <= 69:\n",
    "        print (\"Your letter grade is: B\")\n",
    "    elif 35 <= user_input_int <= 49:\n",
    "        print (\"Your letter grade is: C\")\n",
    "    elif 0 <= user_input_int <= 34:\n",
    "        print (\"You have failed this test\")\n",
    "    else:\n",
    "        print(\"Please key in an integer number from 0 to 100\")\n",
    "except ValueError:\n",
    "    print(\"Please key in an integer number from 0 to 100\")"
   ]
  },
  {
   "cell_type": "code",
   "execution_count": 8,
   "id": "bfaa3796-4ca6-4ae0-bf34-8160a52cd45e",
   "metadata": {},
   "outputs": [
    {
     "name": "stdin",
     "output_type": "stream",
     "text": [
      "What's your test score? not telling\n"
     ]
    },
    {
     "name": "stdout",
     "output_type": "stream",
     "text": [
      "Please key in an integer number from 0 to 100\n"
     ]
    }
   ],
   "source": [
    "user_input = input (\"What's your test score?\")\n",
    "\n",
    "try:\n",
    "    user_input_int = int(user_input)\n",
    "    if 70 <= user_input_int <= 100:\n",
    "        print (\"Your letter grade is: A\")\n",
    "    elif 50 <= user_input_int <= 69:\n",
    "        print (\"Your letter grade is: B\")\n",
    "    elif 35 <= user_input_int <= 49:\n",
    "        print (\"Your letter grade is: C\")\n",
    "    elif 0 <= user_input_int <= 34:\n",
    "        print (\"You have failed this test\")\n",
    "    else:\n",
    "        print(\"Please key in an integer number from 0 to 100\")\n",
    "except ValueError:\n",
    "    print(\"Please key in an integer number from 0 to 100\")"
   ]
  },
  {
   "cell_type": "markdown",
   "id": "9cb3f516-cef1-49df-a5ac-b6c6978487ba",
   "metadata": {},
   "source": [
    "Nice! plus, we've learnt how to use the try clause.\n",
    "\n"
   ]
  },
  {
   "cell_type": "markdown",
   "id": "92068f09-7c45-4d83-ad87-85b87267181d",
   "metadata": {},
   "source": [
    "### Alternatively"
   ]
  },
  {
   "cell_type": "markdown",
   "id": "951f5f34-cc33-4cad-a2aa-f1aa1214641b",
   "metadata": {},
   "source": [
    "__we could use the `isnumeric()` function__\n",
    "\n",
    "`isnumeric()` returns True if all the characters are numeric. Otherwise it'll retun false.\n",
    "So, you could use it instead of the `try` clause to determine if the input consists of numeric characters or not and go from there."
   ]
  }
 ],
 "metadata": {
  "kernelspec": {
   "display_name": "Python 3 (ipykernel)",
   "language": "python",
   "name": "python3"
  },
  "language_info": {
   "codemirror_mode": {
    "name": "ipython",
    "version": 3
   },
   "file_extension": ".py",
   "mimetype": "text/x-python",
   "name": "python",
   "nbconvert_exporter": "python",
   "pygments_lexer": "ipython3",
   "version": "3.11.7"
  },
  "toc": {
   "base_numbering": 1,
   "nav_menu": {},
   "number_sections": true,
   "sideBar": true,
   "skip_h1_title": false,
   "title_cell": "Table of Contents",
   "title_sidebar": "Contents",
   "toc_cell": false,
   "toc_position": {},
   "toc_section_display": true,
   "toc_window_display": false
  },
  "vscode": {
   "interpreter": {
    "hash": "31f2aee4e71d21fbe5cf8b01ff0e069b9275f58929596ceb00d14d90e3e16cd6"
   }
  }
 },
 "nbformat": 4,
 "nbformat_minor": 5
}

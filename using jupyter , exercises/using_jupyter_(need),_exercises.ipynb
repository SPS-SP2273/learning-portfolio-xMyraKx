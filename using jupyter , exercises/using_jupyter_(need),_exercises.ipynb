{
 "cells": [
  {
   "attachments": {},
   "cell_type": "markdown",
   "id": "123456",
   "metadata": {},
   "source": [
    "<div style=\"text-align:left;font-size:2em\"><span style=\"font-weight:bolder;font-size:1.25em\">SP2273 | Learning Portfolio</span><br><br><span style=\"font-weight:bold;color:darkred\">Using Jupyter (Need), Exercises</span></div>"
   ]
  },
  {
   "cell_type": "markdown",
   "id": "031a78f0-f724-4182-91c6-0174f07eadba",
   "metadata": {},
   "source": [
    "### Exercise 1"
   ]
  },
  {
   "attachments": {},
   "cell_type": "markdown",
   "id": "6b3cdc47",
   "metadata": {},
   "source": [
    "## Quadratic Equations"
   ]
  },
  {
   "attachments": {},
   "cell_type": "markdown",
   "id": "5117b753",
   "metadata": {},
   "source": [
    "### Introduction"
   ]
  },
  {
   "cell_type": "markdown",
   "id": "7a582a00-14cb-461d-8cc9-f992381a7a58",
   "metadata": {},
   "source": [
    "![](https://upload.wikimedia.org/wikipedia/commons/thumb/f/f8/Polynomialdeg2.svg/300px-Polynomialdeg2.svg.png)\n"
   ]
  },
  {
   "cell_type": "markdown",
   "id": "0d6af804-4335-49f2-ab3c-2a1e4de6ce08",
   "metadata": {},
   "source": [
    "(_Image from the [Wikipedia page on Quadratic equations](https://en.wikipedia.org/wiki/Quadratic_equation)_)\n",
    "\n",
    "The general form of a quadratic equation is:\n",
    "\n",
    "$$\n",
    "ax^2+bx+c=0\n",
    "$$"
   ]
  },
  {
   "attachments": {},
   "cell_type": "markdown",
   "id": "9160882f",
   "metadata": {},
   "source": [
    "### Solutions"
   ]
  },
  {
   "cell_type": "markdown",
   "id": "4209e0ae-bcb1-486e-a7e6-f772d8ec5ffd",
   "metadata": {},
   "source": [
    "Provided $a\\neq0$, we can use an elementary algebraic method called [completing the square] (https://en.wikipedia.org/wiki/Completing_the_square)to show that a quadratic equation has the following solution:\n",
    "\n",
    "$$\n",
    "x=\\frac{-b\\pm\\sqrt{b^2-4ac}}{2a}\n",
    "$$\n"
   ]
  },
  {
   "attachments": {},
   "cell_type": "markdown",
   "id": "e9902a32",
   "metadata": {},
   "source": [
    "### Discriminant"
   ]
  },
  {
   "cell_type": "markdown",
   "id": "4ceccdea-f951-4b60-ae27-882863817325",
   "metadata": {},
   "source": [
    "\n",
    "The quantity $\\Delta=b^2-4ac$ is called the __discriminant__ of the equation and decides the nature of its solutions. The table below shows the various possibilities.\n"
   ]
  },
  {
   "cell_type": "markdown",
   "id": "640d6aa9-0283-43e6-801b-002911f643ea",
   "metadata": {},
   "source": [
    "\n",
    "\n",
    "| __Discriminant__    |  __Roots__   |\n",
    "| :---                |  :--         | \n",
    "| $\\Delta=b^2-4ac=0$  |  A single solution of $-b/(2a)$  | \n",
    "| $\\Delta=b^2-4ac>0$  |  Two distinct solutions          | \n",
    "| $\\Delta=b^2-4ac<0$  |  No real solutions; both are complex.          |  \n"
   ]
  },
  {
   "cell_type": "markdown",
   "id": "d0dbfd84-a0a8-4939-9cf9-3e9da52cf7b9",
   "metadata": {},
   "source": [
    "### Exercise 2"
   ]
  },
  {
   "cell_type": "markdown",
   "id": "1a5bd797-a25b-4922-bf7b-bfb97050399d",
   "metadata": {},
   "source": [
    "1. What is a Git __repository__?\n",
    "   - A Git repository is the online database which stores and tracks changes in your code across platforms (given you push and pull correctly)\n",
    "1. Git keeps tracks of ____BLANK____ in the files in our repository.\n",
    "   - Changes\n",
    "1. What is a __commit__?\n",
    "   - To Commit is to locally save the changes to your code that you are working on on the platform that you are working on (Desktop or Jupyter).\n",
    "1. What is a __push__?\n",
    "   - To Push is to save and sync the changes to the GitHub cloud\n",
    "1. What is a __pull__?\n",
    "   - To Pull is to 'fetch' or download content from the repository onto your local machine to be worked on.\n",
    "1. What is the difference between __GitHub__ and __GitHub Desktop__?\n",
    "   - GitHub refers to the online cloud as the central sotrage location of your code files while GitHub Desktop is where you can make changes to code fetched from the cloud locally before pushing it back to the cloud once you are done."
   ]
  },
  {
   "cell_type": "code",
   "execution_count": null,
   "id": "13be129b-fdcc-4cff-a4e9-43458a8e23c9",
   "metadata": {},
   "outputs": [],
   "source": []
  }
 ],
 "metadata": {
  "kernelspec": {
   "display_name": "Python 3 (ipykernel)",
   "language": "python",
   "name": "python3"
  },
  "language_info": {
   "codemirror_mode": {
    "name": "ipython",
    "version": 3
   },
   "file_extension": ".py",
   "mimetype": "text/x-python",
   "name": "python",
   "nbconvert_exporter": "python",
   "pygments_lexer": "ipython3",
   "version": "3.11.7"
  },
  "toc": {
   "base_numbering": 1,
   "nav_menu": {},
   "number_sections": true,
   "sideBar": true,
   "skip_h1_title": false,
   "title_cell": "Table of Contents",
   "title_sidebar": "Contents",
   "toc_cell": false,
   "toc_position": {},
   "toc_section_display": true,
   "toc_window_display": false
  },
  "vscode": {
   "interpreter": {
    "hash": "31f2aee4e71d21fbe5cf8b01ff0e069b9275f58929596ceb00d14d90e3e16cd6"
   }
  }
 },
 "nbformat": 4,
 "nbformat_minor": 5
}

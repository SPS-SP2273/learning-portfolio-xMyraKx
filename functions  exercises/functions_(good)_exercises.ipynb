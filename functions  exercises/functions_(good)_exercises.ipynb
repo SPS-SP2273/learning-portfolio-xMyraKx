{
 "cells": [
  {
   "attachments": {},
   "cell_type": "markdown",
   "id": "123456",
   "metadata": {},
   "source": [
    "<div style=\"text-align:left;font-size:2em\"><span style=\"font-weight:bolder;font-size:1.25em\">SP2273 | Learning Portfolio</span><br><br><span style=\"font-weight:bold;color:darkred\">Functions (Good) Exercises</span></div>"
   ]
  },
  {
   "cell_type": "markdown",
   "id": "fd7af0b6-302d-446e-a9dd-b3210aa7348c",
   "metadata": {},
   "source": [
    "__Exercise 1 (Celsius to Fahrenheit or Kelvin) ☻__\n",
    "\n",
    "- Develop a function named `convert_celsius()` to convert temperatures from Celsius to either Fahrenheit or Kelvin.\n",
    "- The function should take two arguments:\n",
    "`temperature_celsius:` The temperature in Celsius.\n",
    "`target_scale` (string): The target scale for conversion, with the default value set to `'Fahrenheit'`.\n",
    "- The function should return the temperature in Kelvin if `target_scale` is `'Kelvin'`; otherwise, it should return the temperature in Fahrenheit.\n"
   ]
  },
  {
   "cell_type": "code",
   "execution_count": 11,
   "id": "2d978c41-8309-4226-a857-c4232f45ebc2",
   "metadata": {},
   "outputs": [],
   "source": [
    "def convert_celsius(temperature_celsius, target_scale='Fahrenheit'):\n",
    "    if target_scale == 'Kelvin':\n",
    "        return (f'{temperature_celsius}C is {temperature_celsius+273.15}K')\n",
    "    else:\n",
    "        return (f'{temperature_celsius}C is {temperature_celsius*(9/5)+32}F')\n",
    "        \n",
    "    "
   ]
  },
  {
   "cell_type": "code",
   "execution_count": 12,
   "id": "5dc21de2-2bcf-4673-832b-bff280d3a1c3",
   "metadata": {},
   "outputs": [
    {
     "data": {
      "text/plain": [
       "'40C is 104.0F'"
      ]
     },
     "execution_count": 12,
     "metadata": {},
     "output_type": "execute_result"
    }
   ],
   "source": [
    "convert_celsius(40)"
   ]
  },
  {
   "cell_type": "code",
   "execution_count": 14,
   "id": "e269b16b-f894-4f68-b8b5-1e33905fc31e",
   "metadata": {},
   "outputs": [
    {
     "data": {
      "text/plain": [
       "'40C is 313.15K'"
      ]
     },
     "execution_count": 14,
     "metadata": {},
     "output_type": "execute_result"
    }
   ],
   "source": [
    "convert_celsius(40,'Kelvin')"
   ]
  },
  {
   "cell_type": "markdown",
   "id": "2c4a95fc-e5a6-4949-9f2d-fe10f7dfe666",
   "metadata": {},
   "source": [
    "__Exercise 2 (Fahrenheit to Celsius or Kelvin) ☻__\n",
    "\n",
    "- Develop a function called `convert_fahrenheit()` for converting temperatures from Fahrenheit to either Celsius or Kelvin.\n",
    "The function should take two arguments:\n",
    "- `temperature_fahrenheit`: The temperature in Fahrenheit.\n",
    "`target_scale` (string): The target scale for conversion, defaulting to `'Celsius'`.\n",
    "- The function should return the temperature in Kelvin if `target_scale` is `'Kelvin'`; otherwise, return it in Celsius."
   ]
  },
  {
   "cell_type": "code",
   "execution_count": 15,
   "id": "9889ece8-9847-4810-afa4-08712a54089a",
   "metadata": {},
   "outputs": [],
   "source": [
    "def convert_fahrenheit(temperature_fahrenheit, target_scale='Celsius'):\n",
    "    if target_scale == 'Kelvin':\n",
    "        return (f'{temperature_fahrenheit}F is {(temperature_fahrenheit-32)*(5/9)+273.15}K')\n",
    "    else:\n",
    "        return (f'{temperature_fahrenheit}F is {(temperature_fahrenheit-32)*(5/9)}C')\n",
    "        \n",
    "    "
   ]
  },
  {
   "cell_type": "code",
   "execution_count": 16,
   "id": "d92610de-4234-4f49-9665-5de3b0fecd9b",
   "metadata": {},
   "outputs": [
    {
     "data": {
      "text/plain": [
       "'10F is -12.222222222222223C'"
      ]
     },
     "execution_count": 16,
     "metadata": {},
     "output_type": "execute_result"
    }
   ],
   "source": [
    "convert_fahrenheit(10)"
   ]
  },
  {
   "cell_type": "code",
   "execution_count": 17,
   "id": "0bd7cc18-9288-4a4c-8dfe-4a46d1fa9fbf",
   "metadata": {},
   "outputs": [
    {
     "data": {
      "text/plain": [
       "'10F is 260.92777777777775K'"
      ]
     },
     "execution_count": 17,
     "metadata": {},
     "output_type": "execute_result"
    }
   ],
   "source": [
    "convert_fahrenheit(10, 'Kelvin')"
   ]
  },
  {
   "cell_type": "markdown",
   "id": "ed63f002-8848-4585-9aef-81763dc62192",
   "metadata": {},
   "source": [
    "__Exercise 3 (General Temperature Conversion) ☻__\n",
    "\n",
    "- Implement a function named `convert_temperature()` to perform general temperature conversions.\n",
    "- The function should take three arguments:\n",
    "    - `temperature`: The temperature to be converted.\n",
    "    - `source_scale` (string): The scale of the input temperature (either `'Celsius'`, `'Fahrenheit'`, or `'Kelvin'`).\n",
    "    - `target_scale` (string): The desired scale for the output temperature.\n",
    "- Remember to reuse your previous functions!"
   ]
  },
  {
   "cell_type": "code",
   "execution_count": 26,
   "id": "749aa93c-0dd2-4a97-8598-ae54264b21c0",
   "metadata": {},
   "outputs": [],
   "source": [
    "def convert_temperature(temperature, source_scale='Celsius', target_scale='fahrenheit'):\n",
    "    '''\n",
    "    A function to convert temperatures between Celsius, Fahrenheit or Kelvin.\n",
    "    '''\n",
    "    if source_scale == 'Fahrenheit' and target_scale == 'Celsius':\n",
    "        return (f'{temperature}F is {(temperature-32)*(5/9)}C')\n",
    "    if source_scale == 'Fahrenheit' and target_scale == 'Kelvin':\n",
    "        return (f'{temperature}F is {(temperature-32)*(5/9)+273.15}K')\n",
    "    if source_scale == 'Kelvin' and target_scale == 'Celsius':\n",
    "        return (f'{temperature}K is {temperature-273.15}C')\n",
    "    if source_scale == 'Kelvin' and target_scale == 'Fahrenheit':\n",
    "        return (f'{temperature}K is {(temperature-273.15)*(9/5)+32}F')\n",
    "    if source_scale == 'Celsius' and target_scale == 'Kelvin':\n",
    "        return (f'{temperature} is {temperature+273.15}K')\n",
    "    else:\n",
    "        return (f'{temperature}C is {temperature*(9/5)+32}F')\n"
   ]
  },
  {
   "cell_type": "code",
   "execution_count": 20,
   "id": "866d240c-6adc-46ba-b894-1aba547ff453",
   "metadata": {},
   "outputs": [
    {
     "data": {
      "text/plain": [
       "'0C is 32.0F'"
      ]
     },
     "execution_count": 20,
     "metadata": {},
     "output_type": "execute_result"
    }
   ],
   "source": [
    "convert_temperature(0)"
   ]
  },
  {
   "cell_type": "code",
   "execution_count": 22,
   "id": "48bb3d03-c7b7-46fb-ab58-cb1e43f775b5",
   "metadata": {},
   "outputs": [
    {
     "data": {
      "text/plain": [
       "'0 is 273.15K'"
      ]
     },
     "execution_count": 22,
     "metadata": {},
     "output_type": "execute_result"
    }
   ],
   "source": [
    "convert_temperature(0, 'Celsius', 'Kelvin')"
   ]
  },
  {
   "cell_type": "code",
   "execution_count": 23,
   "id": "6b7a41d9-79d9-4abb-9693-1f0d48763bc7",
   "metadata": {},
   "outputs": [
    {
     "data": {
      "text/plain": [
       "'0K is -273.15C'"
      ]
     },
     "execution_count": 23,
     "metadata": {},
     "output_type": "execute_result"
    }
   ],
   "source": [
    "convert_temperature(0, 'Kelvin', 'Celsius')"
   ]
  },
  {
   "cell_type": "code",
   "execution_count": 27,
   "id": "9c7a41b3-e087-4bb8-b3c6-836c07df746a",
   "metadata": {},
   "outputs": [
    {
     "data": {
      "text/plain": [
       "'0K is -459.66999999999996F'"
      ]
     },
     "execution_count": 27,
     "metadata": {},
     "output_type": "execute_result"
    }
   ],
   "source": [
    "convert_temperature(0, 'Kelvin', 'Fahrenheit')"
   ]
  },
  {
   "cell_type": "code",
   "execution_count": 28,
   "id": "3377cc48-c192-4338-9ed7-35f72fa810e9",
   "metadata": {},
   "outputs": [
    {
     "data": {
      "text/plain": [
       "'0F is 255.3722222222222K'"
      ]
     },
     "execution_count": 28,
     "metadata": {},
     "output_type": "execute_result"
    }
   ],
   "source": [
    "convert_temperature(0, 'Fahrenheit', 'Kelvin')"
   ]
  },
  {
   "cell_type": "code",
   "execution_count": 29,
   "id": "9d1c0cf8-8fe9-494a-bb6e-b3ad2b8fc1ce",
   "metadata": {},
   "outputs": [
    {
     "data": {
      "text/plain": [
       "'0F is -17.77777777777778C'"
      ]
     },
     "execution_count": 29,
     "metadata": {},
     "output_type": "execute_result"
    }
   ],
   "source": [
    "convert_temperature(0, 'Fahrenheit', 'Celsius')"
   ]
  },
  {
   "cell_type": "code",
   "execution_count": 30,
   "id": "829caceb-bcab-49cf-935e-ce4d70b782d8",
   "metadata": {},
   "outputs": [
    {
     "name": "stdout",
     "output_type": "stream",
     "text": [
      "Help on function convert_temperature in module __main__:\n",
      "\n",
      "convert_temperature(temperature, source_scale='Celsius', target_scale='fahrenheit')\n",
      "    A function to convert temperatures between Celsius, Fahrenheit or Kelvin.\n",
      "\n"
     ]
    }
   ],
   "source": [
    "help(convert_temperature)"
   ]
  }
 ],
 "metadata": {
  "kernelspec": {
   "display_name": "Python 3 (ipykernel)",
   "language": "python",
   "name": "python3"
  },
  "language_info": {
   "codemirror_mode": {
    "name": "ipython",
    "version": 3
   },
   "file_extension": ".py",
   "mimetype": "text/x-python",
   "name": "python",
   "nbconvert_exporter": "python",
   "pygments_lexer": "ipython3",
   "version": "3.11.7"
  },
  "toc": {
   "base_numbering": 1,
   "nav_menu": {},
   "number_sections": true,
   "sideBar": true,
   "skip_h1_title": false,
   "title_cell": "Table of Contents",
   "title_sidebar": "Contents",
   "toc_cell": false,
   "toc_position": {},
   "toc_section_display": true,
   "toc_window_display": false
  },
  "vscode": {
   "interpreter": {
    "hash": "31f2aee4e71d21fbe5cf8b01ff0e069b9275f58929596ceb00d14d90e3e16cd6"
   }
  }
 },
 "nbformat": 4,
 "nbformat_minor": 5
}

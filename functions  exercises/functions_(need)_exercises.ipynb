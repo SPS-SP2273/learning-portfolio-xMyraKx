{
 "cells": [
  {
   "attachments": {},
   "cell_type": "markdown",
   "id": "123456",
   "metadata": {},
   "source": [
    "<div style=\"text-align:left;font-size:2em\"><span style=\"font-weight:bolder;font-size:1.25em\">SP2273 | Learning Portfolio</span><br><br><span style=\"font-weight:bold;color:darkred\">Functions (Need) Exercises</span></div>"
   ]
  },
  {
   "cell_type": "markdown",
   "id": "2297823f-81ac-4457-845c-4de60192236c",
   "metadata": {},
   "source": [
    "__Exercise 1 (Do you know why?) ☻__\n",
    "\n",
    "The following code works as expected despite not having an else statement. Please use a Markdown cell to explain why.\n",
    "```python\n",
    "def greeting(name):\n",
    "    if name == 'Batman':\n",
    "        return 'Hello Batman! So, nice to meet you!'\n",
    "    return f'Hello {name}!'\n",
    "```"
   ]
  },
  {
   "cell_type": "code",
   "execution_count": null,
   "id": "a84343f2-788c-4db6-84cf-fc2a7990e955",
   "metadata": {},
   "outputs": [],
   "source": [
    "def greeting(name):\n",
    "    if name == 'Batman':\n",
    "        return 'Hello Batman! So, nice to meet you!'\n",
    "    return f'Hello {name}!'\n",
    "\n",
    "greeting(\"Batman\")"
   ]
  },
  {
   "cell_type": "code",
   "execution_count": 6,
   "id": "f41a78f4-eb54-4e13-bb3d-b4b1b604d87f",
   "metadata": {},
   "outputs": [
    {
     "data": {
      "text/plain": [
       "'Hello Samwise!'"
      ]
     },
     "execution_count": 6,
     "metadata": {},
     "output_type": "execute_result"
    }
   ],
   "source": [
    "def greeting(name):\n",
    "    if name == 'Batman':\n",
    "        return 'Hello Batman! So, nice to meet you!'\n",
    "    return f'Hello {name}!'\n",
    "\n",
    "greeting(\"Samwise\")"
   ]
  },
  {
   "cell_type": "markdown",
   "id": "378b6533-fa56-4ee0-a1e8-54f9088c77fd",
   "metadata": {},
   "source": [
    "__Answer__: The code works because of the use of an indent on line 3 to differentiate to python that the first `return` command is part of the `if` block and that the `return` on line 4 is not and thus should only be run if the given name is not \"Batman\". Therefore, this use of an indented `return` makes the whole code run as if there were an `else` there."
   ]
  },
  {
   "cell_type": "markdown",
   "id": "c630e39a-b40e-4b25-b241-c350d6bcedbd",
   "metadata": {},
   "source": [
    "__YZ COMMENT__: Is there a reason why the second return line is not read if name is Batman . Python reads code sequentially, line-by-line. Hence, when Python finish reading the if block, it should read the second return line isn't it?\n",
    "\n",
    "__Answer__: This is because when any one of the `return` statements is executed, the function terminates. So, there can be multiple `return`s but only a single return statement."
   ]
  },
  {
   "cell_type": "markdown",
   "id": "c3bd0c9c-3ebf-4b6e-b7b4-0d23968ab0b1",
   "metadata": {},
   "source": [
    "__Exercise 2 (Chubby or not) ☻__\n",
    "\n",
    "Write a Python function named `calculate_bmi`.\n",
    "\n",
    "- The function should take two parameters:\n",
    "__weight__ (in kilograms) and __height__ (in meters).\n",
    "- The function should calculate the BMI (Body Mass Index) using the formula BMI = weight / (height ** 2).\n",
    "- Based on the calculated BMI, the function should return a string indicating the BMI category based on the following criteria:\n",
    "\n",
    "| Category      | BMI Range                 |\n",
    "|---------------|---------------------------|\n",
    "| Underweight   | BMI less than 18.5        |\n",
    "| Normal weight | BMI between 18.5 and 24.9 |\n",
    "| Overweight    | BMI between 25 and 29.9   |\n",
    "| Obesity       | BMI 30 or more            |"
   ]
  },
  {
   "cell_type": "code",
   "execution_count": 19,
   "id": "b2df4e27-ca02-40e2-8390-6be1b5eb078d",
   "metadata": {},
   "outputs": [],
   "source": [
    "def calculate_bmi(weight, height):\n",
    "    BMI = weight/(height**2)\n",
    "    if BMI < 18.5:\n",
    "        print(\"BMI Category: Underweight\")\n",
    "    if 18.5<=BMI<25:\n",
    "        print(\"BMI Category: Normal weight\")\n",
    "    if 25<=BMI<30:\n",
    "        print(\"BMI Category: Overweight\")\n",
    "    if 30<=BMI:\n",
    "        print(\"BMI Category: Obesity\")\n",
    "    \n",
    "    "
   ]
  },
  {
   "cell_type": "code",
   "execution_count": 14,
   "id": "0f70e734-7893-412a-9ad5-bdcb0b0c8f7d",
   "metadata": {},
   "outputs": [
    {
     "name": "stdout",
     "output_type": "stream",
     "text": [
      "BMI Cateogory: Normal weight\n"
     ]
    }
   ],
   "source": [
    "#Let's test the function\n",
    "calculate_bmi(56,1.6)"
   ]
  },
  {
   "cell_type": "code",
   "execution_count": 27,
   "id": "9102e751-a72c-4550-92b6-46134625756b",
   "metadata": {},
   "outputs": [
    {
     "name": "stdout",
     "output_type": "stream",
     "text": [
      "BMI Category: Underweight\n"
     ]
    }
   ],
   "source": [
    "calculate_bmi(28,1.6)"
   ]
  },
  {
   "cell_type": "code",
   "execution_count": 34,
   "id": "bbd0b346-7f44-4300-ab3f-2129a5fce01f",
   "metadata": {},
   "outputs": [
    {
     "name": "stdout",
     "output_type": "stream",
     "text": [
      "BMI Category: Overweight\n"
     ]
    }
   ],
   "source": [
    "calculate_bmi(67,1.6)"
   ]
  },
  {
   "cell_type": "code",
   "execution_count": 35,
   "id": "b542d09b-108e-4821-ad6b-eb5ef14456b7",
   "metadata": {},
   "outputs": [
    {
     "name": "stdout",
     "output_type": "stream",
     "text": [
      "BMI Category: Obesity\n"
     ]
    }
   ],
   "source": [
    "calculate_bmi(89,1.6)"
   ]
  },
  {
   "cell_type": "code",
   "execution_count": 20,
   "id": "4497596c-4935-43eb-a3b7-9fd4abc4dc7f",
   "metadata": {},
   "outputs": [
    {
     "name": "stdout",
     "output_type": "stream",
     "text": [
      "BMI Category: Normal weight\n"
     ]
    }
   ],
   "source": [
    "calculate_bmi(64,1.6)"
   ]
  },
  {
   "cell_type": "markdown",
   "id": "b61b74db-132f-4a20-9a43-926a094c72c8",
   "metadata": {},
   "source": [
    "__Why doesn't the above return anything__\n",
    "\n",
    "YZ: That's because of the subtlety with floats in computers. Recall that with floats, even if we calculate the value to be exactly 25, does the computer truely store it as exactly 25? Even up till 20+ decimal places? Line 7 of your code means that 24.99999999 does not qualify as 'Overweight'.\n",
    "\n",
    "YZ: On another reading of the question, Dr Chammika's question does have an issue. Why not you test this with your function? `calculate_bmi(63.8, 1.6)` ? Edit your function such that it works not for all values.\n",
    "\n",
    "Answer: Adjusted the upper bound inequalities in include the whole range of values possible in between intervals."
   ]
  },
  {
   "cell_type": "code",
   "execution_count": 21,
   "id": "05dd3f36-aa48-4295-a709-d6b241a66764",
   "metadata": {},
   "outputs": [
    {
     "name": "stdout",
     "output_type": "stream",
     "text": [
      "BMI Category: Normal weight\n"
     ]
    }
   ],
   "source": [
    "calculate_bmi(63.8, 1.6)"
   ]
  },
  {
   "cell_type": "code",
   "execution_count": 18,
   "id": "289e658c-ace4-4ce9-ae33-bd3712420335",
   "metadata": {},
   "outputs": [],
   "source": [
    "#Could also do it like...And ACTUALLY this is the correct version...\n",
    "def calculate_bmi_option2 (weight, height):\n",
    "    BMI = weight/(height**2)\n",
    "    if BMI < 18.5:\n",
    "        return'BMI Category: Underweight'\n",
    "    if 18.5<=BMI<25:\n",
    "         return'BMI Category: Normal Weight'\n",
    "    if 25<=BMI<30:\n",
    "         return'BMI Category: Overweight'\n",
    "    if 30<=BMI:\n",
    "         return'BMI Category: Obesity'\n",
    "    \n",
    "    "
   ]
  },
  {
   "cell_type": "code",
   "execution_count": 17,
   "id": "5a07d5d3-76cf-480f-8515-aaaf9026fc2a",
   "metadata": {},
   "outputs": [
    {
     "data": {
      "text/plain": [
       "'BMI Category: Normal Weight'"
      ]
     },
     "execution_count": 17,
     "metadata": {},
     "output_type": "execute_result"
    }
   ],
   "source": [
    "calculate_bmi_option2(56,1.6)"
   ]
  },
  {
   "cell_type": "code",
   "execution_count": 11,
   "id": "1ac9520b-fcf7-4637-b7f7-a81fb2f6fdfa",
   "metadata": {},
   "outputs": [
    {
     "name": "stdout",
     "output_type": "stream",
     "text": [
      "4\n"
     ]
    }
   ],
   "source": [
    "# ...the difference between a function which uses print() and one which uses return? \n",
    "# Try understanding the difference in output between this:\n",
    "def f(x):\n",
    "  print(x**2)\n",
    "\n",
    "y=f(2)\n"
   ]
  },
  {
   "cell_type": "code",
   "execution_count": 14,
   "id": "1c827176-e588-4fc8-b050-fef3a306f0bd",
   "metadata": {},
   "outputs": [
    {
     "name": "stdout",
     "output_type": "stream",
     "text": [
      "None\n"
     ]
    }
   ],
   "source": [
    "print(y)"
   ]
  },
  {
   "cell_type": "markdown",
   "id": "133438c2-b176-46d8-be1f-bd538d67559e",
   "metadata": {},
   "source": []
  },
  {
   "cell_type": "code",
   "execution_count": 12,
   "id": "f7466163-37cc-4c54-b0b7-0576078ad0c7",
   "metadata": {},
   "outputs": [],
   "source": [
    "# and this:\n",
    "def f_v2(x):\n",
    "  return x**2\n",
    "\n",
    "x=f_v2(2)"
   ]
  },
  {
   "cell_type": "code",
   "execution_count": 13,
   "id": "cf60cdf7-1727-4f69-bee2-39669930f4ef",
   "metadata": {},
   "outputs": [
    {
     "name": "stdout",
     "output_type": "stream",
     "text": [
      "4\n"
     ]
    }
   ],
   "source": [
    "print(x)"
   ]
  },
  {
   "cell_type": "markdown",
   "id": "fb38261d-1636-4857-b6b9-c99494a76170",
   "metadata": {},
   "source": [
    "__Why?__:\n",
    "Think of it like this...\n",
    "\n",
    "`print()` is analogous to cmd+p\n",
    "while\n",
    "`return` is analogous to cmd+s\n",
    "\n",
    "Therefore, when we use `print()`, python does not \"save\" or keep track of the executed function while it does when `return` is used. "
   ]
  }
 ],
 "metadata": {
  "kernelspec": {
   "display_name": "Python 3 (ipykernel)",
   "language": "python",
   "name": "python3"
  },
  "language_info": {
   "codemirror_mode": {
    "name": "ipython",
    "version": 3
   },
   "file_extension": ".py",
   "mimetype": "text/x-python",
   "name": "python",
   "nbconvert_exporter": "python",
   "pygments_lexer": "ipython3",
   "version": "3.11.7"
  },
  "toc": {
   "base_numbering": 1,
   "nav_menu": {},
   "number_sections": true,
   "sideBar": true,
   "skip_h1_title": false,
   "title_cell": "Table of Contents",
   "title_sidebar": "Contents",
   "toc_cell": false,
   "toc_position": {},
   "toc_section_display": true,
   "toc_window_display": false
  },
  "vscode": {
   "interpreter": {
    "hash": "31f2aee4e71d21fbe5cf8b01ff0e069b9275f58929596ceb00d14d90e3e16cd6"
   }
  }
 },
 "nbformat": 4,
 "nbformat_minor": 5
}

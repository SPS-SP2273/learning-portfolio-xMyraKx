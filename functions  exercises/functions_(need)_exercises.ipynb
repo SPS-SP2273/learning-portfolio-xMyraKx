{
 "cells": [
  {
   "attachments": {},
   "cell_type": "markdown",
   "id": "123456",
   "metadata": {},
   "source": [
    "<div style=\"text-align:left;font-size:2em\"><span style=\"font-weight:bolder;font-size:1.25em\">SP2273 | Learning Portfolio</span><br><br><span style=\"font-weight:bold;color:darkred\">Functions (Need) Exercises</span></div>"
   ]
  },
  {
   "cell_type": "markdown",
   "id": "2297823f-81ac-4457-845c-4de60192236c",
   "metadata": {},
   "source": [
    "__Exercise 1 (Do you know why?) ☻__\n",
    "\n",
    "The following code works as expected despite not having an else statement. Please use a Markdown cell to explain why.\n",
    "```python\n",
    "def greeting(name):\n",
    "    if name == 'Batman':\n",
    "        return 'Hello Batman! So, nice to meet you!'\n",
    "    return f'Hello {name}!'\n",
    "```"
   ]
  },
  {
   "cell_type": "code",
   "execution_count": null,
   "id": "a84343f2-788c-4db6-84cf-fc2a7990e955",
   "metadata": {},
   "outputs": [],
   "source": [
    "def greeting(name):\n",
    "    if name == 'Batman':\n",
    "        return 'Hello Batman! So, nice to meet you!'\n",
    "    return f'Hello {name}!'\n",
    "\n",
    "greeting(\"Batman\")"
   ]
  },
  {
   "cell_type": "code",
   "execution_count": 6,
   "id": "f41a78f4-eb54-4e13-bb3d-b4b1b604d87f",
   "metadata": {},
   "outputs": [
    {
     "data": {
      "text/plain": [
       "'Hello Samwise!'"
      ]
     },
     "execution_count": 6,
     "metadata": {},
     "output_type": "execute_result"
    }
   ],
   "source": [
    "def greeting(name):\n",
    "    if name == 'Batman':\n",
    "        return 'Hello Batman! So, nice to meet you!'\n",
    "    return f'Hello {name}!'\n",
    "\n",
    "greeting(\"Samwise\")"
   ]
  },
  {
   "cell_type": "markdown",
   "id": "378b6533-fa56-4ee0-a1e8-54f9088c77fd",
   "metadata": {},
   "source": [
    "__Answer__: The code works because of the use of an indent on line 3 to differentiate to python that the first `return` command is part of the `if` block and that the `return` on line 4 is not and thus should only be run if the given name is not \"Batman\". Therefore, this use of an indented `return` makes the whole code run as if there were an `else` there."
   ]
  },
  {
   "cell_type": "markdown",
   "id": "c3bd0c9c-3ebf-4b6e-b7b4-0d23968ab0b1",
   "metadata": {},
   "source": [
    "__Exercise 2 (Chubby or not) ☻__\n",
    "\n",
    "Write a Python function named `calculate_bmi`.\n",
    "\n",
    "- The function should take two parameters:\n",
    "__weight__ (in kilograms) and __height__ (in meters).\n",
    "- The function should calculate the BMI (Body Mass Index) using the formula BMI = weight / (height ** 2).\n",
    "- Based on the calculated BMI, the function should return a string indicating the BMI category based on the following criteria:\n",
    "\n",
    "| Category      | BMI Range                 |\n",
    "|---------------|---------------------------|\n",
    "| Underweight   | BMI less than 18.5        |\n",
    "| Normal weight | BMI between 18.5 and 24.9 |\n",
    "| Overweight    | BMI between 25 and 29.9   |\n",
    "| Obesity       | BMI 30 or more            |"
   ]
  },
  {
   "cell_type": "code",
   "execution_count": 26,
   "id": "b2df4e27-ca02-40e2-8390-6be1b5eb078d",
   "metadata": {},
   "outputs": [],
   "source": [
    "def calculate_bmi(weight, height):\n",
    "    BMI = weight/(height**2)\n",
    "    if BMI < 18.5:\n",
    "        print(\"BMI Category: Underweight\")\n",
    "    if 18.5<=BMI<=24.9:\n",
    "        print(\"BMI Category: Normal weight\")\n",
    "    if 25<=BMI<=29.9:\n",
    "        print(\"BMI Category: Overweight\")\n",
    "    if 30<=BMI:\n",
    "        print(\"BMI Category: Obesity\")\n",
    "    \n",
    "    "
   ]
  },
  {
   "cell_type": "code",
   "execution_count": 14,
   "id": "0f70e734-7893-412a-9ad5-bdcb0b0c8f7d",
   "metadata": {},
   "outputs": [
    {
     "name": "stdout",
     "output_type": "stream",
     "text": [
      "BMI Cateogory: Normal weight\n"
     ]
    }
   ],
   "source": [
    "#Let's test the function\n",
    "calculate_bmi(56,1.6)"
   ]
  },
  {
   "cell_type": "code",
   "execution_count": 27,
   "id": "9102e751-a72c-4550-92b6-46134625756b",
   "metadata": {},
   "outputs": [
    {
     "name": "stdout",
     "output_type": "stream",
     "text": [
      "BMI Category: Underweight\n"
     ]
    }
   ],
   "source": [
    "calculate_bmi(28,1.6)"
   ]
  },
  {
   "cell_type": "code",
   "execution_count": 34,
   "id": "bbd0b346-7f44-4300-ab3f-2129a5fce01f",
   "metadata": {},
   "outputs": [
    {
     "name": "stdout",
     "output_type": "stream",
     "text": [
      "BMI Category: Overweight\n"
     ]
    }
   ],
   "source": [
    "calculate_bmi(67,1.6)"
   ]
  },
  {
   "cell_type": "code",
   "execution_count": 35,
   "id": "b542d09b-108e-4821-ad6b-eb5ef14456b7",
   "metadata": {},
   "outputs": [
    {
     "name": "stdout",
     "output_type": "stream",
     "text": [
      "BMI Category: Obesity\n"
     ]
    }
   ],
   "source": [
    "calculate_bmi(89,1.6)"
   ]
  },
  {
   "cell_type": "code",
   "execution_count": 37,
   "id": "4497596c-4935-43eb-a3b7-9fd4abc4dc7f",
   "metadata": {},
   "outputs": [],
   "source": [
    "calculate_bmi(64,1.6)\n",
    "#YUAN ZHE, this gives a BMI of 25 which should be recognised bu the \"overweight\" category but nothing prints and I'm not sure why...I appreciate you help!"
   ]
  },
  {
   "cell_type": "code",
   "execution_count": 25,
   "id": "289e658c-ace4-4ce9-ae33-bd3712420335",
   "metadata": {},
   "outputs": [],
   "source": [
    "#Could also do it like...\n",
    "def calculate_bmi_option2 (weight, height):\n",
    "    BMI = weight/(height**2)\n",
    "    if BMI < 18.5:\n",
    "        return'BMI Category: Underweight'\n",
    "    if 18.5<=BMI<=24.9:\n",
    "         return'BMI Category: Normal Weight'\n",
    "    if 25<=BMI<=29.9:\n",
    "         return'BMI Category: Overweight'\n",
    "    if 30<=BMI:\n",
    "         return'BMI Category: Obesity'\n",
    "    \n",
    "    "
   ]
  },
  {
   "cell_type": "code",
   "execution_count": 20,
   "id": "5a07d5d3-76cf-480f-8515-aaaf9026fc2a",
   "metadata": {},
   "outputs": [
    {
     "data": {
      "text/plain": [
       "'BMI Cateogory: Normal Weight'"
      ]
     },
     "execution_count": 20,
     "metadata": {},
     "output_type": "execute_result"
    }
   ],
   "source": [
    "calculate_bmi_option2(56,1.6)"
   ]
  }
 ],
 "metadata": {
  "kernelspec": {
   "display_name": "Python 3 (ipykernel)",
   "language": "python",
   "name": "python3"
  },
  "language_info": {
   "codemirror_mode": {
    "name": "ipython",
    "version": 3
   },
   "file_extension": ".py",
   "mimetype": "text/x-python",
   "name": "python",
   "nbconvert_exporter": "python",
   "pygments_lexer": "ipython3",
   "version": "3.11.7"
  },
  "toc": {
   "base_numbering": 1,
   "nav_menu": {},
   "number_sections": true,
   "sideBar": true,
   "skip_h1_title": false,
   "title_cell": "Table of Contents",
   "title_sidebar": "Contents",
   "toc_cell": false,
   "toc_position": {},
   "toc_section_display": true,
   "toc_window_display": false
  },
  "vscode": {
   "interpreter": {
    "hash": "31f2aee4e71d21fbe5cf8b01ff0e069b9275f58929596ceb00d14d90e3e16cd6"
   }
  }
 },
 "nbformat": 4,
 "nbformat_minor": 5
}

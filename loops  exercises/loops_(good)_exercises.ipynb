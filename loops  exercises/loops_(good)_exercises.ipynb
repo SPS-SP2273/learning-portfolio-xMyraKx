{
 "cells": [
  {
   "attachments": {},
   "cell_type": "markdown",
   "id": "123456",
   "metadata": {},
   "source": [
    "<div style=\"text-align:left;font-size:2em\"><span style=\"font-weight:bolder;font-size:1.25em\">SP2273 | Learning Portfolio</span><br><br><span style=\"font-weight:bold;color:darkred\">Loops (Good) Exercises</span></div>"
   ]
  },
  {
   "cell_type": "markdown",
   "id": "3901ae39-f382-404d-858a-3b09d9438669",
   "metadata": {},
   "source": [
    "__Exercise 1 (Make me an odd list) ☻__\n",
    "\n",
    "With your knowledge of growing lists, use a `for` loop with `range()` and `continue` to generate a list of the squares of the odd integers from 0 to 9.\n",
    "\n",
    "Hint: You can check for ‘evenness’ using `number % 2 == 0`."
   ]
  },
  {
   "cell_type": "code",
   "execution_count": 42,
   "id": "f81d9a49-4e29-47c7-b937-19afba1ed2cb",
   "metadata": {},
   "outputs": [
    {
     "name": "stdout",
     "output_type": "stream",
     "text": [
      "[1, 9, 25, 49, 81]\n"
     ]
    }
   ],
   "source": [
    "odd_square_numbers = []\n",
    "\n",
    "\n",
    "for number in range (10):\n",
    "    if number % 2 == 0:\n",
    "        continue\n",
    "    odd_square_numbers.append(number**2) #Rmbr: .append helps you edit the list...\n",
    "                                        #In this case, append the results of the for loop to the list \n",
    "\n",
    "print(odd_square_numbers)\n",
    "\n"
   ]
  },
  {
   "cell_type": "code",
   "execution_count": null,
   "id": "96c518a1-bde8-4565-8473-a1c29577485b",
   "metadata": {},
   "outputs": [],
   "source": []
  },
  {
   "cell_type": "markdown",
   "id": "213d00cb-4e8b-4ff5-9f77-3e5973e47d90",
   "metadata": {},
   "source": [
    "__Exercise 2 (Make me another odd list) ☻__\n",
    "\n",
    "Redo the previous exercise using list comprehension.\n",
    "\n"
   ]
  },
  {
   "cell_type": "code",
   "execution_count": 1,
   "id": "2888a33a-272c-40bc-8580-7ee8b83e76d9",
   "metadata": {},
   "outputs": [
    {
     "data": {
      "text/plain": [
       "[1, 9, 25, 49, 81]"
      ]
     },
     "execution_count": 1,
     "metadata": {},
     "output_type": "execute_result"
    }
   ],
   "source": [
    "[num**2 for num in range(10) if num%2!=0]"
   ]
  },
  {
   "cell_type": "markdown",
   "id": "009151cb-2ec9-4894-8584-d94282492220",
   "metadata": {},
   "source": [
    "__Exercise 3 (Time me!) ☻__\n",
    "\n",
    "Use the cell magic command %%timeit to time the previous solutions. Which of the two is faster?"
   ]
  },
  {
   "cell_type": "code",
   "execution_count": 46,
   "id": "93f4aadc-5faf-4432-b474-7e093b74e956",
   "metadata": {},
   "outputs": [
    {
     "name": "stdout",
     "output_type": "stream",
     "text": [
      "443 ns ± 0.609 ns per loop (mean ± std. dev. of 7 runs, 1,000,000 loops each)\n"
     ]
    }
   ],
   "source": [
    "%%timeit\n",
    "odd_square_numbers = []\n",
    "\n",
    "\n",
    "for number in range (10):\n",
    "    if number % 2 == 0:\n",
    "        continue\n",
    "    odd_square_numbers.append(number**2) #Rmbr: .append helps you edit the list...\n",
    "                                        #In this case, append the results of the for loop to the list \n",
    "\n",
    "#print(odd_square_numbers)\n",
    "\n",
    "#Don't include the print() lest everything crashes "
   ]
  },
  {
   "cell_type": "code",
   "execution_count": 45,
   "id": "1a8d6086-0c49-4da3-ab55-e7e4dcf04e7d",
   "metadata": {},
   "outputs": [
    {
     "name": "stdout",
     "output_type": "stream",
     "text": [
      "474 ns ± 1.27 ns per loop (mean ± std. dev. of 7 runs, 1,000,000 loops each)\n"
     ]
    }
   ],
   "source": [
    "%%timeit\n",
    "[num**2 for num in range(10) if num%2!=0]"
   ]
  },
  {
   "cell_type": "markdown",
   "id": "4c7f9cd1-ab80-459f-846e-9c3b9686a4e3",
   "metadata": {},
   "source": [
    "__Notice!__ Using `for` loop is faster to compute"
   ]
  },
  {
   "cell_type": "markdown",
   "id": "faaa799c-8314-40ba-beaf-ec685f084090",
   "metadata": {},
   "source": [
    "__Exercise 4 (A problem of decay) ☻__\n",
    "\n",
    "The initial quantity of a sample of a radioactive substance is 100 units, and it decays by 5% each year. Use a `while` loop to determine how long the sample will take to reduce to half its original amount."
   ]
  },
  {
   "cell_type": "code",
   "execution_count": 18,
   "id": "87f01d47-465f-46b7-b122-dcf771dd3eff",
   "metadata": {},
   "outputs": [
    {
     "name": "stdout",
     "output_type": "stream",
     "text": [
      "14\n"
     ]
    }
   ],
   "source": [
    "radiation = 100\n",
    "current_rad = 100\n",
    "year=0\n",
    "\n",
    "while current_rad >= 50:\n",
    "    current_rad*=0.95\n",
    "    #print(current_rad)\n",
    "    year+=1\n",
    "print(year) \n",
    "\n",
    "#note the use of indents to specify what is and what isn't in the while block\n",
    "# note the += and *= synthax to have the equations run iteratively\n"
   ]
  },
  {
   "cell_type": "markdown",
   "id": "57bb620f-ada7-4366-b534-6dd2b289cf29",
   "metadata": {},
   "source": [
    "__Exercise 5 (Changes in CO2) ☻__\n",
    "\n",
    "The following is data about atmospheric CO2 levels for several years in a (year, CO2_level) format (a list!). The units are ppm.\n",
    "\n",
    "```python\n",
    "co2_data = [\n",
    "    (2000, 369.55), (2001, 371.14), (2002, 373.28), \n",
    "    (2003, 375.80), (2004, 377.52), (2005, 379.80), \n",
    "    (2006, 381.90), (2007, 383.79), (2008, 385.60), \n",
    "    (2009, 387.43), (2010, 389.90), (2011, 391.65), \n",
    "    (2012, 393.85), (2013, 396.52), (2014, 398.65),\n",
    "    (2015, 400.83), (2016, 404.24), (2017, 406.55), \n",
    "    (2018, 408.52), (2019, 411.44), (2020, 414.24)\n",
    "]\n",
    "```\n",
    "Identify those years that showed an increase of CO2 of 3 ppm or more compared to the previous year.\n",
    "Please print out these years along with the corresponding change in concentration."
   ]
  },
  {
   "cell_type": "code",
   "execution_count": 2,
   "id": "db7c8926-046e-43a3-8ca8-18f0c082fabf",
   "metadata": {},
   "outputs": [],
   "source": [
    "co2_data = [\n",
    "    (2000, 369.55), (2001, 371.14), (2002, 373.28), \n",
    "    (2003, 375.80), (2004, 377.52), (2005, 379.80), \n",
    "    (2006, 381.90), (2007, 383.79), (2008, 385.60), \n",
    "    (2009, 387.43), (2010, 389.90), (2011, 391.65), \n",
    "    (2012, 393.85), (2013, 396.52), (2014, 398.65),\n",
    "    (2015, 400.83), (2016, 404.24), (2017, 406.55), \n",
    "    (2018, 408.52), (2019, 411.44), (2020, 414.24)\n",
    "]"
   ]
  },
  {
   "cell_type": "code",
   "execution_count": 38,
   "id": "7ef26696-b064-49b8-91a5-a4589455f922",
   "metadata": {},
   "outputs": [
    {
     "name": "stdout",
     "output_type": "stream",
     "text": [
      "These are the years that had a temperature change of 3 or more degrees\n",
      "\n",
      "Year: 2016, co2 concentration difference:3.410000000000025ppm\n"
     ]
    }
   ],
   "source": [
    "#What we need to do: Subtract a year's co2 concentration (which is at index position 1) with the previous years. \n",
    "#If result is 3 or more then print the year and the result, else ignore it\n",
    "\n",
    "for x in range(1,len(co2_data)):\n",
    "    year, co2_conc = co2_data[x] #define some variables to facilitate the arithmetic\n",
    "    last_year, last_conc = co2_data[x-1]\n",
    "    difference = co2_conc - last_conc\n",
    "    if difference>=3:\n",
    "        print(f\"These are the years that had a temperature change of 3 or more degrees\"'\\n')\n",
    "        print(f\"Year: {year}, co2 concentration difference:{difference}ppm\")\n",
    "    \n"
   ]
  },
  {
   "cell_type": "code",
   "execution_count": null,
   "id": "35d3d840-d98e-4b9b-a26c-a9f019d900a4",
   "metadata": {},
   "outputs": [],
   "source": []
  }
 ],
 "metadata": {
  "kernelspec": {
   "display_name": "Python 3 (ipykernel)",
   "language": "python",
   "name": "python3"
  },
  "language_info": {
   "codemirror_mode": {
    "name": "ipython",
    "version": 3
   },
   "file_extension": ".py",
   "mimetype": "text/x-python",
   "name": "python",
   "nbconvert_exporter": "python",
   "pygments_lexer": "ipython3",
   "version": "3.11.7"
  },
  "toc": {
   "base_numbering": 1,
   "nav_menu": {},
   "number_sections": true,
   "sideBar": true,
   "skip_h1_title": false,
   "title_cell": "Table of Contents",
   "title_sidebar": "Contents",
   "toc_cell": false,
   "toc_position": {},
   "toc_section_display": true,
   "toc_window_display": false
  },
  "vscode": {
   "interpreter": {
    "hash": "31f2aee4e71d21fbe5cf8b01ff0e069b9275f58929596ceb00d14d90e3e16cd6"
   }
  }
 },
 "nbformat": 4,
 "nbformat_minor": 5
}

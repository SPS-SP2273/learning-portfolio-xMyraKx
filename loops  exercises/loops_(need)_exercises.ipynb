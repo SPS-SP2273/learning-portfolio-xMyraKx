{
 "cells": [
  {
   "attachments": {},
   "cell_type": "markdown",
   "id": "123456",
   "metadata": {},
   "source": [
    "<div style=\"text-align:left;font-size:2em\"><span style=\"font-weight:bolder;font-size:1.25em\">SP2273 | Learning Portfolio</span><br><br><span style=\"font-weight:bold;color:darkred\">Loops (Need) Exercises</span></div>"
   ]
  },
  {
   "cell_type": "markdown",
   "id": "ad808338-873c-4a55-94a6-e23c4c22fa15",
   "metadata": {},
   "source": [
    "__Exercise 1 (Celcius to Farenheit) ☻__\n",
    "\n",
    "You are provided with the following list of temperatures in Celsius. Write a quick Python snippet that converts each temperature to Fahrenheit and prints both temperatures."
   ]
  },
  {
   "cell_type": "code",
   "execution_count": 2,
   "id": "23d25260-e318-4606-a82f-b5b0cf54f0b4",
   "metadata": {},
   "outputs": [
    {
     "name": "stdout",
     "output_type": "stream",
     "text": [
      "0 Celsius is 32 in Fahrenheit!\n",
      "5 Celsius is 37 in Fahrenheit!\n",
      "10 Celsius is 42 in Fahrenheit!\n",
      "15 Celsius is 47 in Fahrenheit!\n",
      "20 Celsius is 52 in Fahrenheit!\n",
      "25 Celsius is 57 in Fahrenheit!\n",
      "30 Celsius is 62 in Fahrenheit!\n",
      "35 Celsius is 67 in Fahrenheit!\n",
      "40 Celsius is 72 in Fahrenheit!\n",
      "45 Celsius is 77 in Fahrenheit!\n",
      "50 Celsius is 82 in Fahrenheit!\n"
     ]
    }
   ],
   "source": [
    "import numpy as np\n",
    "temperatures_celsius = [\n",
    "    0, 5, 10, 15, 20, 25,\n",
    "    30, 35, 40, 45, 50\n",
    "]\n",
    "array_celsius = np.array(temperatures_celsius)\n",
    "\n",
    "temperatures_fahrenheit = array_celsius + 32\n",
    "\n",
    "for index, temp in enumerate(temperatures_celsius):\n",
    "    fahrenheit = temperatures_fahrenheit[index]\n",
    "    print(f'{temp} Celsius is {fahrenheit} in Fahrenheit!')"
   ]
  },
  {
   "cell_type": "markdown",
   "id": "c04a657a-791f-49d6-b128-3c382b10e425",
   "metadata": {},
   "source": [
    "__Exercise 2 (Multiplication table)__\n",
    "You can put a loop within a loop to do doubly loopy stuff. Here is an example:"
   ]
  },
  {
   "cell_type": "code",
   "execution_count": 13,
   "id": "ee308811-9d3a-43fa-b3a8-78ac81f48475",
   "metadata": {},
   "outputs": [
    {
     "name": "stdout",
     "output_type": "stream",
     "text": [
      "A1\tA2\tA3\t\n",
      "\n",
      "B1\tB2\tB3\t\n",
      "\n",
      "C1\tC2\tC3\t\n",
      "\n"
     ]
    }
   ],
   "source": [
    "for letter in ['A', 'B', 'C']:\n",
    "    for number in [1, 2, 3]:\n",
    "        print(f'{letter}{number}', end='\\t')\n",
    "    print('\\n')"
   ]
  },
  {
   "cell_type": "markdown",
   "id": "3fcb24ed-e70f-4551-b7b9-a4713a861c27",
   "metadata": {},
   "source": [
    "Task: Write a Python snippet that prints a multiplication table (up to 5) for numbers 1 through 5 using nested for loops. The output should be formatted as shown below:\n",
    "```python\n",
    "1 : 1   2   3   4   5   \n",
    "2 : 2   4   6   8   10  \n",
    "3 : 3   6   9   12  15  \n",
    "4 : 4   8   12  16  20  \n",
    "5 : 5   10  15  20  25  \n",
    "```"
   ]
  },
  {
   "cell_type": "code",
   "execution_count": 5,
   "id": "c204dd93-50c7-4841-9dc1-14d5c49d3b5e",
   "metadata": {},
   "outputs": [
    {
     "name": "stdout",
     "output_type": "stream",
     "text": [
      "1\t2\t3\t4\t5\t\n",
      "\n",
      "2\t4\t6\t8\t10\t\n",
      "\n",
      "3\t6\t9\t12\t15\t\n",
      "\n",
      "4\t8\t12\t16\t20\t\n",
      "\n",
      "5\t10\t15\t20\t25\t\n",
      "\n"
     ]
    }
   ],
   "source": [
    "for num in [1,2,3,4,5]:\n",
    "    for multiplier in [1,2,3,4,5]:\n",
    "        print(f'{num*multiplier}', end='\\t')\n",
    "    print('\\n')\n",
    "\n",
    "#/t adds a space in betwwen values and /n returns to a new line\n",
    "#Hmmm but missing the first column "
   ]
  },
  {
   "cell_type": "code",
   "execution_count": 15,
   "id": "48fabd42-5ea9-4401-ab11-1491d10274f1",
   "metadata": {},
   "outputs": [
    {
     "name": "stdout",
     "output_type": "stream",
     "text": [
      "1 :\t1\t2\t3\t4\t5\t\n",
      "\n",
      "2 :\t2\t4\t6\t8\t10\t\n",
      "\n",
      "3 :\t3\t6\t9\t12\t15\t\n",
      "\n",
      "4 :\t4\t8\t12\t16\t20\t\n",
      "\n",
      "5 :\t5\t10\t15\t20\t25\t\n",
      "\n"
     ]
    }
   ],
   "source": [
    "#let's add another print function...\n",
    "for num in [1,2,3,4,5]:\n",
    "    print(num,\":\", end='\\t')\n",
    "    for multiplier in [1,2,3,4,5]:\n",
    "        print(f'{num*multiplier}', end='\\t')\n",
    "    print('\\n')"
   ]
  },
  {
   "cell_type": "code",
   "execution_count": null,
   "id": "e5de7d03-52fd-4d2e-b1db-ec145031d1d1",
   "metadata": {},
   "outputs": [],
   "source": []
  }
 ],
 "metadata": {
  "kernelspec": {
   "display_name": "Python 3 (ipykernel)",
   "language": "python",
   "name": "python3"
  },
  "language_info": {
   "codemirror_mode": {
    "name": "ipython",
    "version": 3
   },
   "file_extension": ".py",
   "mimetype": "text/x-python",
   "name": "python",
   "nbconvert_exporter": "python",
   "pygments_lexer": "ipython3",
   "version": "3.11.7"
  },
  "toc": {
   "base_numbering": 1,
   "nav_menu": {},
   "number_sections": true,
   "sideBar": true,
   "skip_h1_title": false,
   "title_cell": "Table of Contents",
   "title_sidebar": "Contents",
   "toc_cell": false,
   "toc_position": {},
   "toc_section_display": true,
   "toc_window_display": false
  },
  "vscode": {
   "interpreter": {
    "hash": "31f2aee4e71d21fbe5cf8b01ff0e069b9275f58929596ceb00d14d90e3e16cd6"
   }
  }
 },
 "nbformat": 4,
 "nbformat_minor": 5
}

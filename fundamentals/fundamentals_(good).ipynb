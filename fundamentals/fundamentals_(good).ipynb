{
 "cells": [
  {
   "attachments": {},
   "cell_type": "markdown",
   "id": "123456",
   "metadata": {},
   "source": [
    "<div style=\"text-align:left;font-size:2em\"><span style=\"font-weight:bolder;font-size:1.25em\">SP2273 | Learning Portfolio</span><br><br><span style=\"font-weight:bold;color:darkred\">Fundamentals (Good)</span></div>"
   ]
  },
  {
   "attachments": {},
   "cell_type": "markdown",
   "id": "8f2878d7",
   "metadata": {},
   "source": [
    "# What to expect in this chapter"
   ]
  },
  {
   "cell_type": "markdown",
   "id": "c9c76e36-6262-4590-8702-a56b5411931d",
   "metadata": {},
   "source": [
    "Building on python bascis and an introduction to different data types nd how to combine variables with English."
   ]
  },
  {
   "cell_type": "markdown",
   "id": "89d222b1-f04e-4c90-909a-5e1d75ab796e",
   "metadata": {},
   "source": []
  },
  {
   "attachments": {},
   "cell_type": "markdown",
   "id": "e77ed64b",
   "metadata": {},
   "source": [
    "# 1 There is more to if"
   ]
  },
  {
   "cell_type": "markdown",
   "id": "fed3e299-bb43-4106-b816-128089e40cc9",
   "metadata": {},
   "source": [
    "__elif__ (else if)"
   ]
  },
  {
   "cell_type": "code",
   "execution_count": 1,
   "id": "514a02ab-0bfb-4502-b850-5d97055d717e",
   "metadata": {},
   "outputs": [
    {
     "name": "stdout",
     "output_type": "stream",
     "text": [
      "Hello Batman!\n"
     ]
    }
   ],
   "source": [
    "name = 'Batman'\n",
    "\n",
    "if name == 'Batman':\n",
    "    print('Hello Batman!')\n",
    "elif name == 'Robin':\n",
    "    print('Hello Sidekick!')\n",
    "else:\n",
    "    print('Hello World!')\n"
   ]
  },
  {
   "cell_type": "code",
   "execution_count": 5,
   "id": "138db633-4b3c-4a1a-918b-48c66fe6ed30",
   "metadata": {},
   "outputs": [
    {
     "name": "stdout",
     "output_type": "stream",
     "text": [
      "Hello Sidekick!\n"
     ]
    }
   ],
   "source": [
    "name = 'Robin'\n",
    "if name == 'Batman':\n",
    "    print('Hello Batman!')\n",
    "elif name == 'Robin':\n",
    "    print('Hello Sidekick!')\n",
    "else:\n",
    "    print('Hello World!')"
   ]
  },
  {
   "cell_type": "code",
   "execution_count": 7,
   "id": "9ee1595c-e2bc-4b63-b2ed-7dfc16ef2933",
   "metadata": {},
   "outputs": [
    {
     "name": "stdout",
     "output_type": "stream",
     "text": [
      "Hello World!\n"
     ]
    }
   ],
   "source": [
    "name = 'Leia Organa'\n",
    "\n",
    "if name == 'Batman':\n",
    "    print('Hello Batman!')\n",
    "elif name == 'Robin':\n",
    "    print('Hello Sidekick!')\n",
    "else:\n",
    "    print('Hello World!')"
   ]
  },
  {
   "attachments": {},
   "cell_type": "markdown",
   "id": "b4f8bfe2",
   "metadata": {},
   "source": [
    "# 2 Asking questions"
   ]
  },
  {
   "cell_type": "code",
   "execution_count": 8,
   "id": "b4d0eae7-96d7-4c1b-b33d-64d018dc7a80",
   "metadata": {},
   "outputs": [],
   "source": [
    "# Let's say we have 2 lists\n",
    "fruits = ['apple', 'banana', 'pineapple', 'jackfruit']\n",
    "vegetables = ['celery', 'potato', 'broccoli', 'kale']\n",
    "\n"
   ]
  },
  {
   "cell_type": "code",
   "execution_count": 11,
   "id": "750db889-4211-4bd9-9eb6-aa1e442a166e",
   "metadata": {},
   "outputs": [
    {
     "data": {
      "text/plain": [
       "True"
      ]
     },
     "execution_count": 11,
     "metadata": {},
     "output_type": "execute_result"
    }
   ],
   "source": [
    "# Is 'apple' in the list of fruits?\n",
    "'apple' in fruits"
   ]
  },
  {
   "cell_type": "code",
   "execution_count": 13,
   "id": "b2d7587f-f8c2-4484-bf3d-b00065925735",
   "metadata": {},
   "outputs": [
    {
     "data": {
      "text/plain": [
       "False"
      ]
     },
     "execution_count": 13,
     "metadata": {},
     "output_type": "execute_result"
    }
   ],
   "source": [
    "# Is 'persimmon' in the list of fruits?\n",
    "'persimmon' in fruits"
   ]
  },
  {
   "cell_type": "code",
   "execution_count": 15,
   "id": "7ee3833e-0171-4c56-ae4a-f1c9989cb179",
   "metadata": {},
   "outputs": [
    {
     "data": {
      "text/plain": [
       "True"
      ]
     },
     "execution_count": 15,
     "metadata": {},
     "output_type": "execute_result"
    }
   ],
   "source": [
    "#Is ‘persimmon’ not in the list fruits?\n",
    "'persimmon' not in fruits"
   ]
  },
  {
   "cell_type": "markdown",
   "id": "6de00c1d-fabd-406f-8db1-18c8497d4271",
   "metadata": {},
   "source": [
    "__we can use AND and OR gates too__"
   ]
  },
  {
   "cell_type": "code",
   "execution_count": 16,
   "id": "287f8e92-4ec2-4c10-8162-efd4103819a4",
   "metadata": {},
   "outputs": [
    {
     "data": {
      "text/plain": [
       "True"
      ]
     },
     "execution_count": 16,
     "metadata": {},
     "output_type": "execute_result"
    }
   ],
   "source": [
    "#Is ‘apple’ in the list fruits and is ‘celery’ in the list vegetables?\n",
    "('apple' in fruits) and ('celery' in vegetables)"
   ]
  },
  {
   "cell_type": "code",
   "execution_count": 18,
   "id": "af19779a-e8d9-4fbb-9137-31b97f435daa",
   "metadata": {},
   "outputs": [
    {
     "data": {
      "text/plain": [
       "True"
      ]
     },
     "execution_count": 18,
     "metadata": {},
     "output_type": "execute_result"
    }
   ],
   "source": [
    "#Is ‘apple’ in the list fruits or is ‘celery’ in the list vegetables?\n",
    "('persimmon' in fruits) or ('celery' in vegetables)\n"
   ]
  },
  {
   "cell_type": "code",
   "execution_count": 20,
   "id": "037461ae-3368-440c-b166-c9d7c92219b1",
   "metadata": {},
   "outputs": [
    {
     "data": {
      "text/plain": [
       "True"
      ]
     },
     "execution_count": 20,
     "metadata": {},
     "output_type": "execute_result"
    }
   ],
   "source": [
    "# is 'app' in 'apple'?\n",
    "'app' in 'apple'"
   ]
  },
  {
   "cell_type": "code",
   "execution_count": 19,
   "id": "eb121f80-3fe5-46ea-94d0-a80d4d382e0a",
   "metadata": {},
   "outputs": [
    {
     "data": {
      "text/plain": [
       "True"
      ]
     },
     "execution_count": 19,
     "metadata": {},
     "output_type": "execute_result"
    }
   ],
   "source": [
    "# is 'per' in 'persimmon'?\n",
    "'per' in 'persimmon'"
   ]
  },
  {
   "cell_type": "markdown",
   "id": "e20e13dd-d510-41ea-a727-734bb0dc2e1f",
   "metadata": {},
   "source": [
    "Note: In asking questions it is important to understand that basic Python only knows how to compare similar things (types) (e.g. numbers or English). So, 3 > 10.5 will work, but 3 > 'apple' will not."
   ]
  },
  {
   "cell_type": "markdown",
   "id": "cd346ce5-fb3a-490a-a897-3fbc11df0a82",
   "metadata": {},
   "source": [
    "__Yet, python _can_ compare 'apples' and 'oranges'__"
   ]
  },
  {
   "cell_type": "code",
   "execution_count": 21,
   "id": "4ae0d35b-9aaa-4260-b298-c2d1c523ecbe",
   "metadata": {},
   "outputs": [
    {
     "data": {
      "text/plain": [
       "True"
      ]
     },
     "execution_count": 21,
     "metadata": {},
     "output_type": "execute_result"
    }
   ],
   "source": [
    "'apples'<'oranges'"
   ]
  },
  {
   "cell_type": "code",
   "execution_count": 22,
   "id": "d585b091-833c-4200-8598-d791798ded64",
   "metadata": {},
   "outputs": [
    {
     "data": {
      "text/plain": [
       "True"
      ]
     },
     "execution_count": 22,
     "metadata": {},
     "output_type": "execute_result"
    }
   ],
   "source": [
    "'apples'<'pear'"
   ]
  },
  {
   "cell_type": "markdown",
   "id": "2f168a9e-ab39-404a-88d8-9ca4858ea572",
   "metadata": {},
   "source": [
    "__What is going on?__\n",
    "- This comparison works because English letters are internally represented as numbers. For example, 'a' is 97 and 'o' is 111. This will become even clearer after you have worked on the section below on data types."
   ]
  },
  {
   "attachments": {},
   "cell_type": "markdown",
   "id": "7e76c5fe",
   "metadata": {},
   "source": [
    "# 3 Remember"
   ]
  },
  {
   "cell_type": "markdown",
   "id": "79faa986-4dcb-4995-85aa-7ca954df75a9",
   "metadata": {},
   "source": [
    "```python\n",
    "not, in, and, or are some Python keywords that are useful in asking questions\n",
    "```\n",
    "\n"
   ]
  },
  {
   "attachments": {},
   "cell_type": "markdown",
   "id": "ee237314",
   "metadata": {},
   "source": [
    "## 3.1 Asking Math questions"
   ]
  },
  {
   "cell_type": "markdown",
   "id": "43245fbe-5c11-41ec-9c87-8231d813bf4b",
   "metadata": {},
   "source": [
    "__Python equivalents of common math symbols__\n",
    "| Question/Condition     | Math Symbol | Python Symbols |\n",
    "|------------------------|:-----------:|:--------------:|\n",
    "| Equals?                |      =      |       ==       |\n",
    "| Not equal?             |      ≠      |       !=       |\n",
    "| Less than?             |      <      |        <       |\n",
    "| Greater than?          |      >      |        >       |\n",
    "| Less than or equal?    |      ≤      |       <=       |\n",
    "| Greater than or equal? |      ≥      |       >=       |"
   ]
  },
  {
   "cell_type": "markdown",
   "id": "136d7b73-da45-49e5-916a-04ab99a902c8",
   "metadata": {},
   "source": [
    "__The following also accepted__\n",
    "```python\n",
    "x > 5 and x < 15\n",
    "(x > 5) and (x < 15)\n",
    "5 < x < 15\n",
    "```"
   ]
  },
  {
   "cell_type": "code",
   "execution_count": null,
   "id": "2bc03cc0-a6b6-4d24-855d-05909914eaec",
   "metadata": {},
   "outputs": [],
   "source": []
  },
  {
   "attachments": {},
   "cell_type": "markdown",
   "id": "1fcf7c93",
   "metadata": {},
   "source": [
    "# 4 Python stores information in different formats or types"
   ]
  },
  {
   "cell_type": "markdown",
   "id": "1e9412e3-7a41-4699-a3e3-2e059548cec0",
   "metadata": {},
   "source": [
    "For efficiency, computers store information in different ways. For example, here are four ways we can store the number 1.234. \n",
    "\n",
    "We are also using the function `type()` to ask Python how it is storing the information."
   ]
  },
  {
   "cell_type": "code",
   "execution_count": 25,
   "id": "329d1cae-2f4b-4988-b05d-0cb972476f3c",
   "metadata": {},
   "outputs": [
    {
     "name": "stdout",
     "output_type": "stream",
     "text": [
      "1 <class 'int'>\n"
     ]
    }
   ],
   "source": [
    "# Method 1: as an integer (int) (note how it drops the decimal portion)\n",
    "\n",
    "x = int(1.99)\n",
    "print(x, type(x))\n",
    "\n",
    "# Note: it is NOT rounding to the nearest whole number."
   ]
  },
  {
   "cell_type": "code",
   "execution_count": 26,
   "id": "4aec3bd6-c065-4334-839b-6a5ddaaadfd5",
   "metadata": {},
   "outputs": [
    {
     "name": "stdout",
     "output_type": "stream",
     "text": [
      "1.234 <class 'str'>\n"
     ]
    }
   ],
   "source": [
    "# Method 2: As an English word aka a string (str)\n",
    "x = str(1.234)\n",
    "print(x, type(x))"
   ]
  },
  {
   "cell_type": "code",
   "execution_count": 27,
   "id": "a3178af3-3e95-45a7-b070-31c2fe8bb009",
   "metadata": {},
   "outputs": [
    {
     "name": "stdout",
     "output_type": "stream",
     "text": [
      "1.234 <class 'float'>\n"
     ]
    }
   ],
   "source": [
    "# Method 3: As a decimal number aka a float (float)\n",
    "x = float(1.234)\n",
    "print(x, type(x))"
   ]
  },
  {
   "cell_type": "code",
   "execution_count": 28,
   "id": "f5e256ba-95ae-471e-9b91-d4dd45ecc4d9",
   "metadata": {},
   "outputs": [
    {
     "name": "stdout",
     "output_type": "stream",
     "text": [
      "(1.234+0j) <class 'complex'>\n"
     ]
    }
   ],
   "source": [
    "# Method 4: As a complex number (complex)\n",
    "x = complex(1.234)\n",
    "print(x, type(x))"
   ]
  },
  {
   "cell_type": "markdown",
   "id": "bb74aaef-e5c9-4a14-8652-178bc5f96dd4",
   "metadata": {},
   "source": [
    "__Note:__ There are many other types of data (see here for more details). Often we will need to change the type of a variable (like we did in R)."
   ]
  },
  {
   "cell_type": "markdown",
   "id": "18b2d17d-3b7d-44d7-8d56-56066c0bd3a2",
   "metadata": {},
   "source": [
    "__Changing variable type (aka. typecasting)__"
   ]
  },
  {
   "cell_type": "code",
   "execution_count": 29,
   "id": "c10b6142-5f64-422c-a8b4-ace062bae3a6",
   "metadata": {},
   "outputs": [
    {
     "name": "stdout",
     "output_type": "stream",
     "text": [
      "1.234 <class 'str'>\n"
     ]
    }
   ],
   "source": [
    "x = '1.234'        # x is a string\n",
    "print(x, type(x)) "
   ]
  },
  {
   "cell_type": "code",
   "execution_count": 30,
   "id": "bec2e8fb-b9bf-4494-859d-9d65ed924a31",
   "metadata": {},
   "outputs": [
    {
     "name": "stdout",
     "output_type": "stream",
     "text": [
      "1.234 <class 'float'>\n"
     ]
    }
   ],
   "source": [
    "x = float(x)       # x is now a decimal number\n",
    "print(x, type(x))"
   ]
  },
  {
   "cell_type": "markdown",
   "id": "83ac8944-ca79-47c6-be1d-276ba7a5bab6",
   "metadata": {},
   "source": [
    "__We just cast x to the type float__"
   ]
  },
  {
   "attachments": {},
   "cell_type": "markdown",
   "id": "5cde94c6",
   "metadata": {},
   "source": [
    "# 5 Never compare floats directly"
   ]
  },
  {
   "attachments": {},
   "cell_type": "markdown",
   "id": "19129f44",
   "metadata": {},
   "source": [
    "## 5.1 The Problem"
   ]
  },
  {
   "cell_type": "markdown",
   "id": "9549ba41-9e94-46e1-9c92-f25061611a6b",
   "metadata": {},
   "source": [
    "when often need to compare numbers, especially for scientific work. Unfortunately, since computers have finite (hardware) resources, floating point numbers cannot be exactly stored in a computer3. This leads to errors called roundoff errors. Let me demonstrate:\n",
    "\n",
    "Try the following code which compares $0.1 \\times 3$ with $0.3$"
   ]
  },
  {
   "cell_type": "code",
   "execution_count": 31,
   "id": "ed3e3d49-97a8-4e24-8bba-6bda490f322b",
   "metadata": {},
   "outputs": [
    {
     "data": {
      "text/plain": [
       "False"
      ]
     },
     "execution_count": 31,
     "metadata": {},
     "output_type": "execute_result"
    }
   ],
   "source": [
    "a = 0.1\n",
    "a3 = 0.3\n",
    "a * 3 == a3"
   ]
  },
  {
   "cell_type": "code",
   "execution_count": 33,
   "id": "b9699a36-2daf-4dd2-9b8a-c8e7ef29584e",
   "metadata": {},
   "outputs": [
    {
     "data": {
      "text/plain": [
       "'0.299999999999999988897769753748'"
      ]
     },
     "execution_count": 33,
     "metadata": {},
     "output_type": "execute_result"
    }
   ],
   "source": [
    "# To convince you further, let’s try printing to 17 decimal places:\n",
    "f'{0.3:.30f}'"
   ]
  },
  {
   "attachments": {},
   "cell_type": "markdown",
   "id": "40c56b9e",
   "metadata": {},
   "source": [
    "## 5.2 A solution"
   ]
  },
  {
   "cell_type": "markdown",
   "id": "bcb680b0-43de-4a80-b528-0c9e7d2944c5",
   "metadata": {},
   "source": [
    "To get around these types of issues, you should check if the variable is *close* to the expected values _instead_ of checking for equality (i.e. use inequality signs)"
   ]
  },
  {
   "cell_type": "code",
   "execution_count": 34,
   "id": "9807928a-af45-40a6-a358-317cdb38ce9b",
   "metadata": {},
   "outputs": [
    {
     "data": {
      "text/plain": [
       "True"
      ]
     },
     "execution_count": 34,
     "metadata": {},
     "output_type": "execute_result"
    }
   ],
   "source": [
    "eps = 1E-10\n",
    "abs(a * 3 - a3) < eps"
   ]
  },
  {
   "cell_type": "markdown",
   "id": "f9290b73-35a7-41de-85cc-8f543c31a27e",
   "metadata": {},
   "source": [
    "Else, you can use numpy"
   ]
  },
  {
   "cell_type": "code",
   "execution_count": 37,
   "id": "81da5965-f5ba-42b6-881a-f4b545150a56",
   "metadata": {},
   "outputs": [],
   "source": [
    "import numpy"
   ]
  },
  {
   "cell_type": "code",
   "execution_count": 39,
   "id": "4f64cd87-fc68-4044-aa86-8b78e71bc40b",
   "metadata": {},
   "outputs": [
    {
     "data": {
      "text/plain": [
       "True"
      ]
     },
     "execution_count": 39,
     "metadata": {},
     "output_type": "execute_result"
    }
   ],
   "source": [
    "numpy.isclose(a * 3, a3)\n",
    "# .isclose here checks if it \"approaches\" the specific value"
   ]
  },
  {
   "attachments": {},
   "cell_type": "markdown",
   "id": "3302b11e",
   "metadata": {},
   "source": [
    "# 6 Combining English and variables"
   ]
  },
  {
   "cell_type": "markdown",
   "id": "24be29c5-15cb-4e26-834d-ac61204dd686",
   "metadata": {},
   "source": [
    "One of the most valuable coding skills is the ability to seamlessly combine strings (i.e., English) with variables. This will be useful for example when automating personalized emails to a large class.\n",
    "\n",
    "And combining text and variables is made easy in newer versions of Python..."
   ]
  },
  {
   "cell_type": "code",
   "execution_count": 40,
   "id": "84799268-25f4-4912-8b2f-599999a401bd",
   "metadata": {},
   "outputs": [
    {
     "name": "stdout",
     "output_type": "stream",
     "text": [
      "Hello Batman!\n"
     ]
    }
   ],
   "source": [
    "# Method 1 (combining english with variables)\n",
    "name = \"Batman\"\n",
    "print(f\"Hello {name}!\")"
   ]
  },
  {
   "cell_type": "code",
   "execution_count": 42,
   "id": "fef348b7-d043-4128-9c0d-209a4d4aa635",
   "metadata": {},
   "outputs": [
    {
     "name": "stdout",
     "output_type": "stream",
     "text": [
      "Hello BATMAN!\n"
     ]
    }
   ],
   "source": [
    "# Method 2 (combining english with modified variable(text property))\n",
    "name = \"Batman\"\n",
    "print(f\"Hello {name.upper()}!\")\n"
   ]
  },
  {
   "cell_type": "code",
   "execution_count": 44,
   "id": "f7cd1139-146b-48a1-b743-607450c13998",
   "metadata": {},
   "outputs": [
    {
     "name": "stdout",
     "output_type": "stream",
     "text": [
      "The value of 10 squared is 100!\n"
     ]
    }
   ],
   "source": [
    "# Method 3 (combining english with modified variable (math property))\n",
    "x = 10\n",
    "print(f\"The value of {x} squared is {x**2}!\")"
   ]
  },
  {
   "cell_type": "markdown",
   "id": "de2f3120-9bbd-4008-9ea3-b4fb1220f649",
   "metadata": {},
   "source": [
    "Note the `f` and the `{ }` in the above command. \n",
    "This is called __f-string__ or __string interpolation__.\n",
    "\n",
    "You can do more with f-strings, like formatting a string or number..."
   ]
  },
  {
   "cell_type": "markdown",
   "id": "19d59e19-7fd7-43f0-867b-84f5aa95cc48",
   "metadata": {},
   "source": [
    "__Using f-strings to format text (strings)__"
   ]
  },
  {
   "cell_type": "code",
   "execution_count": 46,
   "id": "dec4fee8-ab22-4d9c-9cfa-21e60a7566d7",
   "metadata": {},
   "outputs": [
    {
     "name": "stdout",
     "output_type": "stream",
     "text": [
      "Bruce Wayne is Batman.\n"
     ]
    }
   ],
   "source": [
    "# set up what the text is\n",
    "\n",
    "text = 'Bruce Wayne is Batman.'\n",
    "print(f'{text}')"
   ]
  },
  {
   "cell_type": "code",
   "execution_count": 47,
   "id": "24c76487-6565-46ed-92d1-e28c8ef70e20",
   "metadata": {},
   "outputs": [
    {
     "name": "stdout",
     "output_type": "stream",
     "text": [
      "        Bruce Wayne is Batman.\n"
     ]
    }
   ],
   "source": [
    "print(f'{text:>30}')      # A block of 30 characters;\n",
    "                          # aligned right >"
   ]
  },
  {
   "cell_type": "code",
   "execution_count": 48,
   "id": "75cef1c7-96ec-4bdb-86ca-5bb030c55e5b",
   "metadata": {},
   "outputs": [
    {
     "name": "stdout",
     "output_type": "stream",
     "text": [
      "    Bruce Wayne is Batman.    \n"
     ]
    }
   ],
   "source": [
    "print(f'{text:^30}')      # A block of 30 characters;\n",
    "                          # aligned centre ^"
   ]
  },
  {
   "cell_type": "code",
   "execution_count": 49,
   "id": "376a1c8b-08ab-4b53-9810-46337294cf0b",
   "metadata": {},
   "outputs": [
    {
     "name": "stdout",
     "output_type": "stream",
     "text": [
      "Bruce Wayne is Batman.        \n"
     ]
    }
   ],
   "source": [
    "print(f'{text:<30}')      # A block of 30 characters;\n",
    "                          # aligned left <"
   ]
  },
  {
   "cell_type": "markdown",
   "id": "8fcebe6d-3673-431a-9648-c6ca02730f02",
   "metadata": {},
   "source": [
    "__Using f-string to format numbers.__"
   ]
  },
  {
   "cell_type": "code",
   "execution_count": 50,
   "id": "d130380f-3a8e-449a-9be0-ab9a4badf8e1",
   "metadata": {},
   "outputs": [
    {
     "name": "stdout",
     "output_type": "stream",
     "text": [
      "The cube of pi to 6 decimal places is 31.006277\n"
     ]
    }
   ],
   "source": [
    "print(f'The cube of pi to 6 decimal places is {numpy.pi**3:.6f}')\n",
    "# The f in .6f is used to tell the f-string to output the number in decimal notation."
   ]
  },
  {
   "cell_type": "code",
   "execution_count": 52,
   "id": "d0c9804c-c0e2-4b0b-b979-efb71bca64f7",
   "metadata": {},
   "outputs": [
    {
     "name": "stdout",
     "output_type": "stream",
     "text": [
      "The cube of pi to 6 decimal places is 3.100628e+01\n"
     ]
    }
   ],
   "source": [
    "print(f'The cube of pi to 6 decimal places is {numpy.pi**3:.6e}')\n",
    "# The e in .6e is used to tell the f-string to output the number in scientific notation."
   ]
  },
  {
   "attachments": {},
   "cell_type": "markdown",
   "id": "b65f5c18",
   "metadata": {},
   "source": [
    "## 6.1 Structure of f-strings"
   ]
  },
  {
   "cell_type": "markdown",
   "id": "5cc7370e-c914-4008-a5b9-7b8e6c60831e",
   "metadata": {},
   "source": [
    "f-string formatting has the structure `{X:>0Y.ZW}`. \n",
    "Here is more information about the letters `X`,`Y`,`>`, `0`,`Z` and `W`."
   ]
  },
  {
   "cell_type": "markdown",
   "id": "6b959322-8330-46ad-a88a-d62a649285f0",
   "metadata": {},
   "source": [
    "| Letter | Action                          | Possible Options                                               |\n",
    "|--------|---------------------------------|----------------------------------------------------------------|\n",
    "| X      | Variable to format              | Can be a number or a string                                    |\n",
    "| >      | Alignment                       | < (Left justified) > (Right justified) ^ (Centre justified)    |\n",
    "| 0      | Use 0’s to pad the spaces       | You can use other characters like a space .                    |\n",
    "| Y      | Total number of characters      |                                                                |\n",
    "| Z      | Number of decimal places        |                                                                |\n",
    "| W      | Specifies the type of variable. | f (float) d (integer) s (string) g (Asks Python to figure out) |"
   ]
  },
  {
   "cell_type": "code",
   "execution_count": 63,
   "id": "e5f8267f-2f84-407e-8f0f-9ff8a28068ee",
   "metadata": {},
   "outputs": [
    {
     "name": "stdout",
     "output_type": "stream",
     "text": [
      "The square root of 9 is 3.000\n"
     ]
    }
   ],
   "source": [
    "# For example if I wanted to format the sqrt of 9 to 3dp we can write...\n",
    "\n",
    "print(f'The square root of 9 is {numpy.sqrt(9):02.3f}')"
   ]
  },
  {
   "attachments": {},
   "cell_type": "markdown",
   "id": "42be2141",
   "metadata": {},
   "source": [
    "# 7 Escape sequences"
   ]
  },
  {
   "cell_type": "markdown",
   "id": "7483afcf-3a5d-4af0-9bb0-8f39eff12707",
   "metadata": {},
   "source": [
    "Back-slashes break the line. Pythoon reads Back-slashes as \"escape sequences.\""
   ]
  },
  {
   "cell_type": "code",
   "execution_count": 1,
   "id": "87d21160-5071-4c9a-b7c2-fbf27373f716",
   "metadata": {},
   "outputs": [
    {
     "name": "stdout",
     "output_type": "stream",
     "text": [
      "Line 1\n",
      "\tLine 2\n",
      "\t\tLine 3\n"
     ]
    }
   ],
   "source": [
    "print('Line 1\\n\\tLine 2\\n\\t\\tLine 3')"
   ]
  },
  {
   "cell_type": "markdown",
   "id": "1bf9c8ac-52e3-43f6-8e0f-6de8a05641f6",
   "metadata": {},
   "source": [
    "More uses of escape sequences:"
   ]
  },
  {
   "cell_type": "markdown",
   "id": "21c321fb-55fb-4019-91e0-5e3bbdca2f61",
   "metadata": {},
   "source": [
    "- __To print an apostrophe__\n"
   ]
  },
  {
   "cell_type": "code",
   "execution_count": 2,
   "id": "6bcbd3e6-fcfa-4b2a-ab11-3e74ec1da4e2",
   "metadata": {},
   "outputs": [
    {
     "name": "stdout",
     "output_type": "stream",
     "text": [
      "You're twenty years old.\n"
     ]
    }
   ],
   "source": [
    "print('You\\'re twenty years old.') "
   ]
  },
  {
   "cell_type": "markdown",
   "id": "1ce2060e-a4e9-44d9-921c-1893991ef428",
   "metadata": {},
   "source": [
    "- __To print \\ itself without python thinking it is an escape sequence with double backslashes__"
   ]
  },
  {
   "cell_type": "code",
   "execution_count": 3,
   "id": "33c4d3b8-bf18-4f9d-ba47-c102610194a7",
   "metadata": {},
   "outputs": [
    {
     "name": "stdout",
     "output_type": "stream",
     "text": [
      "A\\B\\C\n"
     ]
    }
   ],
   "source": [
    "print('A\\\\B\\\\C')"
   ]
  },
  {
   "cell_type": "markdown",
   "id": "a6774d45-60c6-44d0-8cc6-18878af18b99",
   "metadata": {},
   "source": [
    "- __To return to the next line (line breaks) with \\n__"
   ]
  },
  {
   "cell_type": "code",
   "execution_count": 5,
   "id": "cf9fe1d1-8686-4e29-b779-414a9141d07d",
   "metadata": {},
   "outputs": [
    {
     "name": "stdout",
     "output_type": "stream",
     "text": [
      "A\n",
      "B\n",
      "C\n"
     ]
    }
   ],
   "source": [
    "print('A\\nB\\nC')"
   ]
  },
  {
   "cell_type": "markdown",
   "id": "ddcc6458-e180-4a0c-88b7-658b7ba5502c",
   "metadata": {},
   "source": [
    "- __To tab in between strings__"
   ]
  },
  {
   "cell_type": "code",
   "execution_count": 6,
   "id": "fdd81d1e-9dd8-4d30-8140-6a12b1117112",
   "metadata": {},
   "outputs": [
    {
     "name": "stdout",
     "output_type": "stream",
     "text": [
      "A\tB\tC\n"
     ]
    }
   ],
   "source": [
    "print('A\\tB\\tC')"
   ]
  },
  {
   "cell_type": "code",
   "execution_count": null,
   "id": "beef5d54-d42d-4e43-a81d-0eecd54cab92",
   "metadata": {},
   "outputs": [],
   "source": []
  },
  {
   "attachments": {},
   "cell_type": "markdown",
   "id": "9b98dac3-5da0-417a-b19e-f999f28f02b7",
   "metadata": {},
   "source": [
    "\n",
    "# 8 Computers read = from Right to Left!"
   ]
  },
  {
   "cell_type": "markdown",
   "id": "7667d922-747a-44db-a3d8-6a9ecf187e5a",
   "metadata": {},
   "source": [
    "The way computers use = is quirky. "
   ]
  },
  {
   "cell_type": "code",
   "execution_count": 15,
   "id": "53c02d13-ced1-4270-9307-881245c052b7",
   "metadata": {},
   "outputs": [
    {
     "name": "stdout",
     "output_type": "stream",
     "text": [
      "42\n"
     ]
    }
   ],
   "source": [
    "y = 40\n",
    "y = y + 2\n",
    "print(y)\n",
    "# Thought this does not make sense in regualr math...it makes sense in code\n",
    "# This is because Python reads the RHS of the = before the LHS (which in its view is just wht its assigning the value to"
   ]
  },
  {
   "cell_type": "markdown",
   "id": "ce9aab66-2d88-46f8-b683-082375255b05",
   "metadata": {},
   "source": [
    "Why is the printed y=42? because the new line overrides what y was defined as in the previous line."
   ]
  },
  {
   "cell_type": "code",
   "execution_count": null,
   "id": "962d9d9b-4f75-4981-861c-5133ca21723b",
   "metadata": {},
   "outputs": [],
   "source": [
    "x = y = 10 #note that python uses this syntax too. So now we've simultaneouly assigned x and y to 10"
   ]
  },
  {
   "attachments": {},
   "cell_type": "markdown",
   "id": "2cf70341",
   "metadata": {},
   "source": [
    "# 9 Shorter and Cleaner Code"
   ]
  },
  {
   "cell_type": "markdown",
   "id": "624f14c3-a21e-4986-9e99-3244d59b36ed",
   "metadata": {},
   "source": [
    " A shorthand syntax related to the previous point will make your code neater. This shorthand is used often so even if you do not want to use it, you still need to understand it.\n",
    "\n",
    "Consider the following two sets of code; both have the same result."
   ]
  },
  {
   "cell_type": "code",
   "execution_count": 64,
   "id": "9f815a85-cd8a-451a-8ecf-a2da5ad0e333",
   "metadata": {},
   "outputs": [
    {
     "data": {
      "text/plain": [
       "42"
      ]
     },
     "execution_count": 64,
     "metadata": {},
     "output_type": "execute_result"
    }
   ],
   "source": [
    "y = 40\n",
    "y = y + 2\n",
    "y"
   ]
  },
  {
   "cell_type": "code",
   "execution_count": 65,
   "id": "8de2b6aa-ad72-41f1-91cc-f38446fecd1d",
   "metadata": {},
   "outputs": [
    {
     "data": {
      "text/plain": [
       "42"
      ]
     },
     "execution_count": 65,
     "metadata": {},
     "output_type": "execute_result"
    }
   ],
   "source": [
    "y = 40\n",
    "y += 2    # Same as y = y + 2\n",
    "y"
   ]
  },
  {
   "cell_type": "markdown",
   "id": "1eae998e-6ac2-4304-8c3e-1c463cceb06b",
   "metadata": {},
   "source": [
    "So, we can replace `y = y + 2` with `y += 2`. Similar shorthand notation exists for subtraction, division and multiplication:"
   ]
  },
  {
   "cell_type": "markdown",
   "id": "2fbc4759-b50d-411b-a74c-3482be4491e8",
   "metadata": {},
   "source": [
    "|                | Long form | Shorthand |\n",
    "|:--------------:|:---------:|:---------:|\n",
    "| Addition       |  y = y+2  |   y += 2  |\n",
    "| Subtraction    |  y = y-2  |   y -= 2  |\n",
    "| Multiplication |  y = y*2  |   y *= 2  |\n",
    "| Division       |  y = y/2  |   y /= 2  |"
   ]
  },
  {
   "attachments": {},
   "cell_type": "markdown",
   "id": "77c88da2",
   "metadata": {},
   "source": [
    "# 10 Python can be a prima-donna."
   ]
  },
  {
   "cell_type": "markdown",
   "id": "c813fba2-da6d-415a-a7e0-0f40060d03dc",
   "metadata": {},
   "source": [
    "When we do something Python doesn’t like or understand, it will often act like a prima-donna and throw a complaint with a looong error message. As with most complaints, scroll to the end to see the real problem.\n",
    "\n",
    "Use _every opportunity you have_ to practice debugging."
   ]
  },
  {
   "attachments": {},
   "cell_type": "markdown",
   "id": "3b785468",
   "metadata": {},
   "source": [
    "# 11 Best Practices for Scientific Computing"
   ]
  },
  {
   "cell_type": "markdown",
   "id": "99c800d4-9d67-4d17-9c76-755a1ee182e8",
   "metadata": {},
   "source": [
    "Now is an apt time to highlight some best practices you should always bear in mind. The following is an excerpt from Wilson et al. (2014). We'll come to learn more as we progress on our journey.\n",
    "\n",
    "- __Write programs for people, not computers.__ (make it as easy for a person who just picked up your code to read, digest and understand)\n",
    "- __Optimise software only after it works correctly.__\n",
    "- __Document design and purpose, not mechanics.__\n",
    "- __Collaborate.__\n",
    "\n",
    "Code can quickly become unfathomable to others and your future self, so code with your future self in mind.\n",
    "\n",
    "Another common pitfall novices succumb to is pursuing a perfect solution right from the get-go. Instead, it is better to get something (anything) working. You can then make things complicated and/or optimize your code."
   ]
  },
  {
   "cell_type": "code",
   "execution_count": null,
   "id": "2ef398c1-4760-45ac-b7ea-c9ff6441a318",
   "metadata": {},
   "outputs": [],
   "source": []
  },
  {
   "attachments": {},
   "cell_type": "markdown",
   "id": "3deb0472",
   "metadata": {},
   "source": [
    "# 12 Looking for help"
   ]
  },
  {
   "cell_type": "markdown",
   "id": "00f60a0f-b2f1-4a14-9a68-2c9c44e68e3a",
   "metadata": {},
   "source": [
    "You can actually get help/information about Python functions from _within Python_. However, I do not recommend it at this stage. Let me show you why:"
   ]
  },
  {
   "cell_type": "code",
   "execution_count": 66,
   "id": "e39b08b5-8fbc-4351-8b5e-b2be68d834e2",
   "metadata": {},
   "outputs": [
    {
     "name": "stdout",
     "output_type": "stream",
     "text": [
      "Help on built-in function print in module builtins:\n",
      "\n",
      "print(*args, sep=' ', end='\\n', file=None, flush=False)\n",
      "    Prints the values to a stream, or to sys.stdout by default.\n",
      "    \n",
      "    sep\n",
      "      string inserted between values, default a space.\n",
      "    end\n",
      "      string appended after the last value, default a newline.\n",
      "    file\n",
      "      a file-like object (stream); defaults to the current sys.stdout.\n",
      "    flush\n",
      "      whether to forcibly flush the stream.\n",
      "\n"
     ]
    }
   ],
   "source": [
    "help(print)\n",
    "# This give us the documentation corresponding to the function print()"
   ]
  },
  {
   "cell_type": "markdown",
   "id": "49f693b9-562a-4bc9-b78e-1767346494d5",
   "metadata": {},
   "source": [
    "- Unfortunately, unless you already have some experience, this documentation is not the friendliest. The internet (e.g. stack overflow, Google or ChatGPT) is the fastest way to get a question about programming answered."
   ]
  },
  {
   "attachments": {},
   "cell_type": "markdown",
   "id": "f8320787",
   "metadata": {},
   "source": [
    "## References"
   ]
  },
  {
   "cell_type": "markdown",
   "id": "d47caa46-87fa-4c4f-b989-17d780374bc6",
   "metadata": {},
   "source": [
    "Wilson, Greg, D. A. Aruliah, C. Titus Brown, Neil P. Chue Hong, Matt Davis, Richard T. Guy, Steven H. \n",
    "D. Haddock, et al. 2014. “Best Practices for Scientific Computing.” PLOS Biology 12 (1): e1001745. \n",
    "https://doi.org/10.1371/journal.pbio.1001745."
   ]
  },
  {
   "cell_type": "markdown",
   "id": "6270ec56-340d-4257-80d6-0069cb2b4988",
   "metadata": {},
   "source": [
    "Yuan Zhe, I'm just curious, how would you make a hanging indent on markdown here?"
   ]
  },
  {
   "cell_type": "code",
   "execution_count": null,
   "id": "32db4e9e-514d-47b9-99ca-a3432325228b",
   "metadata": {},
   "outputs": [],
   "source": []
  },
  {
   "attachments": {},
   "cell_type": "markdown",
   "id": "1d242476",
   "metadata": {},
   "source": [
    "## Footnotes"
   ]
  }
 ],
 "metadata": {
  "kernelspec": {
   "display_name": "Python 3 (ipykernel)",
   "language": "python",
   "name": "python3"
  },
  "language_info": {
   "codemirror_mode": {
    "name": "ipython",
    "version": 3
   },
   "file_extension": ".py",
   "mimetype": "text/x-python",
   "name": "python",
   "nbconvert_exporter": "python",
   "pygments_lexer": "ipython3",
   "version": "3.11.7"
  },
  "toc": {
   "base_numbering": 1,
   "nav_menu": {},
   "number_sections": true,
   "sideBar": true,
   "skip_h1_title": false,
   "title_cell": "Table of Contents",
   "title_sidebar": "Contents",
   "toc_cell": false,
   "toc_position": {},
   "toc_section_display": true,
   "toc_window_display": false
  },
  "vscode": {
   "interpreter": {
    "hash": "31f2aee4e71d21fbe5cf8b01ff0e069b9275f58929596ceb00d14d90e3e16cd6"
   }
  }
 },
 "nbformat": 4,
 "nbformat_minor": 5
}

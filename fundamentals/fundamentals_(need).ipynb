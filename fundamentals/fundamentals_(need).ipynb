{
 "cells": [
  {
   "attachments": {},
   "cell_type": "markdown",
   "id": "123456",
   "metadata": {},
   "source": [
    "<div style=\"text-align:left;font-size:2em\"><span style=\"font-weight:bolder;font-size:1.25em\">SP2273 | Learning Portfolio</span><br><br><span style=\"font-weight:bold;color:darkred\">Fundamentals (Need)</span></div>"
   ]
  },
  {
   "attachments": {},
   "cell_type": "markdown",
   "id": "8b943fad",
   "metadata": {},
   "source": [
    "# What to expect in this chapter"
   ]
  },
  {
   "cell_type": "markdown",
   "id": "ed277fdb-ec1f-471d-9517-825cc0564c87",
   "metadata": {},
   "source": [
    "By the end of this chapter, you will understand the absolute fundamentals of Python’s syntax. These include how Python uses indentations (spaces, tabs) to identify blocks of code, how to use the dot(.) and how to extend Python’s abilities by importing packages. "
   ]
  },
  {
   "attachments": {},
   "cell_type": "markdown",
   "id": "7c44fb2b",
   "metadata": {},
   "source": [
    "# 1 Functions"
   ]
  },
  {
   "cell_type": "code",
   "execution_count": 1,
   "id": "75df4f2a-33ec-405d-af7a-e7ee6090bf6b",
   "metadata": {},
   "outputs": [
    {
     "name": "stdout",
     "output_type": "stream",
     "text": [
      "Hello World!\n"
     ]
    }
   ],
   "source": [
    "print('Hello World!')"
   ]
  },
  {
   "attachments": {},
   "cell_type": "markdown",
   "id": "0548737f",
   "metadata": {},
   "source": [
    "# 2 Remember (about functions)"
   ]
  },
  {
   "cell_type": "markdown",
   "id": "cfc2c4d2-dda0-4812-88ed-792b80a0522e",
   "metadata": {},
   "source": [
    "- A function is ‘something’ that executes a specific task.\n",
    "- Parentheses, (), __always__ follow a function.\n",
    "- A function may or may not accept arguments.\n",
    "- We can define our own functions."
   ]
  },
  {
   "attachments": {},
   "cell_type": "markdown",
   "id": "97cd7ac2",
   "metadata": {},
   "source": [
    "# 3 Python is interpreted"
   ]
  },
  {
   "cell_type": "markdown",
   "id": "9a93b246-ca74-4244-959c-dd49f605125d",
   "metadata": {},
   "source": [
    "What we refer to as ‘Python’ is really the Python interpreter1.\n",
    "\n",
    "An interpreter works sequentially, one command at a time, one line at a time."
   ]
  },
  {
   "cell_type": "code",
   "execution_count": 1,
   "id": "59ad2c79-c28d-4467-9fec-1496de7f5064",
   "metadata": {},
   "outputs": [
    {
     "name": "stdout",
     "output_type": "stream",
     "text": [
      "Hello World!\n",
      "Hello World Again!\n"
     ]
    }
   ],
   "source": [
    "print('Hello World!')\n",
    "print('Hello World Again!')"
   ]
  },
  {
   "cell_type": "markdown",
   "id": "92779a6b-8a3a-4ae7-b648-6201b709d671",
   "metadata": {},
   "source": []
  },
  {
   "attachments": {},
   "cell_type": "markdown",
   "id": "ce605cf8",
   "metadata": {},
   "source": [
    "# 4 Python is sensitive."
   ]
  },
  {
   "cell_type": "markdown",
   "id": "27846fe3-f06a-4343-8dbc-b95eb29e8882",
   "metadata": {},
   "source": [
    "Python's case sensitive...so precise and exact syntax matters."
   ]
  },
  {
   "cell_type": "code",
   "execution_count": 2,
   "id": "160bb33f-1146-45a6-b24b-24e80aa93b2d",
   "metadata": {},
   "outputs": [
    {
     "name": "stdout",
     "output_type": "stream",
     "text": [
      "Small fish Big fish\n"
     ]
    }
   ],
   "source": [
    "print('Small fish Big fish')"
   ]
  },
  {
   "cell_type": "code",
   "execution_count": 3,
   "id": "997a6331-ce04-4a1a-87af-b472c518b273",
   "metadata": {},
   "outputs": [
    {
     "ename": "NameError",
     "evalue": "name 'Print' is not defined",
     "output_type": "error",
     "traceback": [
      "\u001b[0;31m---------------------------------------------------------------------------\u001b[0m",
      "\u001b[0;31mNameError\u001b[0m                                 Traceback (most recent call last)",
      "Cell \u001b[0;32mIn[3], line 1\u001b[0m\n\u001b[0;32m----> 1\u001b[0m \u001b[43mPrint\u001b[49m(\u001b[38;5;124m'\u001b[39m\u001b[38;5;124mSmall fish Big fish\u001b[39m\u001b[38;5;124m'\u001b[39m)\n",
      "\u001b[0;31mNameError\u001b[0m: name 'Print' is not defined"
     ]
    }
   ],
   "source": [
    "Print('Small fish Big fish')"
   ]
  },
  {
   "cell_type": "markdown",
   "id": "618db99f-072c-4855-9de8-f9436d4800ec",
   "metadata": {},
   "source": [
    "Case in point.\n",
    "\n",
    "And lets say you're writing lines and lines of code. Python will be interrupted at and beyond the erroneous command (i.e. the erroneous command and below.)"
   ]
  },
  {
   "attachments": {},
   "cell_type": "markdown",
   "id": "3cb69ff5",
   "metadata": {},
   "source": [
    "# 5 Remember"
   ]
  },
  {
   "attachments": {},
   "cell_type": "markdown",
   "id": "2e4e58b2",
   "metadata": {},
   "source": [
    "# 6 Comments"
   ]
  },
  {
   "cell_type": "markdown",
   "id": "3a1b7c28-bfe9-42ef-b077-f8a3fdea9ae6",
   "metadata": {},
   "source": [
    "Leave comments by placing text inbetween a \"#\" and an end line"
   ]
  },
  {
   "cell_type": "code",
   "execution_count": 1,
   "id": "a29fadca-13d8-429d-a2ca-a571df20e8bf",
   "metadata": {},
   "outputs": [
    {
     "name": "stdout",
     "output_type": "stream",
     "text": [
      "Hi\n"
     ]
    }
   ],
   "source": [
    "print('Hi')\n",
    "# this is a comment \n",
    "x=10 \n"
   ]
  },
  {
   "cell_type": "markdown",
   "id": "59b4429c-2177-4da8-9f9e-35d61184727c",
   "metadata": {},
   "source": [
    "SHORTCUT: cmd + / makes a line into a comment"
   ]
  },
  {
   "attachments": {},
   "cell_type": "markdown",
   "id": "a84fe155",
   "metadata": {},
   "source": [
    "# 7 Remember"
   ]
  },
  {
   "attachments": {},
   "cell_type": "markdown",
   "id": "37ec13c9",
   "metadata": {},
   "source": [
    "# 8 = is not the same as =="
   ]
  },
  {
   "cell_type": "markdown",
   "id": "83239482-1b01-4d57-9d85-a9009098de5d",
   "metadata": {},
   "source": [
    "#### = is used to __set__ something equal.\n",
    "\n"
   ]
  },
  {
   "cell_type": "markdown",
   "id": "a00c7dab-48fd-4bdb-9d5c-590fe8365634",
   "metadata": {},
   "source": [
    "```python\n",
    "name = 'Batman'   # Make name carry 'Batman'\n",
    "```"
   ]
  },
  {
   "cell_type": "markdown",
   "id": "5a44ecf2-a9da-41cb-97be-2a4fc3757fb7",
   "metadata": {},
   "source": [
    "#### == is used to __check__ if something is indeed equal (like asking a question)"
   ]
  },
  {
   "cell_type": "markdown",
   "id": "52532940-2761-4b92-aa28-5661f9d8615e",
   "metadata": {},
   "source": [
    "```python\n",
    "name == 'Batman'  # Tell me if name is equal to 'Batman'?\n",
    "                  # Answer:  True or False\n",
    "```"
   ]
  },
  {
   "attachments": {},
   "cell_type": "markdown",
   "id": "40488493",
   "metadata": {},
   "source": [
    "# 9 Remember"
   ]
  },
  {
   "cell_type": "markdown",
   "id": "829a7b5f-187d-411e-8bee-865d9ae62dcb",
   "metadata": {},
   "source": [
    "- #### = is not the same as ==.\n",
    "    - = assigns a value (good to name variables descriptive as practical. Key words like if, or, else and numbers can't be variable names.)\n",
    "    - == asks a question."
   ]
  },
  {
   "attachments": {},
   "cell_type": "markdown",
   "id": "deb4e5b5",
   "metadata": {},
   "source": [
    "# 10 Use __if__ to make decisions (if/else statements)"
   ]
  },
  {
   "cell_type": "code",
   "execution_count": 9,
   "id": "6e1eee91-83ab-41ce-a153-0279f01e5319",
   "metadata": {},
   "outputs": [
    {
     "name": "stdout",
     "output_type": "stream",
     "text": [
      "Po-Tay-Toes\n"
     ]
    }
   ],
   "source": [
    "name = 'samwise'\n",
    "\n",
    "if name == 'samwise':\n",
    "    print('Po-Tay-Toes')\n",
    "else:\n",
    "    print('time to rewatch all the LOTRs')\n",
    "\n",
    "# placing text/anything inside ' ' will turn it into a string.\n"
   ]
  },
  {
   "attachments": {},
   "cell_type": "markdown",
   "id": "175bfec4",
   "metadata": {},
   "source": [
    "# 11 Remember"
   ]
  },
  {
   "attachments": {},
   "cell_type": "markdown",
   "id": "aab0eab7",
   "metadata": {},
   "source": [
    "# 12 Indentations (spaces) are sooo IMPORTANT!"
   ]
  },
  {
   "cell_type": "code",
   "execution_count": 11,
   "id": "8b5a5479-1c7f-4551-92d2-a2bdc374ed83",
   "metadata": {},
   "outputs": [
    {
     "name": "stdout",
     "output_type": "stream",
     "text": [
      "20\n"
     ]
    }
   ],
   "source": [
    "# This code will run\n",
    "x=20\n",
    "print(x)\n",
    "\n",
    "\n",
    "\n"
   ]
  },
  {
   "cell_type": "code",
   "execution_count": 12,
   "id": "fd64e636-3b26-4ec0-a521-84d7e88e074d",
   "metadata": {},
   "outputs": [
    {
     "ename": "IndentationError",
     "evalue": "unexpected indent (2596497885.py, line 3)",
     "output_type": "error",
     "traceback": [
      "\u001b[0;36m  Cell \u001b[0;32mIn[12], line 3\u001b[0;36m\u001b[0m\n\u001b[0;31m    print(x)\u001b[0m\n\u001b[0m    ^\u001b[0m\n\u001b[0;31mIndentationError\u001b[0m\u001b[0;31m:\u001b[0m unexpected indent\n"
     ]
    }
   ],
   "source": [
    "\n",
    "# But this code will not\n",
    "x=20\n",
    "    print(x)\n"
   ]
  },
  {
   "cell_type": "markdown",
   "id": "e54ef772-15a5-45b4-816c-96f2f4e9989c",
   "metadata": {
    "jp-MarkdownHeadingCollapsed": true
   },
   "source": [
    "##### Notice that Python uses an indentation to separate 'blocks' in the code. (E.g. the True and False ‘blocks’.) So you cannot use indentations (spaces) indiscriminately as this will confuse Python. \":\" is used ot designate a block of code."
   ]
  },
  {
   "attachments": {},
   "cell_type": "markdown",
   "id": "4e704ed8",
   "metadata": {},
   "source": [
    "# 13 Remember"
   ]
  },
  {
   "cell_type": "markdown",
   "id": "39bf16dd-a2a7-436b-b575-06200ee51367",
   "metadata": {},
   "source": [
    "- indentations play a crucial role in Python; do not use them indiscriminately.\n",
    "- : is used to designate a block of code.\n",
    "- Don’t mix spaces and tabs!\n",
    "    - Make it easy for yourself; just use the tab key consistently."
   ]
  },
  {
   "attachments": {},
   "cell_type": "markdown",
   "id": "371e1e13",
   "metadata": {},
   "source": [
    "# 14 ‘age’ is English, age is a variable."
   ]
  },
  {
   "cell_type": "markdown",
   "id": "b4312c14-bfbb-491c-86f6-94baf66857db",
   "metadata": {},
   "source": [
    "Be careful about mixing up English with variables. For example, there is a difference between the following."
   ]
  },
  {
   "cell_type": "code",
   "execution_count": 13,
   "id": "cc3c525f-ebdc-4ecd-93b2-cc8326acdf37",
   "metadata": {},
   "outputs": [
    {
     "name": "stdout",
     "output_type": "stream",
     "text": [
      "1\n"
     ]
    }
   ],
   "source": [
    "number_of_rings = 1\n",
    "print(number_of_rings)"
   ]
  },
  {
   "cell_type": "markdown",
   "id": "c7da9817-f871-4763-b3fe-00b3f7fca974",
   "metadata": {},
   "source": [
    "The above is different to the following:"
   ]
  },
  {
   "cell_type": "code",
   "execution_count": 14,
   "id": "8cc18512-3729-4d93-b791-59fb0a0903c4",
   "metadata": {},
   "outputs": [
    {
     "name": "stdout",
     "output_type": "stream",
     "text": [
      "number_of_rings\n"
     ]
    }
   ],
   "source": [
    "print('number_of_rings') # which wil return you English"
   ]
  },
  {
   "cell_type": "markdown",
   "id": "5ad80c7e-2ffc-478b-a417-6c3a8b181b7d",
   "metadata": {},
   "source": [
    "Note that you can use either matching pairs of ' ' or \" \". However, it is always good to be consistent. This is helpful for when you need apostophes. For example:"
   ]
  },
  {
   "cell_type": "code",
   "execution_count": 15,
   "id": "fb97fa66-bd8a-47bb-af20-704dd5098699",
   "metadata": {},
   "outputs": [
    {
     "name": "stdout",
     "output_type": "stream",
     "text": [
      "That's hers\n"
     ]
    }
   ],
   "source": [
    "print(\"That's hers\")"
   ]
  },
  {
   "attachments": {},
   "cell_type": "markdown",
   "id": "eb50a269",
   "metadata": {},
   "source": [
    "# 15 Brackets"
   ]
  },
  {
   "cell_type": "markdown",
   "id": "9c2656d9-6004-4faa-a6bf-d23c9050bf31",
   "metadata": {},
   "source": [
    "Oh boy here we go. Python uses all 3 kinds of brackets: ( ), [ ] and { }"
   ]
  },
  {
   "cell_type": "markdown",
   "id": "e42384c6-40cc-4de5-bcdf-be904e2645e7",
   "metadata": {},
   "source": [
    "#### ( ) in calls to function"
   ]
  },
  {
   "cell_type": "code",
   "execution_count": 19,
   "id": "bacc0fc2-db8d-4c7c-ba39-52390b8a5ab6",
   "metadata": {},
   "outputs": [
    {
     "name": "stdout",
     "output_type": "stream",
     "text": [
      "'I've always wanted to use that spell!' said Professor McGonagall\n"
     ]
    }
   ],
   "source": [
    "print(\"'I've always wanted to use that spell!' said Professor McGonagall\") "
   ]
  },
  {
   "cell_type": "markdown",
   "id": "f2e65ab1-8a41-4912-95c4-1e9b1b2ead5e",
   "metadata": {},
   "source": [
    "#### ( ) for mathematical equations"
   ]
  },
  {
   "cell_type": "code",
   "execution_count": 20,
   "id": "5338f09d-d0e4-4335-945c-e02eca2cff99",
   "metadata": {},
   "outputs": [
    {
     "data": {
      "text/plain": [
       "50"
      ]
     },
     "execution_count": 20,
     "metadata": {},
     "output_type": "execute_result"
    }
   ],
   "source": [
    "(23+2)*2"
   ]
  },
  {
   "cell_type": "markdown",
   "id": "d99c6e25-d0b3-4000-869a-b57a2da26c85",
   "metadata": {},
   "source": [
    "#### [ ] for lists of data"
   ]
  },
  {
   "cell_type": "code",
   "execution_count": 21,
   "id": "75f017a6-fa1b-45ce-90c5-c1dba492ad6c",
   "metadata": {},
   "outputs": [],
   "source": [
    "py_list = [1, 2, 3, 4, 5]   # A 1D list\n",
    "\n",
    "py_list_2 = [               # A 2D list\n",
    "                [1, \"A\"],      \n",
    "                [2, \"B\"],\n",
    "                [3, \"C\"],\n",
    "                [4, \"D\"],\n",
    "                [5, \"E\"]\n",
    "            ]"
   ]
  },
  {
   "cell_type": "markdown",
   "id": "5ab8bdc4-76ff-4819-9216-d002fcc11c11",
   "metadata": {},
   "source": [
    "#### { } to store data in a ‘thing’ called a dictionary"
   ]
  },
  {
   "cell_type": "code",
   "execution_count": null,
   "id": "c21dd373-a44d-4b8b-9299-86814d05f090",
   "metadata": {},
   "outputs": [],
   "source": [
    "personal_info = {\n",
    "    'Names': 'Batman',\n",
    "    'Real Name': 'Bruce Wayne',\n",
    "    'Age': 55,\n",
    "    'Affiliation': 'Justice League',\n",
    "    'Universe': 'DC'\n",
    "}"
   ]
  },
  {
   "cell_type": "markdown",
   "id": "d4c52c19-4f4d-4fb7-b179-bbe9a884aace",
   "metadata": {},
   "source": [
    "And we can now call from this stored data..."
   ]
  },
  {
   "cell_type": "code",
   "execution_count": 24,
   "id": "6a73bbf3-7cd5-4fcf-bc99-6f8a5dc7d6b6",
   "metadata": {},
   "outputs": [
    {
     "name": "stdout",
     "output_type": "stream",
     "text": [
      "Justice League\n"
     ]
    }
   ],
   "source": [
    "print(personal_info['Affiliation'])"
   ]
  },
  {
   "attachments": {},
   "cell_type": "markdown",
   "id": "7471436c",
   "metadata": {},
   "source": [
    "# 16 Giving Python superpowers with Packages"
   ]
  },
  {
   "attachments": {},
   "cell_type": "markdown",
   "id": "7a4299b1",
   "metadata": {},
   "source": [
    "## 16.1 Some Context"
   ]
  },
  {
   "cell_type": "markdown",
   "id": "b096ea70-0bef-4fdd-b3fe-788aaacacb4c",
   "metadata": {},
   "source": [
    "The basic functionality of python on its own is limited for doing math. Clunky, inefficient and non-comprehensive"
   ]
  },
  {
   "cell_type": "code",
   "execution_count": 27,
   "id": "37c3ea10-02bc-4944-93d7-19ad99027f0a",
   "metadata": {},
   "outputs": [
    {
     "ename": "NameError",
     "evalue": "name 'sqrt' is not defined",
     "output_type": "error",
     "traceback": [
      "\u001b[0;31m---------------------------------------------------------------------------\u001b[0m",
      "\u001b[0;31mNameError\u001b[0m                                 Traceback (most recent call last)",
      "Cell \u001b[0;32mIn[27], line 2\u001b[0m\n\u001b[1;32m      1\u001b[0m \u001b[38;5;66;03m# heck, it can't do\u001b[39;00m\n\u001b[0;32m----> 2\u001b[0m \u001b[43msqrt\u001b[49m(\u001b[38;5;241m9\u001b[39m)\n",
      "\u001b[0;31mNameError\u001b[0m: name 'sqrt' is not defined"
     ]
    }
   ],
   "source": [
    "# heck, it can't do\n",
    "sqrt(9)"
   ]
  },
  {
   "cell_type": "markdown",
   "id": "01e9e621-c1ea-4890-9f6e-e99a8c8d6ac3",
   "metadata": {},
   "source": [
    "We can enhance python with more functionality by using packages"
   ]
  },
  {
   "attachments": {},
   "cell_type": "markdown",
   "id": "b9ae29c3",
   "metadata": {},
   "source": [
    "## 16.2 Importing the math package"
   ]
  },
  {
   "cell_type": "code",
   "execution_count": 28,
   "id": "f21ed215-5f1f-466e-afbe-8824a02bd347",
   "metadata": {},
   "outputs": [],
   "source": [
    "import math # this imports/adds the functions of the 'math' package"
   ]
  },
  {
   "cell_type": "markdown",
   "id": "bc57673d-1b47-4dfe-9177-c109ac50c1f4",
   "metadata": {},
   "source": [
    "Now we can use the sqrt() function of the math module"
   ]
  },
  {
   "cell_type": "code",
   "execution_count": 29,
   "id": "5382a91d-f9a0-4c59-ba94-6d8ac51d5b40",
   "metadata": {},
   "outputs": [
    {
     "data": {
      "text/plain": [
       "3.0"
      ]
     },
     "execution_count": 29,
     "metadata": {},
     "output_type": "execute_result"
    }
   ],
   "source": [
    "math.sqrt(9)"
   ]
  },
  {
   "attachments": {},
   "cell_type": "markdown",
   "id": "79e1f109",
   "metadata": {},
   "source": [
    "## 16.3 Importing the numpy package"
   ]
  },
  {
   "cell_type": "code",
   "execution_count": 30,
   "id": "5bf5117c-3584-4ccf-80db-1dc17e57b588",
   "metadata": {},
   "outputs": [],
   "source": [
    "import numpy as np #Importing Numpy and giving it an alias np for convenience "
   ]
  },
  {
   "cell_type": "markdown",
   "id": "cf32b274-3d6b-48af-a36d-6002c84e60ab",
   "metadata": {},
   "source": [
    "Now we can also use the sqrt() function of the Numpy module. Since I imported it with an alias (np) I can be lazy and use np instead of the longer numpy."
   ]
  },
  {
   "cell_type": "code",
   "execution_count": 31,
   "id": "fae832be-cd6b-44f6-870e-6b182e84b7f4",
   "metadata": {},
   "outputs": [
    {
     "data": {
      "text/plain": [
       "9.0"
      ]
     },
     "execution_count": 31,
     "metadata": {},
     "output_type": "execute_result"
    }
   ],
   "source": [
    "np.sqrt (81)"
   ]
  },
  {
   "attachments": {},
   "cell_type": "markdown",
   "id": "5cf7305e",
   "metadata": {},
   "source": [
    "## 16.4 Why so many packages?"
   ]
  },
  {
   "cell_type": "markdown",
   "id": "da4e68cd-a2f0-4f45-b5a1-af9a65e4013f",
   "metadata": {},
   "source": [
    "Why do we need more than one package to calculate the sqrt? \n",
    "There are different versions because they have different capabilities and efficiencies. For example, the Numpy version can handle a list of numbers:"
   ]
  },
  {
   "cell_type": "code",
   "execution_count": 32,
   "id": "aef5686d-7a2e-4a95-9178-c1db37621ff3",
   "metadata": {},
   "outputs": [
    {
     "data": {
      "text/plain": [
       "array([9., 8., 7.])"
      ]
     },
     "execution_count": 32,
     "metadata": {},
     "output_type": "execute_result"
    }
   ],
   "source": [
    "np.sqrt([81,64,49])"
   ]
  },
  {
   "cell_type": "markdown",
   "id": "cfc7642b-5c16-4f04-ab6c-13b36663950d",
   "metadata": {},
   "source": [
    "Before we move on, please note that you need to import packages only once(You do not have to teach Python the same thing twice!). Python will remember the functions __until__ you restart the Python interpreter."
   ]
  },
  {
   "attachments": {},
   "cell_type": "markdown",
   "id": "e064eb84",
   "metadata": {},
   "source": [
    "# 17 Remember"
   ]
  },
  {
   "cell_type": "markdown",
   "id": "064d9626-9460-4986-b3db-5e62193348d8",
   "metadata": {},
   "source": [
    "- You can give Python ‘superpowers’ by importing packages.\n",
    "- You only need to import a package only once.\n",
    "- There are different ways to import packages (e.g. with or without an ‘alias’)."
   ]
  },
  {
   "attachments": {},
   "cell_type": "markdown",
   "id": "56604f65",
   "metadata": {},
   "source": [
    "# 18 The dot (.)"
   ]
  },
  {
   "cell_type": "markdown",
   "id": "4e58e078-71b1-4d2a-a8b5-6077af141394",
   "metadata": {},
   "source": [
    "You'll often see a dot(“.”) used in Python (and many other programming languages). This dot is used to indicate ownership! To see how this works, consider the code below."
   ]
  },
  {
   "cell_type": "code",
   "execution_count": 33,
   "id": "5afd3497-a051-4e91-bc9f-c32bd3318658",
   "metadata": {},
   "outputs": [
    {
     "data": {
      "text/plain": [
       "2.0"
      ]
     },
     "execution_count": 33,
     "metadata": {},
     "output_type": "execute_result"
    }
   ],
   "source": [
    "math.sqrt(4)\n",
    "np.sqrt(4) "
   ]
  },
  {
   "cell_type": "markdown",
   "id": "807625ee-3796-4ffa-9ef0-caadff9e3dd3",
   "metadata": {},
   "source": [
    "In the first line, we use the sqrt() function that belongs to the math module. In the second line, we use the sqrt() function that belongs to NumPy."
   ]
  },
  {
   "cell_type": "markdown",
   "id": "212c3694-7815-40c9-b8a1-48c3adb071c4",
   "metadata": {},
   "source": [
    "Everything in Python (e.g., numbers, letters) has functions and attributes that belong to them. \n",
    "- **We can access them using the dot**. For example, the following will split the sentence into words."
   ]
  },
  {
   "cell_type": "code",
   "execution_count": 34,
   "id": "7509fd00-f0bf-43eb-b492-18c0b87af4a6",
   "metadata": {},
   "outputs": [
    {
     "data": {
      "text/plain": [
       "['You', 'were', 'the', 'Chosen', 'One!']"
      ]
     },
     "execution_count": 34,
     "metadata": {},
     "output_type": "execute_result"
    }
   ],
   "source": [
    "\"You were the Chosen One!\".split()"
   ]
  },
  {
   "cell_type": "code",
   "execution_count": 37,
   "id": "17ef4f27-93b7-4599-853f-7a5e35d54437",
   "metadata": {},
   "outputs": [
    {
     "ename": "SyntaxError",
     "evalue": "invalid decimal literal (3726721237.py, line 2)",
     "output_type": "error",
     "traceback": [
      "\u001b[0;36m  Cell \u001b[0;32mIn[37], line 2\u001b[0;36m\u001b[0m\n\u001b[0;31m    1234.split()\u001b[0m\n\u001b[0m        ^\u001b[0m\n\u001b[0;31mSyntaxError\u001b[0m\u001b[0;31m:\u001b[0m invalid decimal literal\n"
     ]
    }
   ],
   "source": [
    "# but the split function won't work for numbers\n",
    "1234.split()"
   ]
  },
  {
   "cell_type": "markdown",
   "id": "5a7d2611-909a-4985-bc74-223c8fca3325",
   "metadata": {},
   "source": [
    "### More functions witht the dot (functions and properties)"
   ]
  },
  {
   "cell_type": "code",
   "execution_count": 3,
   "id": "c510c265-69ae-41c9-9188-df302d53342a",
   "metadata": {},
   "outputs": [
    {
     "data": {
      "text/plain": [
       "'APOLLO'"
      ]
     },
     "execution_count": 3,
     "metadata": {},
     "output_type": "execute_result"
    }
   ],
   "source": [
    "'Apollo'.upper ()"
   ]
  },
  {
   "cell_type": "code",
   "execution_count": 4,
   "id": "3257cf99-4e3d-45e2-946b-0be64927b8ea",
   "metadata": {},
   "outputs": [
    {
     "data": {
      "text/plain": [
       "'apollo'"
      ]
     },
     "execution_count": 4,
     "metadata": {},
     "output_type": "execute_result"
    }
   ],
   "source": [
    "'Apollo'.lower()"
   ]
  },
  {
   "cell_type": "code",
   "execution_count": 8,
   "id": "a2f3aa29-0819-4fde-bde7-fb1c4818facd",
   "metadata": {},
   "outputs": [
    {
     "data": {
      "text/plain": [
       "'Apollo'"
      ]
     },
     "execution_count": 8,
     "metadata": {},
     "output_type": "execute_result"
    }
   ],
   "source": [
    "\"Apollo\".title() # This capitalises the first letter of each word"
   ]
  },
  {
   "cell_type": "markdown",
   "id": "b345adcc-8a23-4593-8f4a-6ea0c9503da2",
   "metadata": {},
   "source": [
    "These dot functions are designed to be used in this syntax with no arguments in the  () but with having it tagged to a string instead."
   ]
  },
  {
   "cell_type": "markdown",
   "id": "2b5043b6-d26a-4577-82f7-fd34adcdc55e",
   "metadata": {},
   "source": [
    "Can pull real and imaginary parts of numbers too"
   ]
  },
  {
   "cell_type": "code",
   "execution_count": null,
   "id": "8afe129e-8a63-4651-93d4-4e423c74e604",
   "metadata": {},
   "outputs": [],
   "source": [
    "x=2j+15"
   ]
  },
  {
   "cell_type": "code",
   "execution_count": 6,
   "id": "cdf61933-3a21-4d72-9b67-26563a7d5d74",
   "metadata": {},
   "outputs": [
    {
     "data": {
      "text/plain": [
       "10"
      ]
     },
     "execution_count": 6,
     "metadata": {},
     "output_type": "execute_result"
    }
   ],
   "source": [
    "x.real"
   ]
  },
  {
   "cell_type": "code",
   "execution_count": 7,
   "id": "a13912c5-9ae8-4996-8336-cc57f6a123ed",
   "metadata": {},
   "outputs": [
    {
     "data": {
      "text/plain": [
       "0"
      ]
     },
     "execution_count": 7,
     "metadata": {},
     "output_type": "execute_result"
    }
   ],
   "source": [
    "x.imag"
   ]
  },
  {
   "cell_type": "markdown",
   "id": "dd7db67e-57df-49b0-85b8-e648ed6f90cf",
   "metadata": {},
   "source": [
    "I think we'll come to find that these dot functions are much more versatile than we imagine."
   ]
  },
  {
   "attachments": {},
   "cell_type": "markdown",
   "id": "4605048b",
   "metadata": {},
   "source": [
    "# 19 Remember"
   ]
  },
  {
   "cell_type": "markdown",
   "id": "08443fe1-28d6-4a15-bbfe-490a5c378ef4",
   "metadata": {},
   "source": [
    "- The dot(.) indicates ownership, and what it can access depends on the context.\n",
    "\n"
   ]
  },
  {
   "attachments": {},
   "cell_type": "markdown",
   "id": "80ccf3aa",
   "metadata": {},
   "source": [
    "## Footnotes"
   ]
  }
 ],
 "metadata": {
  "kernelspec": {
   "display_name": "Python 3 (ipykernel)",
   "language": "python",
   "name": "python3"
  },
  "language_info": {
   "codemirror_mode": {
    "name": "ipython",
    "version": 3
   },
   "file_extension": ".py",
   "mimetype": "text/x-python",
   "name": "python",
   "nbconvert_exporter": "python",
   "pygments_lexer": "ipython3",
   "version": "3.11.7"
  },
  "toc": {
   "base_numbering": 1,
   "nav_menu": {},
   "number_sections": true,
   "sideBar": true,
   "skip_h1_title": false,
   "title_cell": "Table of Contents",
   "title_sidebar": "Contents",
   "toc_cell": false,
   "toc_position": {},
   "toc_section_display": true,
   "toc_window_display": false
  },
  "vscode": {
   "interpreter": {
    "hash": "31f2aee4e71d21fbe5cf8b01ff0e069b9275f58929596ceb00d14d90e3e16cd6"
   }
  }
 },
 "nbformat": 4,
 "nbformat_minor": 5
}

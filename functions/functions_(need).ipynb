{
 "cells": [
  {
   "attachments": {},
   "cell_type": "markdown",
   "id": "123456",
   "metadata": {},
   "source": [
    "<div style=\"text-align:left;font-size:2em\"><span style=\"font-weight:bolder;font-size:1.25em\">SP2273 | Learning Portfolio</span><br><br><span style=\"font-weight:bold;color:darkred\">Functions (Need)</span></div>"
   ]
  },
  {
   "attachments": {},
   "cell_type": "markdown",
   "id": "e54c4b8d",
   "metadata": {},
   "source": [
    "# What to expect in this chapter"
   ]
  },
  {
   "cell_type": "markdown",
   "id": "189277cc-24a9-44b7-8162-ec4a5b5a95ef",
   "metadata": {},
   "source": [
    "By now, you will be comfortable using functions (e.g. print(), enumerate()). In addition, I hope you are satisfied with the idea that a function is just a chunk of code that does a specific conceptual task. There is also the advantage that you can treat a function as a black box and just use it without knowing exactly what is going on in it. Sometimes this is good because too many details can be detrimental; other times it can be unwise as you do not know how an output is generated.\n",
    "\n",
    "In this chapter, I will show you __how to craft your own functions__. In addition to its practicality, the modularity of functions prompts us to think of solutions about modular solutions to problems."
   ]
  },
  {
   "attachments": {},
   "cell_type": "markdown",
   "id": "b2b3c095",
   "metadata": {},
   "source": [
    "# 1 User-defined functions"
   ]
  },
  {
   "cell_type": "markdown",
   "id": "3e99af76-b48f-4ce6-aebb-cc79fdfbbf7c",
   "metadata": {},
   "source": [
    "`print()` is an example of an __internal__ function in Python. You can also create your own functions. There are two ways to do this: __named__ and __anonymous__.\n",
    "\n"
   ]
  },
  {
   "attachments": {},
   "cell_type": "markdown",
   "id": "6b518209",
   "metadata": {},
   "source": [
    "## 1.1 Named Functions"
   ]
  },
  {
   "cell_type": "markdown",
   "id": "a0f9836e-2b07-4fb1-8a13-d4bc789942da",
   "metadata": {},
   "source": [
    "### Named functions that return"
   ]
  },
  {
   "cell_type": "markdown",
   "id": "31f154ce-7078-4467-b7e4-306d27b33f4b",
   "metadata": {},
   "source": [
    "We define the function by using the keyword `def` as follows:"
   ]
  },
  {
   "cell_type": "code",
   "execution_count": 1,
   "id": "f93fdf0b-075d-47a1-9fca-8b86728d1000",
   "metadata": {},
   "outputs": [],
   "source": [
    "def greeting(name): #def means define!\n",
    "    if name == 'Batman':\n",
    "        return 'Hello Batman! So, nice to meet you!'\n",
    "    else:\n",
    "        return f'Hello {name}!'"
   ]
  },
  {
   "cell_type": "markdown",
   "id": "b7c543d4-7129-44ab-88af-a9651730d0de",
   "metadata": {},
   "source": [
    "The function’s name is \"greeting\" and it accepts a single argument called \"name\". We can then use the function as (two ways of doing it):"
   ]
  },
  {
   "cell_type": "code",
   "execution_count": 3,
   "id": "4c6ef5ea-8355-426b-8d72-6c7a4fef9011",
   "metadata": {},
   "outputs": [
    {
     "data": {
      "text/plain": [
       "'Hello Super Man!'"
      ]
     },
     "execution_count": 3,
     "metadata": {},
     "output_type": "execute_result"
    }
   ],
   "source": [
    "greeting(\"Super Man\")"
   ]
  },
  {
   "cell_type": "code",
   "execution_count": 5,
   "id": "595ee66b-bb11-4b17-89c5-9e60a83057c1",
   "metadata": {},
   "outputs": [
    {
     "data": {
      "text/plain": [
       "'Hello Super Man!'"
      ]
     },
     "execution_count": 5,
     "metadata": {},
     "output_type": "execute_result"
    }
   ],
   "source": [
    "#OR\n",
    "greeting(name=\"Super Man\")"
   ]
  },
  {
   "cell_type": "markdown",
   "id": "1ac5e9fc-5fc5-4a77-b378-cf86154f1522",
   "metadata": {},
   "source": [
    "As with all structures in Python, __notice__ the __keyword `def`__, the colon __(`:`)__ and the __indentation__ that demarcates the function’s code block. Notice also that I have used the keyword return to get an output from the function. When Python sees a `return` keyword it jumps out of the function with the `return` value. \n",
    "\n",
    "You can pick up the returned value by assigning it to a variable or even use it directly like:"
   ]
  },
  {
   "cell_type": "code",
   "execution_count": 6,
   "id": "3e388c35",
   "metadata": {},
   "outputs": [
    {
     "name": "stdout",
     "output_type": "stream",
     "text": [
      "Hello Super Man!\n"
     ]
    }
   ],
   "source": [
    "greet=greeting(name='Super Man')\n",
    "print(greet)\n"
   ]
  },
  {
   "cell_type": "code",
   "execution_count": 7,
   "id": "5c65e704-be2b-4eb9-b2b2-d9d2c7c9687a",
   "metadata": {},
   "outputs": [
    {
     "name": "stdout",
     "output_type": "stream",
     "text": [
      "Hello Super Man!\n"
     ]
    }
   ],
   "source": [
    "#OR another way...\n",
    "print(greeting(name='Super Man'))"
   ]
  },
  {
   "cell_type": "markdown",
   "id": "9c360490-5d09-4c90-94fe-ae6aab213546",
   "metadata": {},
   "source": [
    "Incidentally, you can use `return` only within a function.\n",
    "\n",
    "I also like to point out that you can return almost anything! Here is an example of a function that accepts a list and returns the maximum, minimum and mean."
   ]
  },
  {
   "cell_type": "code",
   "execution_count": 7,
   "id": "07d8dace-fb84-40ce-bb49-2c62570cd0ed",
   "metadata": {},
   "outputs": [],
   "source": [
    "import numpy as np"
   ]
  },
  {
   "cell_type": "code",
   "execution_count": 8,
   "id": "96495b15-e5e5-450e-8c00-4d9e1691617f",
   "metadata": {},
   "outputs": [],
   "source": [
    "def basic_stats(numbers):\n",
    "    np_numbers = np.array(numbers)\n",
    "    my_min = np_numbers.min()\n",
    "    my_max = np_numbers.max()\n",
    "    my_mean = np_numbers.mean()\n",
    "    return my_max, my_min, my_mean"
   ]
  },
  {
   "cell_type": "code",
   "execution_count": 9,
   "id": "9b12ccd2-ac2a-4736-9af4-81d5e27f3e83",
   "metadata": {},
   "outputs": [],
   "source": [
    "# And you can use it like\n",
    "list_min, list_max, list_mean = basic_stats([1, 2, 3, 4, 5])"
   ]
  },
  {
   "cell_type": "code",
   "execution_count": 26,
   "id": "1ec4bf35-86b2-4861-af17-7fed8507f65f",
   "metadata": {},
   "outputs": [
    {
     "name": "stdout",
     "output_type": "stream",
     "text": [
      "The max is 1 The min is 5 and the mean is 3.0\n"
     ]
    }
   ],
   "source": [
    "print(\"The max is\", list_max, \"The min is\", list_min, \"and the mean is\", list_mean)"
   ]
  },
  {
   "cell_type": "code",
   "execution_count": 11,
   "id": "d9e8bd36-0e40-421e-bb31-32425372aba9",
   "metadata": {},
   "outputs": [
    {
     "name": "stdout",
     "output_type": "stream",
     "text": [
      "The max is 1, the min is 5, and the mean is 3.0\n"
     ]
    }
   ],
   "source": [
    "#NOTE: Using an f-string for the above instead is better since using print is \n",
    "#clunky, not to mention full of puncutation errors, which will make the \n",
    "#code even clunkier once you fix the punctuation errors.\n",
    "print(f\"The max is {list_max}, the min is {list_min}, and the mean is {list_mean}\")\n"
   ]
  },
  {
   "attachments": {},
   "cell_type": "markdown",
   "id": "44e7e447",
   "metadata": {},
   "source": [
    "### Named functions that don’t return"
   ]
  },
  {
   "cell_type": "markdown",
   "id": "d53f9d97-ee6a-4fc8-8fa2-8d2a82033474",
   "metadata": {},
   "source": [
    "Note: A function does __not__ have to return anything. A good example is `print()`, which does something but does not return a value. You will often also need functions like these, for instance, to save data to a file.\n",
    "\n",
    "I will show you a few of such functions in later chapters.\n",
    "\n"
   ]
  },
  {
   "attachments": {},
   "cell_type": "markdown",
   "id": "808e9d76",
   "metadata": {},
   "source": [
    "## 1.2 Anonymous functions"
   ]
  },
  {
   "cell_type": "markdown",
   "id": "8510ee28-3658-4d48-afb0-d4352f66c609",
   "metadata": {},
   "source": [
    "Anonymous or __lambda__ functions are suitable for short one-liners without crowding your code. Let me show you two examples."
   ]
  },
  {
   "cell_type": "markdown",
   "id": "f325887e-947c-45d0-b5f5-38c8cd8fd798",
   "metadata": {},
   "source": [
    "__Example 1__"
   ]
  },
  {
   "cell_type": "code",
   "execution_count": 12,
   "id": "53f41d84-e8e0-4e0e-b3dc-1c3b40e13523",
   "metadata": {},
   "outputs": [],
   "source": [
    "#This function is called my_short_function\n",
    "my_short_function = lambda name: f\"Hello {name}!\""
   ]
  },
  {
   "cell_type": "code",
   "execution_count": 28,
   "id": "05536014-aaa4-4eb1-9b8a-9ff0573da310",
   "metadata": {},
   "outputs": [
    {
     "data": {
      "text/plain": [
       "'Hello Super Man!'"
      ]
     },
     "execution_count": 28,
     "metadata": {},
     "output_type": "execute_result"
    }
   ],
   "source": [
    "#We can use it like\n",
    "my_short_function(name=\"Super Man\")"
   ]
  },
  {
   "cell_type": "markdown",
   "id": "86dbe046-7732-4f3e-aaa0-bb7aad413ceb",
   "metadata": {},
   "source": [
    "A lambda function always returns the value of the last statement."
   ]
  },
  {
   "cell_type": "markdown",
   "id": "115f70da-4b92-4360-b7a1-1b088a9a0b24",
   "metadata": {},
   "source": [
    "__Example 2__\n",
    "\n",
    "The above example is not a very good ‘anonymous’ one because I have used a name! So let me show you another one where things are really anonymous.\n",
    "\n",
    "Let’s say I want to sort the following 2D list."
   ]
  },
  {
   "cell_type": "code",
   "execution_count": 29,
   "id": "3316f34c-56e3-4ac9-b40d-347c8f3ae099",
   "metadata": {},
   "outputs": [],
   "source": [
    "numbers=[[9, 0, -10],\n",
    "         [8, 1, -11],\n",
    "         [7, 2, -12],\n",
    "         [6, 3, -13],\n",
    "         [5, 4, -14],\n",
    "         [4, 5, -15],\n",
    "         [3, 6, -16],\n",
    "         [2, 7, -17],\n",
    "         [1, 8, -18],\n",
    "         [0, 9, -19]]"
   ]
  },
  {
   "cell_type": "markdown",
   "id": "5139c93e-080a-4b1c-8bef-da27408a9b17",
   "metadata": {},
   "source": [
    "I can use the `sorted()` function for this. Here are 3 ways I can use it."
   ]
  },
  {
   "cell_type": "code",
   "execution_count": 31,
   "id": "e9584e32-8812-48ba-aa8a-eecd791d1a88",
   "metadata": {},
   "outputs": [
    {
     "data": {
      "text/plain": [
       "[[0, 9, -19],\n",
       " [1, 8, -18],\n",
       " [2, 7, -17],\n",
       " [3, 6, -16],\n",
       " [4, 5, -15],\n",
       " [5, 4, -14],\n",
       " [6, 3, -13],\n",
       " [7, 2, -12],\n",
       " [8, 1, -11],\n",
       " [9, 0, -10]]"
      ]
     },
     "execution_count": 31,
     "metadata": {},
     "output_type": "execute_result"
    }
   ],
   "source": [
    "# Sort by comparing the default key\n",
    "# (i.e., the 1st element so it is organised from 0-9)\n",
    "sorted(numbers)"
   ]
  },
  {
   "cell_type": "markdown",
   "id": "958c8e8e-f4d7-465d-85e6-329e587d28ff",
   "metadata": {},
   "source": [
    "Notice that this sorting is based on comparing the first elements of the sub-lists.\n",
    "you can also sort by specific keys:"
   ]
  },
  {
   "cell_type": "code",
   "execution_count": 32,
   "id": "57172217-461f-404a-860f-7bf656cc17eb",
   "metadata": {},
   "outputs": [
    {
     "data": {
      "text/plain": [
       "[[9, 0, -10],\n",
       " [8, 1, -11],\n",
       " [7, 2, -12],\n",
       " [6, 3, -13],\n",
       " [5, 4, -14],\n",
       " [4, 5, -15],\n",
       " [3, 6, -16],\n",
       " [2, 7, -17],\n",
       " [1, 8, -18],\n",
       " [0, 9, -19]]"
      ]
     },
     "execution_count": 32,
     "metadata": {},
     "output_type": "execute_result"
    }
   ],
   "source": [
    "# Sort by comparing a custom key\n",
    "# that uses the 2nd element (index=1)\n",
    "sorted(numbers, key=lambda x: x[1])"
   ]
  },
  {
   "cell_type": "markdown",
   "id": "03062f7e-2aab-4276-863c-8f1e26ef2447",
   "metadata": {},
   "source": [
    "If I want to use some other criteria, then I need to __specify a key__ that `sorted()` can be used for comparison. As you can see, I have used a lambda function for this."
   ]
  },
  {
   "cell_type": "code",
   "execution_count": 35,
   "id": "d2486496-69c0-4e3c-ab03-7309ea968601",
   "metadata": {},
   "outputs": [
    {
     "data": {
      "text/plain": [
       "[[0, 9, -19],\n",
       " [1, 8, -18],\n",
       " [2, 7, -17],\n",
       " [3, 6, -16],\n",
       " [4, 5, -15],\n",
       " [5, 4, -14],\n",
       " [6, 3, -13],\n",
       " [7, 2, -12],\n",
       " [8, 1, -11],\n",
       " [9, 0, -10]]"
      ]
     },
     "execution_count": 35,
     "metadata": {},
     "output_type": "execute_result"
    }
   ],
   "source": [
    "# Sort by comparing a custom key\n",
    "# that uses the sum of the elements.\n",
    "# As in 0+9-19 = -10, 1+8-18=-9, so on and so forth. \n",
    "sorted(numbers, key=lambda x: sum(x))   "
   ]
  },
  {
   "cell_type": "markdown",
   "id": "2d345320-f22d-4186-95a5-0be2c5252208",
   "metadata": {},
   "source": [
    "This is really powerful as I __can specify almost any criterion I like__. For example, I can sort according to the sum of the elements of the sub-lists."
   ]
  },
  {
   "attachments": {},
   "cell_type": "markdown",
   "id": "79887c8a",
   "metadata": {},
   "source": [
    "## 1.3 Optional arguments\n",
    "\n",
    "Python allows us to make arguments to our function optional. To do this, we need to _give the argument a default value_ so that it always has something to work with.\n",
    "\n"
   ]
  },
  {
   "cell_type": "code",
   "execution_count": 37,
   "id": "2a7a67df-e575-4637-9b5a-82f4210a3f79",
   "metadata": {},
   "outputs": [],
   "source": [
    "# FOR EXAMPLE:\n",
    "def greeting(name='no one'):\n",
    "    if name == 'Batman':\n",
    "        return 'Hello Batman! So, nice to meet you!'\n",
    "    else:\n",
    "        return f'Hello {name}!'\n",
    "\n",
    "#As you can expect, now you can run the function greeting() without an argument and it'll print \"no one\" by default."
   ]
  },
  {
   "cell_type": "code",
   "execution_count": 38,
   "id": "2cdde8f5-fd11-4ff4-8ef7-356a3a8e5311",
   "metadata": {},
   "outputs": [
    {
     "data": {
      "text/plain": [
       "'Hello no one!'"
      ]
     },
     "execution_count": 38,
     "metadata": {},
     "output_type": "execute_result"
    }
   ],
   "source": [
    "greeting()"
   ]
  },
  {
   "cell_type": "code",
   "execution_count": 39,
   "id": "c03a5ec5-bac5-4782-8919-8348e0a07a6e",
   "metadata": {},
   "outputs": [
    {
     "data": {
      "text/plain": [
       "\u001b[0;31mSignature:\u001b[0m \u001b[0mprint\u001b[0m\u001b[0;34m(\u001b[0m\u001b[0;34m*\u001b[0m\u001b[0margs\u001b[0m\u001b[0;34m,\u001b[0m \u001b[0msep\u001b[0m\u001b[0;34m=\u001b[0m\u001b[0;34m' '\u001b[0m\u001b[0;34m,\u001b[0m \u001b[0mend\u001b[0m\u001b[0;34m=\u001b[0m\u001b[0;34m'\\n'\u001b[0m\u001b[0;34m,\u001b[0m \u001b[0mfile\u001b[0m\u001b[0;34m=\u001b[0m\u001b[0;32mNone\u001b[0m\u001b[0;34m,\u001b[0m \u001b[0mflush\u001b[0m\u001b[0;34m=\u001b[0m\u001b[0;32mFalse\u001b[0m\u001b[0;34m)\u001b[0m\u001b[0;34m\u001b[0m\u001b[0;34m\u001b[0m\u001b[0m\n",
       "\u001b[0;31mDocstring:\u001b[0m\n",
       "Prints the values to a stream, or to sys.stdout by default.\n",
       "\n",
       "sep\n",
       "  string inserted between values, default a space.\n",
       "end\n",
       "  string appended after the last value, default a newline.\n",
       "file\n",
       "  a file-like object (stream); defaults to the current sys.stdout.\n",
       "flush\n",
       "  whether to forcibly flush the stream.\n",
       "\u001b[0;31mType:\u001b[0m      builtin_function_or_method"
      ]
     },
     "metadata": {},
     "output_type": "display_data"
    }
   ],
   "source": [
    "# ANOTHER EXAMPLE: let’s look at the documentation for print().\n",
    "?print\n"
   ]
  },
  {
   "cell_type": "markdown",
   "id": "27ff76c2-43e3-47e5-ae82-73fc5f29bbf5",
   "metadata": {},
   "source": [
    "You see that `print()` _can accept other arguments that are optional with default values_. However, we can specify them if we like"
   ]
  },
  {
   "cell_type": "code",
   "execution_count": 40,
   "id": "1a1a3058-8111-4ce3-bdbe-56d60bb25bef",
   "metadata": {},
   "outputs": [
    {
     "name": "stdout",
     "output_type": "stream",
     "text": [
      "I am Batman!\n",
      "I---am---Batman!\n"
     ]
    }
   ],
   "source": [
    "# Using default values\n",
    "print('I', 'am', 'Batman!')\n",
    "# Specifying an optional argument\n",
    "print('I', 'am', 'Batman!', sep='---')   #sep "
   ]
  },
  {
   "cell_type": "markdown",
   "id": "8c06f517-84c2-43cb-8614-1d070e48eec6",
   "metadata": {},
   "source": [
    "__Ask:__ Yuan Zhe, I understand the concept of the optional argument in providing a \"default placeholder\" if the funtion doesn't have a specified argument but I don't exactly understand what this example (in the code cell directly above) is trying to demonstrate with the sep='==='. Could you help me clarify? Thank you!"
   ]
  },
  {
   "cell_type": "markdown",
   "id": "4c5f25b0-e292-4cbf-8174-188dd60ef0da",
   "metadata": {},
   "source": [
    "__Answer__: It is trying to demonstrate that if you don't like the default value of an argument in a function, you can always change it by specifying what the new value of the argument should be using the `sep()` function as an example:\n",
    "\n",
    "In Line 1, the print() function was called without specifying the value of the argument sep. Essentially, sep is used when you print multiple elements in a single print statement. Here, we're printing 'I', 'am', and 'Batman'. Since they're three different elements, they need to be separated. And we can control what the separator is using the argument sep. Since the value of sep is not specified, Python used the default value of sep, which is a white space.\n",
    "\n",
    "In Line 4, we specify the value of sep to be '---'. Hence, the three elements, 'I', 'am', and 'Batman' are now separated by '---' when printed out."
   ]
  },
  {
   "attachments": {},
   "cell_type": "markdown",
   "id": "874cc970",
   "metadata": {},
   "source": [
    "## 1.4 The importance of functions?"
   ]
  },
  {
   "attachments": {},
   "cell_type": "markdown",
   "id": "d6a0f27c",
   "metadata": {},
   "source": [
    "### An argument for functions\n",
    "\n",
    "Now that you know a bit about creating functions, let me highlight why functions are a good idea.\n",
    "\n",
    "__Abstraction of details__ The most important benefit of functions goes beyond programming and relates to your ability to strategize. If you break up a complicated solution into modular chunks (i.e., functions), it becomes easier to think about it because you are not dealing with all the details all at once. As a result, it is easier to focus on your overall solution because you are not distracted by unnecessary information. __This hiding of ‘stuff’ is called abstraction__ in computer science lingo. The concept of abstraction can be tricky to grasp. So, let me share an analogy related to driving.\n",
    "\n",
    "A vehicle has many ‘abstracted’ systems, amongst which the engine is a good example. You do not need to know the engine’s details (e.g. electric, petrol, diesel, guineapig) to use it. You can use the engine of almost any car because you are not required to know what happens inside. This __frees up your resources__ because you are __not distracted by unnecessary details__. Of course, there will be times when you want to know how an engine works to pick the best engine.\n",
    "\n",
    "__Reusability of code:__ If you encapsulate a chunk of code in a function, it becomes straightforward to reuse it instead of copying and pasting at different places. This means your code will be _shorter and more compact._\n",
    "\n",
    "__Maintainability of code:__ With functions, your code is easier to change and maintain because you need _only make changes in one place_, at the function definition.\n",
    "\n"
   ]
  },
  {
   "attachments": {},
   "cell_type": "markdown",
   "id": "16416adf",
   "metadata": {},
   "source": [
    "### A word of caution"
   ]
  },
  {
   "cell_type": "markdown",
   "id": "4d8e4160-9306-4a68-b1f9-3b6b46c85847",
   "metadata": {},
   "source": [
    "I have seen many instances where functions are __abused__; for example, by trying to do too many things or having _too many arguments_. They can also be __overused__. Having too many functions can make it difficult to read your code and also increase computational overheads. You will get a better feel for when to use functions with experience, but _please bear in mind that functions can be misused._"
   ]
  }
 ],
 "metadata": {
  "kernelspec": {
   "display_name": "Python 3 (ipykernel)",
   "language": "python",
   "name": "python3"
  },
  "language_info": {
   "codemirror_mode": {
    "name": "ipython",
    "version": 3
   },
   "file_extension": ".py",
   "mimetype": "text/x-python",
   "name": "python",
   "nbconvert_exporter": "python",
   "pygments_lexer": "ipython3",
   "version": "3.11.7"
  },
  "toc": {
   "base_numbering": 1,
   "nav_menu": {},
   "number_sections": true,
   "sideBar": true,
   "skip_h1_title": false,
   "title_cell": "Table of Contents",
   "title_sidebar": "Contents",
   "toc_cell": false,
   "toc_position": {},
   "toc_section_display": true,
   "toc_window_display": false
  },
  "vscode": {
   "interpreter": {
    "hash": "31f2aee4e71d21fbe5cf8b01ff0e069b9275f58929596ceb00d14d90e3e16cd6"
   }
  }
 },
 "nbformat": 4,
 "nbformat_minor": 5
}

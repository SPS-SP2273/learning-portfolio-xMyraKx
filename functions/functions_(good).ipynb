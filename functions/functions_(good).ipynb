{
 "cells": [
  {
   "attachments": {},
   "cell_type": "markdown",
   "id": "123456",
   "metadata": {},
   "source": [
    "<div style=\"text-align:left;font-size:2em\"><span style=\"font-weight:bolder;font-size:1.25em\">SP2273 | Learning Portfolio</span><br><br><span style=\"font-weight:bold;color:darkred\">Functions (Good)</span></div>"
   ]
  },
  {
   "attachments": {},
   "cell_type": "markdown",
   "id": "f5759627",
   "metadata": {},
   "source": [
    "# What to expect in this chapter"
   ]
  },
  {
   "cell_type": "markdown",
   "id": "3d9d9757-583b-4502-857d-3ffe6c972d51",
   "metadata": {},
   "source": [
    "In this chapter, I will tie up some loose ends about functions like types of _arguments and docstrings_. I will also discuss _exception handling_ so that you can better understand how to deal with errors. By the end of this chapter, you will know the difference between positional, keyword, and default arguments of functions. You can also write code that checks and handles potential problems."
   ]
  },
  {
   "attachments": {},
   "cell_type": "markdown",
   "id": "e0232952",
   "metadata": {},
   "source": [
    "# 1 Checks, balances, and contingencies\n",
    "\n",
    "Users and programmers are not infallible, and you cannot think of everything that can go wrong. So, having checks, balances, and contingencies in your code is a good idea. So, let’s talk about __pre-empting problems__. This topic applies to more than just functions, but let’s start here.\n",
    "\n",
    "There are two standard ways Python allows us to incorporate checks: `assert` and `try-except`.\n",
    "\n"
   ]
  },
  {
   "attachments": {},
   "cell_type": "markdown",
   "id": "e70f28de",
   "metadata": {},
   "source": [
    "## 1.1 assert"
   ]
  },
  {
   "cell_type": "markdown",
   "id": "ba9dd22f-1836-4d32-bc53-f4536ce75313",
   "metadata": {},
   "source": [
    "Python has a command called assert that can check a condition and halt execution if necessary. It also gives the option of printing a message. So you can create your own customisable condition spotting/monitoring system!\n",
    "\n",
    "The basic syntax is as follows:\n",
    "__`assert` condition-to-check, message__"
   ]
  },
  {
   "cell_type": "code",
   "execution_count": 7,
   "id": "ff3eb949-de27-4cd0-98ef-9daf56a3667b",
   "metadata": {},
   "outputs": [],
   "source": [
    "#assert stops the flow if the condition fails. Here is an example.\n",
    "x=1\n",
    "assert x >= 0, \"x is becoming negative!\"\n",
    "#The program will run for as long as the condition is True. \n"
   ]
  },
  {
   "cell_type": "code",
   "execution_count": 8,
   "id": "a5573f7f-7c2e-4c33-aaf0-eef5125af987",
   "metadata": {},
   "outputs": [
    {
     "ename": "AssertionError",
     "evalue": "x is becoming negative!",
     "output_type": "error",
     "traceback": [
      "\u001b[0;31m---------------------------------------------------------------------------\u001b[0m",
      "\u001b[0;31mAssertionError\u001b[0m                            Traceback (most recent call last)",
      "Cell \u001b[0;32mIn[8], line 3\u001b[0m\n\u001b[1;32m      1\u001b[0m \u001b[38;5;66;03m#If it fails, then an AssertationError is raised, and the program stops running!\u001b[39;00m\n\u001b[1;32m      2\u001b[0m x\u001b[38;5;241m=\u001b[39m\u001b[38;5;241m-\u001b[39m\u001b[38;5;241m3\u001b[39m\n\u001b[0;32m----> 3\u001b[0m \u001b[38;5;28;01massert\u001b[39;00m x\u001b[38;5;241m>\u001b[39m\u001b[38;5;241m=\u001b[39m\u001b[38;5;241m0\u001b[39m, \u001b[38;5;124m\"\u001b[39m\u001b[38;5;124mx is becoming negative!\u001b[39m\u001b[38;5;124m\"\u001b[39m\n",
      "\u001b[0;31mAssertionError\u001b[0m: x is becoming negative!"
     ]
    }
   ],
   "source": [
    "#If it fails, then an AssertationError is raised, and the program stops running!\n",
    "x=-3\n",
    "assert x>=0, \"x is becoming negative!\""
   ]
  },
  {
   "attachments": {},
   "cell_type": "markdown",
   "id": "b7b369db",
   "metadata": {},
   "source": [
    "## 1.2 try-except"
   ]
  },
  {
   "cell_type": "markdown",
   "id": "952d7771-0f4f-442d-ab94-89b01e166de9",
   "metadata": {},
   "source": [
    "A technical name for things going wrong is __exceptions__. \n",
    "\n",
    "For example, division by zero will raise a __ZeroDivisionError__. An exception left unhandled will halt the flow of the programme. However, if you are a control freak, Python offers an (absurdly) simple __try-except__ structure to catch and handle these exceptions yourself.\n",
    "\n",
    "The __try-except__ syntax can also ensure that your programme can handle some situations beyond your control. For example, when I use Python to speak to the Canvas server, I use try-except to handle situations when the server does not respond. We used it our fundamentals Good exercises rmbr?\n",
    "\n",
    "Let me show you how to use the try-except flow control statement.\n",
    "\n",
    "We can solicit a user response using the input() function. Let’s say we do this and ask for a number, as shown in the snippet below."
   ]
  },
  {
   "cell_type": "code",
   "execution_count": 11,
   "id": "e7122beb-edb6-40cb-832a-6be1c0d32499",
   "metadata": {},
   "outputs": [
    {
     "name": "stdin",
     "output_type": "stream",
     "text": [
      "Give me a number and I will calculate its square. 10\n"
     ]
    },
    {
     "name": "stdout",
     "output_type": "stream",
     "text": [
      "The square of 10 is 100!\n"
     ]
    }
   ],
   "source": [
    "number=input(\"Give me a number and I will calculate its square.\")\n",
    "square=int(number)**2              # Convert English to number\n",
    "print(f'The square of {number} is {square}!')"
   ]
  },
  {
   "cell_type": "markdown",
   "id": "1ccb42f1-c355-4514-8a43-e1a3db508153",
   "metadata": {},
   "source": [
    "This will work fine if the typecasting int(number) makes sense. What if the input is not a number but something else like ‘hahaha’?"
   ]
  },
  {
   "cell_type": "code",
   "execution_count": 12,
   "id": "3d521058-4b7b-4cb3-8e9d-4065ac2cd0b6",
   "metadata": {},
   "outputs": [
    {
     "name": "stdin",
     "output_type": "stream",
     "text": [
      "Give me a number and I will calculate its square. hahaha\n"
     ]
    },
    {
     "ename": "ValueError",
     "evalue": "invalid literal for int() with base 10: 'hahaha'",
     "output_type": "error",
     "traceback": [
      "\u001b[0;31m---------------------------------------------------------------------------\u001b[0m",
      "\u001b[0;31mValueError\u001b[0m                                Traceback (most recent call last)",
      "Cell \u001b[0;32mIn[12], line 2\u001b[0m\n\u001b[1;32m      1\u001b[0m number\u001b[38;5;241m=\u001b[39m\u001b[38;5;28minput\u001b[39m(\u001b[38;5;124m\"\u001b[39m\u001b[38;5;124mGive me a number and I will calculate its square.\u001b[39m\u001b[38;5;124m\"\u001b[39m)\n\u001b[0;32m----> 2\u001b[0m square\u001b[38;5;241m=\u001b[39m\u001b[38;5;28;43mint\u001b[39;49m\u001b[43m(\u001b[49m\u001b[43mnumber\u001b[49m\u001b[43m)\u001b[49m\u001b[38;5;241m*\u001b[39m\u001b[38;5;241m*\u001b[39m\u001b[38;5;241m2\u001b[39m              \u001b[38;5;66;03m# Convert English to number\u001b[39;00m\n\u001b[1;32m      3\u001b[0m \u001b[38;5;28mprint\u001b[39m(\u001b[38;5;124mf\u001b[39m\u001b[38;5;124m'\u001b[39m\u001b[38;5;124mThe square of \u001b[39m\u001b[38;5;132;01m{\u001b[39;00mnumber\u001b[38;5;132;01m}\u001b[39;00m\u001b[38;5;124m is \u001b[39m\u001b[38;5;132;01m{\u001b[39;00msquare\u001b[38;5;132;01m}\u001b[39;00m\u001b[38;5;124m!\u001b[39m\u001b[38;5;124m'\u001b[39m)\n",
      "\u001b[0;31mValueError\u001b[0m: invalid literal for int() with base 10: 'hahaha'"
     ]
    }
   ],
   "source": [
    "number=input(\"Give me a number and I will calculate its square.\")\n",
    "square=int(number)**2              # Convert English to number\n",
    "print(f'The square of {number} is {square}!')"
   ]
  },
  {
   "cell_type": "code",
   "execution_count": 15,
   "id": "17ab947b-abe4-47da-8aeb-0901ece785e4",
   "metadata": {},
   "outputs": [
    {
     "name": "stdin",
     "output_type": "stream",
     "text": [
      "Give me a number and I will calculate its square. hahaha\n"
     ]
    },
    {
     "name": "stdout",
     "output_type": "stream",
     "text": [
      "Oh oh! I cannot square hahaha! please give me an integer number instead\n"
     ]
    }
   ],
   "source": [
    "#Let’s use the try-except to get around this problem.\n",
    "try:\n",
    "    number=input(\"Give me a number and I will calculate its square.\")\n",
    "    square=int(number)**2\n",
    "    print(f'The square of {number} is {square}!')\n",
    "except:\n",
    "    print(f\"Oh oh! I cannot square {number}! please give me an integer number instead\")\n"
   ]
  },
  {
   "cell_type": "markdown",
   "id": "66d29cef-7203-4ad2-90e0-31bfbe35a507",
   "metadata": {},
   "source": [
    "Notice how I have _enclosed (and protected) that part of the code that we think can potentially lead to trouble_ in the try block. If something (anything) goes wrong, _Python will ignore_ the error and run the code in the except block.\n",
    "\n",
    "You can have more control over how the expetions are handled with a try-except block. However, we do not have to worry about that at this point."
   ]
  },
  {
   "attachments": {},
   "cell_type": "markdown",
   "id": "b0364b54",
   "metadata": {},
   "source": [
    "## 1.3 A simple suggestion"
   ]
  },
  {
   "cell_type": "markdown",
   "id": "cd8d5441-ee80-4ecc-88b3-9619a068aba9",
   "metadata": {},
   "source": [
    "When starting out with some code, it is always good for your code to signal to the outside world that it has finished certain milestones. A ‘soft’ way to do this is to _include `print()` statements here and there to let the outside world know what is happening in the innards of your program_. Otherwise, you will stare at a blank cell, wondering what is happening."
   ]
  },
  {
   "attachments": {},
   "cell_type": "markdown",
   "id": "961e64af",
   "metadata": {},
   "source": [
    "# 2 Some loose ends"
   ]
  },
  {
   "attachments": {},
   "cell_type": "markdown",
   "id": "240f1238",
   "metadata": {},
   "source": [
    "## 2.1 Positional, keyword and default arguments"
   ]
  },
  {
   "cell_type": "markdown",
   "id": "1440e458-64b4-49fd-af06-137903022ffd",
   "metadata": {},
   "source": [
    "In the past chapter, some of you may have noticed that I was (carelessly) switching between passing two styles of passing arguments to the function greeting(). I wrote `greeting('Super Man')` or `greeting(name='Super Man')`. We need to talk a bit more about this so that you are not bewildered when you see other people’s code.\n",
    "\n",
    "There are three ‘ways’ to pass a value to an argument. I will call them __positional__, __keyword__ or __default__. To make this clearer, consider the following function."
   ]
  },
  {
   "cell_type": "code",
   "execution_count": 25,
   "id": "71999eff-696a-48f3-8f92-8e88242f56ad",
   "metadata": {},
   "outputs": [],
   "source": [
    "#Consider the following function:\n",
    "def side_by_side(a, b, c=42):\n",
    "    return f'{a: 2d}|{b: 2d}|{c: 2d}'"
   ]
  },
  {
   "cell_type": "markdown",
   "id": "c3c7e77f-828c-4ab4-a509-c1c24ae78036",
   "metadata": {},
   "source": [
    "Here's 3 ways I can use this function:\n",
    "\n",
    "__Positional:__ assigning using the positional order of the arguments"
   ]
  },
  {
   "cell_type": "code",
   "execution_count": 18,
   "id": "56135465-7c0e-4df2-a1da-5bb7c0417025",
   "metadata": {},
   "outputs": [
    {
     "data": {
      "text/plain": [
       "' 1| 2| 3'"
      ]
     },
     "execution_count": 18,
     "metadata": {},
     "output_type": "execute_result"
    }
   ],
   "source": [
    "side_by_side(1, 2, 3)\n",
    "# Here, I am telling Python to assign 1, 2, 3 to a, b, c \n",
    "# using the positional order of the arguments."
   ]
  },
  {
   "cell_type": "markdown",
   "id": "40129f21-9f38-475d-af29-da19351c5802",
   "metadata": {},
   "source": [
    "__Keywords:__ specify the keyword to assign the values\n"
   ]
  },
  {
   "cell_type": "code",
   "execution_count": 19,
   "id": "4cebb43d-4c82-47e1-b9b3-8e78eed3efb2",
   "metadata": {},
   "outputs": [
    {
     "data": {
      "text/plain": [
       "' 2| 1| 3'"
      ]
     },
     "execution_count": 19,
     "metadata": {},
     "output_type": "execute_result"
    }
   ],
   "source": [
    "side_by_side(c=3, b=1, a=2)\n",
    "# Here, I explicitly specify the keyword to assign the values to\n",
    "# each of a, b, c. (No, the order does not matter)"
   ]
  },
  {
   "cell_type": "markdown",
   "id": "de2b3d7b-7002-4e1b-85ba-56701e7e7419",
   "metadata": {},
   "source": [
    "__Default:__ you can choose not to specify the value you pass to an argument"
   ]
  },
  {
   "cell_type": "code",
   "execution_count": 23,
   "id": "5ae981b7-352f-4449-8c57-263f06d5c4a9",
   "metadata": {},
   "outputs": [
    {
     "data": {
      "text/plain": [
       "' 1| 2| 42'"
      ]
     },
     "execution_count": 23,
     "metadata": {},
     "output_type": "execute_result"
    }
   ],
   "source": [
    "side_by_side(1, b=2)\n",
    "#Here, since c is optional, I can choose not to \n",
    "#specify it (of course, provided I want c to be 1)."
   ]
  },
  {
   "cell_type": "markdown",
   "id": "1bc450d5-032f-4129-823c-98efa39c27f8",
   "metadata": {},
   "source": [
    "Below are some examples of how you can combine these three styles. However, one style (keyword followed by positional) confuses Python and won’t work. This is because jamming a keyword in between or before a positional argument confuses the interpreter of what the true positional orders should be anymore. "
   ]
  },
  {
   "cell_type": "code",
   "execution_count": 24,
   "id": "7a0d50a6-65a6-4edd-a570-c188bf7f9115",
   "metadata": {},
   "outputs": [
    {
     "data": {
      "text/plain": [
       "' 1| 2| 42'"
      ]
     },
     "execution_count": 24,
     "metadata": {},
     "output_type": "execute_result"
    }
   ],
   "source": [
    "side_by_side(1, 2)           # Two positional, 1 default\n",
    "## ' 1| 2| 42'\n",
    "side_by_side(1, 2, 3)        # Three positional\n",
    "## ' 1| 2| 3'\n",
    "side_by_side(a=1, b=2)       # Two keyword, 1 default\n",
    "## ' 1| 2| 42'\n",
    "side_by_side(c=3, b=1, a=2)  # Three keyword\n",
    "## ' 2| 1| 3'\n",
    "side_by_side(1, c=3, b=2)    # One positional, 2 keyword\n",
    "## ' 1| 2| 3'\n",
    "side_by_side(1, b=2)         # One positional, 1 keyword, 1 default\n",
    "## ' 1| 2| 42'"
   ]
  },
  {
   "cell_type": "markdown",
   "id": "c81d60a3-249a-487a-9064-b70173640619",
   "metadata": {},
   "source": [
    "Let me reiterate that the following will __not__ work because Python cannot unambiguously determine the position of 1?"
   ]
  },
  {
   "cell_type": "code",
   "execution_count": 26,
   "id": "52026c00-5099-482f-9411-28efe2790e39",
   "metadata": {},
   "outputs": [
    {
     "ename": "SyntaxError",
     "evalue": "positional argument follows keyword argument (3855048630.py, line 3)",
     "output_type": "error",
     "traceback": [
      "\u001b[0;36m  Cell \u001b[0;32mIn[26], line 3\u001b[0;36m\u001b[0m\n\u001b[0;31m    side_by_side(a=2, 1)      # Won't work.\u001b[0m\n\u001b[0m                       ^\u001b[0m\n\u001b[0;31mSyntaxError\u001b[0m\u001b[0;31m:\u001b[0m positional argument follows keyword argument\n"
     ]
    }
   ],
   "source": [
    "# Keywords cannot be followed \n",
    "# by positional arguments\n",
    "side_by_side(a=2, 1)      # Won't work: This is because jamming a keyword \n",
    "                            #in between or before a positional argument confuses\n",
    "                            #the interpreter of what the true positional orders should be anymore.                         "
   ]
  },
  {
   "attachments": {},
   "cell_type": "markdown",
   "id": "fc4eb4fc",
   "metadata": {},
   "source": [
    "## 2.2 Docstrings"
   ]
  },
  {
   "cell_type": "markdown",
   "id": "2a2046b6-260d-416b-9a67-d314b1a3335e",
   "metadata": {},
   "source": [
    "Python has a __docstring feature__ that __allows us to document what a function does inside the function__. This documentation (i.e., the docstring) is displayed when we ask Python to show us the help info using `help()`. So it helps us keep track of the components of our code and the functions in it easier once it gets complex/clunky.\n",
    "\n",
    "Here is a simple example."
   ]
  },
  {
   "cell_type": "code",
   "execution_count": 28,
   "id": "87ac6762-7526-4f67-a9a9-37e911ed0ec4",
   "metadata": {},
   "outputs": [],
   "source": [
    "def side_by_side(a, b, c=42):\n",
    "    '''\n",
    "    A test function to demonstrate how \n",
    "    positional, keyword and default arguments \n",
    "    work.\n",
    "    '''\n",
    "    return f'{a: 2d}|{b: 2d}|{c: 2d}'"
   ]
  },
  {
   "cell_type": "markdown",
   "id": "d329833c-5f3a-4cd1-9b6e-224f50f507b5",
   "metadata": {},
   "source": [
    "A docstring needs to be sandwiched between a pair of `'''` (or `\"\"\"`) and can span multiple lines.\n",
    "\n",
    "Then when you type `help(your function name)` it'll return the docustring you specified as a note/description above.\n",
    "Let’s see if it works by asking for help."
   ]
  },
  {
   "cell_type": "code",
   "execution_count": 29,
   "id": "96e10ef7-5ca6-4d81-952a-f455e01b6507",
   "metadata": {},
   "outputs": [
    {
     "name": "stdout",
     "output_type": "stream",
     "text": [
      "Help on function side_by_side in module __main__:\n",
      "\n",
      "side_by_side(a, b, c=42)\n",
      "    A test function to demonstrate how \n",
      "    positional, keyword and default arguments \n",
      "    work.\n",
      "\n"
     ]
    }
   ],
   "source": [
    "help(side_by_side)"
   ]
  },
  {
   "cell_type": "markdown",
   "id": "c332526e-3ddf-4ae7-9b68-e78cc22472ed",
   "metadata": {},
   "source": [
    "Yay it does!"
   ]
  },
  {
   "cell_type": "markdown",
   "id": "128bf241-745c-4237-aa64-a2c45dc50f5d",
   "metadata": {},
   "source": [
    "Note: Docstrings can be used for writing multiline comments, but the practice is frowned upon by Puritans; so if you misuse it be ready for their ire!"
   ]
  },
  {
   "cell_type": "code",
   "execution_count": null,
   "id": "472deced-9e88-4911-9f90-edfde04a3e29",
   "metadata": {},
   "outputs": [],
   "source": []
  },
  {
   "attachments": {},
   "cell_type": "markdown",
   "id": "0f4ed4a0",
   "metadata": {},
   "source": [
    "## 2.3 Function are first-class citizens"
   ]
  },
  {
   "cell_type": "markdown",
   "id": "8d77facb-85b6-4102-96ef-04b18f1f425c",
   "metadata": {},
   "source": [
    "Python functions are called _first-class citizens_ because they have the same privileges as variables. This opens up useful possibilities for scientific programming because __we can pass a function as an argument to another function!__\n",
    "\n",
    "Consider this:\n"
   ]
  },
  {
   "cell_type": "code",
   "execution_count": 32,
   "id": "01e8bf2f-ce58-4895-94f5-15e2dda56545",
   "metadata": {},
   "outputs": [],
   "source": [
    "import numpy as np"
   ]
  },
  {
   "cell_type": "code",
   "execution_count": 36,
   "id": "7c3b9539-4ce2-4acd-9ddd-bcf8ed8eaaa5",
   "metadata": {},
   "outputs": [
    {
     "data": {
      "text/plain": [
       "-1.0"
      ]
     },
     "execution_count": 36,
     "metadata": {},
     "output_type": "execute_result"
    }
   ],
   "source": [
    "def my_function(angle, trig_function):\n",
    "        return trig_function(angle)\n",
    "\n",
    "# Let's use the function\n",
    "my_function(np.pi/2, np.sin)        \n",
    "## 1.0\n",
    "my_function(np.pi/2, np.cos)        \n",
    "## 6.123233995736766e-17\n",
    "my_function(np.pi/2, lambda x: np.cos(2*x))  \n",
    "## -1.0"
   ]
  },
  {
   "cell_type": "markdown",
   "id": "1b7ecc9b-4080-4d1f-ab33-cf6934085999",
   "metadata": {},
   "source": [
    "So here:\n",
    "\n",
    "We're passing the `np.sin` or `np.cos` function as an argument within the `my_function` function."
   ]
  },
  {
   "cell_type": "markdown",
   "id": "15b957af-0e2f-4916-adc8-7121a4929b67",
   "metadata": {},
   "source": [
    "Note: When we pass a function as an argument, we do __not__ include the parenthesis `()`. (there's no () around np.sin or np.cos)"
   ]
  },
  {
   "attachments": {},
   "cell_type": "markdown",
   "id": "dff84e31",
   "metadata": {},
   "source": [
    "## 2.4 More about unpacking"
   ]
  },
  {
   "cell_type": "markdown",
   "id": "a596ef59-cab6-4dd6-b2f2-7c8b90eadc96",
   "metadata": {},
   "source": [
    "There is more to __unpacking__. For example, unpacking can make extracting information from lists and arrays a breeze. Here are some examples.\n"
   ]
  },
  {
   "cell_type": "code",
   "execution_count": 37,
   "id": "790ec379-5b66-405f-aeea-11ae85ebc9db",
   "metadata": {},
   "outputs": [
    {
     "data": {
      "text/plain": [
       "(1, 2, 3)"
      ]
     },
     "execution_count": 37,
     "metadata": {},
     "output_type": "execute_result"
    }
   ],
   "source": [
    "# Example 1: a list\n",
    "x, y, z = [1, 2, 3]\n",
    "x, y, z"
   ]
  },
  {
   "cell_type": "code",
   "execution_count": 38,
   "id": "175875ab-ecb3-456d-bf00-7e7875b809f9",
   "metadata": {},
   "outputs": [
    {
     "data": {
      "text/plain": [
       "(1, 2, 3)"
      ]
     },
     "execution_count": 38,
     "metadata": {},
     "output_type": "execute_result"
    }
   ],
   "source": [
    "# Example 2: an array\n",
    "x, y, z = np.array([1, 2, 3])\n",
    "x, y, z"
   ]
  },
  {
   "cell_type": "code",
   "execution_count": 39,
   "id": "e4b499b3-93ba-4c4e-8d40-5a17580574b4",
   "metadata": {},
   "outputs": [
    {
     "data": {
      "text/plain": [
       "(1, [2, 3, 4], 5)"
      ]
     },
     "execution_count": 39,
     "metadata": {},
     "output_type": "execute_result"
    }
   ],
   "source": [
    "# Example 3: wildcard\n",
    "x, *y, z = np.array([1, 2, 3, 4, 5])\n",
    "x, y, z"
   ]
  },
  {
   "cell_type": "code",
   "execution_count": 1,
   "id": "f7024b85-cc7e-48c6-9918-f9a119d02fdd",
   "metadata": {},
   "outputs": [
    {
     "data": {
      "text/plain": [
       "(1, 5)"
      ]
     },
     "execution_count": 1,
     "metadata": {},
     "output_type": "execute_result"
    }
   ],
   "source": [
    "# Example 4: \n",
    "# Here, The underscore is serving as a \"placeholder\" to tell python to not consider anything in between the first and last elements. \n",
    "# And according to Chat GPT, its a convention in python to use '_' as a throwaway variable name when you don't care about the value.\n",
    "x, *_, y = [1, 2, 3, 4, 5]\n",
    "x, y"
   ]
  },
  {
   "cell_type": "code",
   "execution_count": null,
   "id": "7d02fe73-6f84-4694-9ce2-a356a317bee9",
   "metadata": {},
   "outputs": [],
   "source": []
  }
 ],
 "metadata": {
  "kernelspec": {
   "display_name": "Python 3 (ipykernel)",
   "language": "python",
   "name": "python3"
  },
  "language_info": {
   "codemirror_mode": {
    "name": "ipython",
    "version": 3
   },
   "file_extension": ".py",
   "mimetype": "text/x-python",
   "name": "python",
   "nbconvert_exporter": "python",
   "pygments_lexer": "ipython3",
   "version": "3.11.7"
  },
  "toc": {
   "base_numbering": 1,
   "nav_menu": {},
   "number_sections": true,
   "sideBar": true,
   "skip_h1_title": false,
   "title_cell": "Table of Contents",
   "title_sidebar": "Contents",
   "toc_cell": false,
   "toc_position": {},
   "toc_section_display": true,
   "toc_window_display": false
  },
  "vscode": {
   "interpreter": {
    "hash": "31f2aee4e71d21fbe5cf8b01ff0e069b9275f58929596ceb00d14d90e3e16cd6"
   }
  }
 },
 "nbformat": 4,
 "nbformat_minor": 5
}

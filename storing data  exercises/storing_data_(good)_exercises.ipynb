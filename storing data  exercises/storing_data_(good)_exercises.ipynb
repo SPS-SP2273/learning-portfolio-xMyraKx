{
 "cells": [
  {
   "attachments": {},
   "cell_type": "markdown",
   "id": "123456",
   "metadata": {},
   "source": [
    "<div style=\"text-align:left;font-size:2em\"><span style=\"font-weight:bolder;font-size:1.25em\">SP2273 | Learning Portfolio</span><br><br><span style=\"font-weight:bold;color:darkred\">Storing Data (Good) Exercises</span></div>"
   ]
  },
  {
   "cell_type": "markdown",
   "id": "0042bae9-da3b-450b-b817-0097df2b2dee",
   "metadata": {},
   "source": [
    "__Exercise 1 (Total recall) ☻__:\n",
    "\n",
    "Purely from memory, write short descriptions of the following terms:\n",
    "| Term       | Brief Description |\n",
    "|------------|-------------------|\n",
    "| Subsetting |Selecting a subset of the data in an iterable (Any sequence that can be iterated in a for loop (i.e. list-like objects: lists, arrays, tuples, dictionaries etc.)                   |\n",
    "| Indexing   |Calling out _single element_ from a list/array/dictionary based on the data indices                   |\n",
    "| Slicing    |Calling out data from a list/array from a specified section (i.e. data from a range of indices)                  |\n",
    "| Masking    |Calling out data from an _numpy array_ that fulfils (`True`) a given condition                    |"
   ]
  },
  {
   "cell_type": "markdown",
   "id": "0db7ab20-34a3-44e8-a150-3de860b3ff78",
   "metadata": {},
   "source": [
    "__Exercise 2 (Show me the ‘odd’ letters) ☻__\n",
    "```python\n",
    "np_array_2d = np.array([[1, \"A\"], [3, \"C\"], [2, \"B\"], [4, \"D\"],\n",
    "                        [5, \"E\"], [7, \"G\"], [6, \"F\"], [8, \"H\"],\n",
    "                        [10, \"J\"], [9, \"I\"]])\n",
    "```\n",
    "__Task:__ Use masking to subset the letters that correspond to the odd numbers. I.e., get the result `[A, C, E, G, I]`.\n",
    "\n",
    "This is a slightly tricky problem because arrays are fussy about type. So, let me give you a recipe to solve this problem.\n",
    "\n",
    "1. Subset all the first elements.\n",
    "    - You should get `array(['1', '3', '2', ..., '10', '9'])`\n",
    "1. Convert this to integers using `astype(int)`\n",
    "    - You must look up how `astype()` works.\n",
    "1. Use `%` to get the remainder for division by `2`.\n",
    "    - You should get `array([1, 1, 0, ..., 0, 1])`.\n",
    "1. Use the previous result to create a mask that checks if the remainder is zero or not\n",
    "    - You should get array([True, True, False, ..., False, True])`.\n",
    "    - Now you have identified the locations of the odd numbers.\n",
    "1. Use the mask and extract the corresponding second elements."
   ]
  },
  {
   "cell_type": "code",
   "execution_count": 3,
   "id": "00e030f4-5846-4e12-acd6-b33e4fcb9a1d",
   "metadata": {},
   "outputs": [],
   "source": [
    "import numpy as np\n",
    "np_array_2d = np.array([[1, \"A\"], [3, \"C\"], [2, \"B\"], [4, \"D\"],\n",
    "                        [5, \"E\"], [7, \"G\"], [6, \"F\"], [8, \"H\"],\n",
    "                        [10, \"J\"], [9, \"I\"]])"
   ]
  },
  {
   "cell_type": "code",
   "execution_count": 5,
   "id": "e3213029-1336-4b1f-ac7c-d2de1876e872",
   "metadata": {},
   "outputs": [
    {
     "data": {
      "text/plain": [
       "array(['1', '3', '2', '4', '5', '7', '6', '8', '10', '9'], dtype='<U21')"
      ]
     },
     "execution_count": 5,
     "metadata": {},
     "output_type": "execute_result"
    }
   ],
   "source": [
    "np_array_2d [:, 0]"
   ]
  },
  {
   "cell_type": "code",
   "execution_count": 6,
   "id": "94c4bd6e-8d76-4b6b-ada1-7c90cf7474e1",
   "metadata": {},
   "outputs": [],
   "source": [
    "np_array_1d = np_array_2d [:, 0] "
   ]
  },
  {
   "cell_type": "code",
   "execution_count": 8,
   "id": "d2e43129-7dd1-4f81-a414-7a4b2307c4b5",
   "metadata": {},
   "outputs": [],
   "source": [
    "np_array_1d_int = np_array_1d.astype(int)"
   ]
  },
  {
   "cell_type": "code",
   "execution_count": 21,
   "id": "52b2f18c-a7dd-44af-9782-95e04a9a3f0c",
   "metadata": {},
   "outputs": [
    {
     "data": {
      "text/plain": [
       "array([ 1,  3,  2,  4,  5,  7,  6,  8, 10,  9])"
      ]
     },
     "execution_count": 21,
     "metadata": {},
     "output_type": "execute_result"
    }
   ],
   "source": [
    "np_array_1d_int"
   ]
  },
  {
   "cell_type": "code",
   "execution_count": 22,
   "id": "15c763ed-c550-4f75-9b20-802ebf2aa92b",
   "metadata": {},
   "outputs": [
    {
     "data": {
      "text/plain": [
       "array([1, 1, 0, 0, 1, 1, 0, 0, 0, 1])"
      ]
     },
     "execution_count": 22,
     "metadata": {},
     "output_type": "execute_result"
    }
   ],
   "source": [
    "np_array_1d_int % 2"
   ]
  },
  {
   "cell_type": "code",
   "execution_count": 29,
   "id": "d9971710-eacb-47a2-99fd-fc333d7069df",
   "metadata": {},
   "outputs": [
    {
     "data": {
      "text/plain": [
       "array([ True,  True, False, False,  True,  True, False, False, False,\n",
       "        True])"
      ]
     },
     "execution_count": 29,
     "metadata": {},
     "output_type": "execute_result"
    }
   ],
   "source": [
    "np_array_1d_int % 2 == 1\n",
    "#And now we've identified the odd number location"
   ]
  },
  {
   "cell_type": "code",
   "execution_count": 23,
   "id": "158e220f-2983-4ce1-87da-e9d271d8eb3b",
   "metadata": {},
   "outputs": [],
   "source": [
    "#Creating the mask\n",
    "mask_for_odd = np_array_1d_int % 2 == 1"
   ]
  },
  {
   "cell_type": "code",
   "execution_count": 30,
   "id": "c5920343-ed2b-4ef2-93d7-c75913e1daa0",
   "metadata": {},
   "outputs": [
    {
     "data": {
      "text/plain": [
       "array(['A', 'C', 'E', 'G', 'I'], dtype='<U21')"
      ]
     },
     "execution_count": 30,
     "metadata": {},
     "output_type": "execute_result"
    }
   ],
   "source": [
    "#Indexing the 2nd elements of the masked data\n",
    "np_array_2d [mask_for_odd, 1]"
   ]
  },
  {
   "cell_type": "code",
   "execution_count": null,
   "id": "1f15b61b-d62f-4891-a1a4-fedf3231e6a7",
   "metadata": {},
   "outputs": [],
   "source": []
  }
 ],
 "metadata": {
  "kernelspec": {
   "display_name": "Python 3 (ipykernel)",
   "language": "python",
   "name": "python3"
  },
  "language_info": {
   "codemirror_mode": {
    "name": "ipython",
    "version": 3
   },
   "file_extension": ".py",
   "mimetype": "text/x-python",
   "name": "python",
   "nbconvert_exporter": "python",
   "pygments_lexer": "ipython3",
   "version": "3.11.7"
  },
  "toc": {
   "base_numbering": 1,
   "nav_menu": {},
   "number_sections": true,
   "sideBar": true,
   "skip_h1_title": false,
   "title_cell": "Table of Contents",
   "title_sidebar": "Contents",
   "toc_cell": false,
   "toc_position": {},
   "toc_section_display": true,
   "toc_window_display": false
  },
  "vscode": {
   "interpreter": {
    "hash": "31f2aee4e71d21fbe5cf8b01ff0e069b9275f58929596ceb00d14d90e3e16cd6"
   }
  }
 },
 "nbformat": 4,
 "nbformat_minor": 5
}

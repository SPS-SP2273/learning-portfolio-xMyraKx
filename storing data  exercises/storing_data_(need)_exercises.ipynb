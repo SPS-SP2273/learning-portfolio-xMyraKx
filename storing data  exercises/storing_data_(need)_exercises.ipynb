{
 "cells": [
  {
   "attachments": {},
   "cell_type": "markdown",
   "id": "123456",
   "metadata": {},
   "source": [
    "<div style=\"text-align:left;font-size:2em\"><span style=\"font-weight:bolder;font-size:1.25em\">SP2273 | Learning Portfolio</span><br><br><span style=\"font-weight:bold;color:darkred\">Storing Data (Need) Exercises</span></div>"
   ]
  },
  {
   "cell_type": "markdown",
   "id": "fc3ecd09-7eb7-4649-97f3-0cdeb0520f75",
   "metadata": {},
   "source": [
    "__Exercise 1 (Total recall?) ☻__\n",
    "\n",
    "Purely from memory, jot down:\n",
    "\n",
    "- Two similarities between lists and arrays.\n",
    "    - Both are methods to store data and both can store string and numeric data types (_latter is wrong! __arrays__ insist on only using a __single data type___)\n",
    "    - _Addionally: both can be navigated using reverse indexing_ \n",
    "- Two differences between lists and arrays.\n",
    "    - Data stored in an array can be manipulated arithmethically while data stored in a list cannot. Data in arrays can be \"truth\" tested individually for a given condition while data stored in lists cannot.\n",
    "    - _Additionally: numerical data in arrays can be summarised with functions to calculate the standard deviation and mean while data in a list cannot._\n",
    "\n",
    "What is a dictionary?\n",
    "    - A dictionary is a means to store data in a \"data:key\" (_correction: a key and associaed value framework_)framework where each data entry/input is paired to an assigned key that can be use in data retrieval."
   ]
  },
  {
   "cell_type": "markdown",
   "id": "391f57db-4839-49b7-928e-202fac8a317d",
   "metadata": {},
   "source": [
    "__Exercise 2 (Indexing) ☻__\n",
    "\n",
    "Modify the following code to print out all elements with an odd number. I have done the one corresponding to `i9` for you."
   ]
  },
  {
   "cell_type": "code",
   "execution_count": 1,
   "id": "7f63e6e3-a08f-419b-bd81-603ebfe46f12",
   "metadata": {},
   "outputs": [
    {
     "name": "stdout",
     "output_type": "stream",
     "text": [
      "i9\n"
     ]
    }
   ],
   "source": [
    "py_list = [\"a1\", \"b2\", \"c3\", \"d4\", \"e5\", \"f6\", \"g7\", \"h8\", \"i9\", \"j10\"]\n",
    "                    # Prints 'a1'\n",
    "                    # Prints 'c3'\n",
    "                    # Prints 'e5'\n",
    "                    # Prints 'g7'\n",
    "print(py_list[8])   # Prints 'i9'"
   ]
  },
  {
   "cell_type": "code",
   "execution_count": 3,
   "id": "805fa54e-5c85-421b-a081-d7f4e7f870a2",
   "metadata": {},
   "outputs": [
    {
     "name": "stdout",
     "output_type": "stream",
     "text": [
      "i9\n",
      "a1\n",
      "c3\n",
      "e5\n",
      "g7\n"
     ]
    }
   ],
   "source": [
    "#Modified\n",
    "py_list = [\"a1\", \"b2\", \"c3\", \"d4\", \"e5\", \"f6\", \"g7\", \"h8\", \"i9\", \"j10\"]\n",
    "                    # Prints 'a1'\n",
    "                    # Prints 'c3'\n",
    "                    # Prints 'e5'\n",
    "                    # Prints 'g7'\n",
    "print(py_list[8])   # Prints 'i9'\n",
    "print(py_list[0])\n",
    "print(py_list[2])\n",
    "print(py_list[4])\n",
    "print(py_list[6])\n"
   ]
  },
  {
   "cell_type": "markdown",
   "id": "9403dad9-6e32-461b-8022-c24547290670",
   "metadata": {},
   "source": [
    "__Exercise 3 (Index again) ☻__\n",
    "\n",
    "Given the following list in Python:\n",
    "```python\n",
    "elements = ['Hydrogen',\n",
    "            'Helium', 'Lithium',\n",
    "            'Beryllium', 'Boron', 'Carbon',\n",
    "            'Nitrogen', 'Oxygen',\n",
    "            'Fluorine',\n",
    "            'Neon']\n",
    "```\n",
    "1. Access and print the element at index 4 using forward indexing.\n",
    "1. Access and print the element at index 4 from the end of the list using reverse indexing."
   ]
  },
  {
   "cell_type": "code",
   "execution_count": 7,
   "id": "985221eb-5db5-4523-9309-b401814a2630",
   "metadata": {},
   "outputs": [
    {
     "data": {
      "text/plain": [
       "'Boron'"
      ]
     },
     "execution_count": 7,
     "metadata": {},
     "output_type": "execute_result"
    }
   ],
   "source": [
    "elements = ['Hydrogen',\n",
    "            'Helium', 'Lithium',\n",
    "            'Beryllium', 'Boron', 'Carbon',\n",
    "            'Nitrogen', 'Oxygen',\n",
    "            'Fluorine',\n",
    "            'Neon']\n",
    "\n",
    "#Part 1\n",
    "elements [4]"
   ]
  },
  {
   "cell_type": "code",
   "execution_count": 8,
   "id": "f6936c95-f53f-43ed-9e75-f37c20774edd",
   "metadata": {},
   "outputs": [
    {
     "data": {
      "text/plain": [
       "'Boron'"
      ]
     },
     "execution_count": 8,
     "metadata": {},
     "output_type": "execute_result"
    }
   ],
   "source": [
    "elements = ['Hydrogen',\n",
    "            'Helium', 'Lithium',\n",
    "            'Beryllium', 'Boron', 'Carbon',\n",
    "            'Nitrogen', 'Oxygen',\n",
    "            'Fluorine',\n",
    "            'Neon']\n",
    "\n",
    "#Part 2\n",
    "elements [-6]"
   ]
  },
  {
   "cell_type": "markdown",
   "id": "943c896d-ad51-4682-8376-41d9350d68f1",
   "metadata": {},
   "source": [
    "__Exercise 4 (How many ones) ☻__\n",
    "\n",
    "Use the concepts you learned in this chapter to determine the number of 1’s in the following list of numbers. \n",
    "```python\n",
    "numbers=[45, 60, 1, 30, 96, 1, 96, 57, 16, 1,\n",
    "        99, 62, 86, 43, 42, 60, 59, 1, 1, 35,\n",
    "        83, 47, 34, 28, 68, 23, 22, 92, 1, 79,\n",
    "        1, 29, 94, 72, 46, 47, 1, 74, 32, 20,\n",
    "        8, 37, 35, 1, 89, 29, 86, 19, 43, 61]                  \n",
    "```\n",
    "Here are some hints:\n",
    "\n",
    "- Use a NumPy array.\n",
    "- Ask a question.\n",
    "- `False` is considered `0`, and `True` is considered `1` by `sum()`."
   ]
  },
  {
   "cell_type": "code",
   "execution_count": 11,
   "id": "7df2ed9f-4388-4b96-b260-8cda942ef83f",
   "metadata": {},
   "outputs": [],
   "source": [
    "import numpy as np"
   ]
  },
  {
   "cell_type": "code",
   "execution_count": 12,
   "id": "fcc9d59b-edee-40d0-bca5-2ae79662270e",
   "metadata": {},
   "outputs": [],
   "source": [
    "numbers=[45, 60, 1, 30, 96, 1, 96, 57, 16, 1,\n",
    "        99, 62, 86, 43, 42, 60, 59, 1, 1, 35,\n",
    "        83, 47, 34, 28, 68, 23, 22, 92, 1, 79,\n",
    "        1, 29, 94, 72, 46, 47, 1, 74, 32, 20,\n",
    "        8, 37, 35, 1, 89, 29, 86, 19, 43, 61] \n",
    "\n",
    "np_array_numbers = np.array(numbers)"
   ]
  },
  {
   "cell_type": "code",
   "execution_count": 19,
   "id": "7eb52bc0-1baa-463a-bd81-28cc161e2299",
   "metadata": {},
   "outputs": [
    {
     "data": {
      "text/plain": [
       "array([False, False,  True, False, False,  True, False, False, False,\n",
       "        True, False, False, False, False, False, False, False,  True,\n",
       "        True, False, False, False, False, False, False, False, False,\n",
       "       False,  True, False,  True, False, False, False, False, False,\n",
       "        True, False, False, False, False, False, False,  True, False,\n",
       "       False, False, False, False, False])"
      ]
     },
     "execution_count": 19,
     "metadata": {},
     "output_type": "execute_result"
    }
   ],
   "source": [
    "np_array_numbers == 1\n"
   ]
  },
  {
   "cell_type": "code",
   "execution_count": 24,
   "id": "97de6467-b307-4856-8931-d4985d8e132e",
   "metadata": {},
   "outputs": [],
   "source": [
    "np_list_of_whether_it_is_1 = [False, False,  True, False, False,  True, False, False, False,\n",
    "        True, False, False, False, False, False, False, False,  True,\n",
    "        True, False, False, False, False, False, False, False, False,\n",
    "       False,  True, False,  True, False, False, False, False, False,\n",
    "        True, False, False, False, False, False, False,  True, False,\n",
    "       False, False, False, False, False]\n",
    "np_array_1 = np.array(np_list_of_whether_it_is_1)"
   ]
  },
  {
   "cell_type": "code",
   "execution_count": 25,
   "id": "47399884-cb44-4de4-be56-75aab9fe034a",
   "metadata": {},
   "outputs": [
    {
     "data": {
      "text/plain": [
       "9"
      ]
     },
     "execution_count": 25,
     "metadata": {},
     "output_type": "execute_result"
    }
   ],
   "source": [
    "np_array_1.sum()"
   ]
  }
 ],
 "metadata": {
  "kernelspec": {
   "display_name": "Python 3 (ipykernel)",
   "language": "python",
   "name": "python3"
  },
  "language_info": {
   "codemirror_mode": {
    "name": "ipython",
    "version": 3
   },
   "file_extension": ".py",
   "mimetype": "text/x-python",
   "name": "python",
   "nbconvert_exporter": "python",
   "pygments_lexer": "ipython3",
   "version": "3.11.7"
  },
  "toc": {
   "base_numbering": 1,
   "nav_menu": {},
   "number_sections": true,
   "sideBar": true,
   "skip_h1_title": false,
   "title_cell": "Table of Contents",
   "title_sidebar": "Contents",
   "toc_cell": false,
   "toc_position": {},
   "toc_section_display": true,
   "toc_window_display": false
  },
  "vscode": {
   "interpreter": {
    "hash": "31f2aee4e71d21fbe5cf8b01ff0e069b9275f58929596ceb00d14d90e3e16cd6"
   }
  }
 },
 "nbformat": 4,
 "nbformat_minor": 5
}
